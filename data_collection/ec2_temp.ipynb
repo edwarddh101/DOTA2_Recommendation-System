{
 "cells": [
  {
   "cell_type": "code",
   "execution_count": 3,
   "metadata": {
    "collapsed": false
   },
   "outputs": [],
   "source": [
    "import pandas as pd\n",
    "import numpy as np\n",
    "from sklearn import cross_validation, linear_model\n",
    "from sklearn.ensemble import RandomForestClassifier\n",
    "from sklearn.grid_search import GridSearchCV"
   ]
  },
  {
   "cell_type": "code",
   "execution_count": 4,
   "metadata": {
    "collapsed": false
   },
   "outputs": [],
   "source": [
    "with open('match_history_sample.json') as f:\n",
    "    arr = [next(f) for x in xrange(300)]"
   ]
  },
  {
   "cell_type": "code",
   "execution_count": 5,
   "metadata": {
    "collapsed": false
   },
   "outputs": [],
   "source": [
    "t = map(lambda x: pd.read_json(x), arr)"
   ]
  },
  {
   "cell_type": "code",
   "execution_count": 6,
   "metadata": {
    "collapsed": false
   },
   "outputs": [],
   "source": [
    "df = pd.concat(t,ignore_index=True)"
   ]
  },
  {
   "cell_type": "code",
   "execution_count": 8,
   "metadata": {
    "collapsed": false
   },
   "outputs": [],
   "source": [
    "df = pd.DataFrame(df.matches.tolist())"
   ]
  },
  {
   "cell_type": "code",
   "execution_count": 9,
   "metadata": {
    "collapsed": true
   },
   "outputs": [],
   "source": [
    "df_10player = df[df['human_players']==10]"
   ]
  },
  {
   "cell_type": "code",
   "execution_count": 10,
   "metadata": {
    "collapsed": true
   },
   "outputs": [],
   "source": [
    "def match_features(players):\n",
    "    vec = np.zeros(224, dtype=np.int)\n",
    "    loc = np.append(np.zeros(5, dtype=np.int), np.ones(5, dtype=np.int)*112)\n",
    "    loc+=map(lambda x: x['hero_id']-1, players)\n",
    "    vec[loc]=1\n",
    "    return vec\n",
    "\n",
    "def matches_features(df):\n",
    "    df_feature = df['players'].apply(lambda x: match_features(x))\n",
    "    X = pd.DataFrame(df_feature.tolist())\n",
    "    y = df['radiant_win']\n",
    "    return X, y"
   ]
  },
  {
   "cell_type": "code",
   "execution_count": 11,
   "metadata": {
    "collapsed": true
   },
   "outputs": [],
   "source": [
    "X, y = matches_features(df_10player)"
   ]
  },
  {
   "cell_type": "markdown",
   "metadata": {},
   "source": [
    "## Random Forest"
   ]
  },
  {
   "cell_type": "code",
   "execution_count": 16,
   "metadata": {
    "collapsed": true
   },
   "outputs": [],
   "source": [
    "X_train, X_test, y_train, y_test = cross_validation.train_test_split(X, y, test_size=0.8)"
   ]
  },
  {
   "cell_type": "code",
   "execution_count": 13,
   "metadata": {
    "collapsed": true
   },
   "outputs": [],
   "source": [
    "# Set the parameters by cross validation\n",
    "\n",
    "tuned_parameters =  {'n_estimators':[10, 100, 1000],\n",
    "                     'max_features':[5, 'auto', None],\n",
    "                     'min_samples_leaf':[1, 50, 150]}\n",
    "                    "
   ]
  },
  {
   "cell_type": "code",
   "execution_count": 14,
   "metadata": {
    "collapsed": true
   },
   "outputs": [],
   "source": [
    "clf_rf = RandomForestClassifier(n_jobs=-1, random_state=50)"
   ]
  },
  {
   "cell_type": "code",
   "execution_count": 15,
   "metadata": {
    "collapsed": true
   },
   "outputs": [],
   "source": [
    "clf = GridSearchCV(clf_rf, tuned_parameters, cv=5)"
   ]
  },
  {
   "cell_type": "code",
   "execution_count": 17,
   "metadata": {
    "collapsed": false
   },
   "outputs": [
    {
     "data": {
      "text/plain": [
       "GridSearchCV(cv=5, error_score='raise',\n",
       "       estimator=RandomForestClassifier(bootstrap=True, class_weight=None, criterion='gini',\n",
       "            max_depth=None, max_features='auto', max_leaf_nodes=None,\n",
       "            min_samples_leaf=1, min_samples_split=2,\n",
       "            min_weight_fraction_leaf=0.0, n_estimators=10, n_jobs=-1,\n",
       "            oob_score=False, random_state=50, verbose=0, warm_start=False),\n",
       "       fit_params={}, iid=True, n_jobs=1,\n",
       "       param_grid={'n_estimators': [10, 100, 1000], 'max_features': [5, 'auto', None], 'min_samples_leaf': [1, 50, 150]},\n",
       "       pre_dispatch='2*n_jobs', refit=True, scoring=None, verbose=0)"
      ]
     },
     "execution_count": 17,
     "metadata": {},
     "output_type": "execute_result"
    }
   ],
   "source": [
    "clf.fit(X_train, y_train)"
   ]
  },
  {
   "cell_type": "code",
   "execution_count": 18,
   "metadata": {
    "collapsed": false
   },
   "outputs": [
    {
     "data": {
      "text/plain": [
       "{'max_features': 'auto', 'min_samples_leaf': 50, 'n_estimators': 100}"
      ]
     },
     "execution_count": 18,
     "metadata": {},
     "output_type": "execute_result"
    }
   ],
   "source": [
    "clf.best_params_"
   ]
  },
  {
   "cell_type": "code",
   "execution_count": 19,
   "metadata": {
    "collapsed": false
   },
   "outputs": [
    {
     "data": {
      "text/plain": [
       "0.57214187327823696"
      ]
     },
     "execution_count": 19,
     "metadata": {},
     "output_type": "execute_result"
    }
   ],
   "source": [
    "clf.best_score_"
   ]
  },
  {
   "cell_type": "code",
   "execution_count": 20,
   "metadata": {
    "collapsed": false
   },
   "outputs": [
    {
     "data": {
      "text/plain": [
       "RandomForestClassifier(bootstrap=True, class_weight=None, criterion='gini',\n",
       "            max_depth=None, max_features='auto', max_leaf_nodes=None,\n",
       "            min_samples_leaf=50, min_samples_split=2,\n",
       "            min_weight_fraction_leaf=0.0, n_estimators=100, n_jobs=-1,\n",
       "            oob_score=False, random_state=50, verbose=0, warm_start=False)"
      ]
     },
     "execution_count": 20,
     "metadata": {},
     "output_type": "execute_result"
    }
   ],
   "source": [
    "clf.best_estimator_"
   ]
  },
  {
   "cell_type": "code",
   "execution_count": 23,
   "metadata": {
    "collapsed": false
   },
   "outputs": [
    {
     "data": {
      "text/plain": [
       "[mean: 0.51911, std: 0.01306, params: {'max_features': 5, 'n_estimators': 10, 'min_samples_leaf': 1},\n",
       " mean: 0.55303, std: 0.01075, params: {'max_features': 5, 'n_estimators': 100, 'min_samples_leaf': 1},\n",
       " mean: 0.56680, std: 0.01256, params: {'max_features': 5, 'n_estimators': 1000, 'min_samples_leaf': 1},\n",
       " mean: 0.55561, std: 0.01197, params: {'max_features': 5, 'n_estimators': 10, 'min_samples_leaf': 50},\n",
       " mean: 0.55975, std: 0.00442, params: {'max_features': 5, 'n_estimators': 100, 'min_samples_leaf': 50},\n",
       " mean: 0.55647, std: 0.00456, params: {'max_features': 5, 'n_estimators': 1000, 'min_samples_leaf': 50},\n",
       " mean: 0.53030, std: 0.00411, params: {'max_features': 5, 'n_estimators': 10, 'min_samples_leaf': 150},\n",
       " mean: 0.52531, std: 0.00018, params: {'max_features': 5, 'n_estimators': 100, 'min_samples_leaf': 150},\n",
       " mean: 0.52531, std: 0.00018, params: {'max_features': 5, 'n_estimators': 1000, 'min_samples_leaf': 150},\n",
       " mean: 0.51636, std: 0.01105, params: {'max_features': 'auto', 'n_estimators': 10, 'min_samples_leaf': 1},\n",
       " mean: 0.55337, std: 0.00270, params: {'max_features': 'auto', 'n_estimators': 100, 'min_samples_leaf': 1},\n",
       " mean: 0.56181, std: 0.00994, params: {'max_features': 'auto', 'n_estimators': 1000, 'min_samples_leaf': 1},\n",
       " mean: 0.54528, std: 0.00552, params: {'max_features': 'auto', 'n_estimators': 10, 'min_samples_leaf': 50},\n",
       " mean: 0.57214, std: 0.00891, params: {'max_features': 'auto', 'n_estimators': 100, 'min_samples_leaf': 50},\n",
       " mean: 0.56990, std: 0.01373, params: {'max_features': 'auto', 'n_estimators': 1000, 'min_samples_leaf': 50},\n",
       " mean: 0.53254, std: 0.01072, params: {'max_features': 'auto', 'n_estimators': 10, 'min_samples_leaf': 150},\n",
       " mean: 0.53495, std: 0.00362, params: {'max_features': 'auto', 'n_estimators': 100, 'min_samples_leaf': 150},\n",
       " mean: 0.53409, std: 0.00723, params: {'max_features': 'auto', 'n_estimators': 1000, 'min_samples_leaf': 150},\n",
       " mean: 0.53168, std: 0.00740, params: {'max_features': None, 'n_estimators': 10, 'min_samples_leaf': 1},\n",
       " mean: 0.55269, std: 0.01278, params: {'max_features': None, 'n_estimators': 100, 'min_samples_leaf': 1},\n",
       " mean: 0.55940, std: 0.01128, params: {'max_features': None, 'n_estimators': 1000, 'min_samples_leaf': 1},\n",
       " mean: 0.55406, std: 0.01540, params: {'max_features': None, 'n_estimators': 10, 'min_samples_leaf': 50},\n",
       " mean: 0.56250, std: 0.01572, params: {'max_features': None, 'n_estimators': 100, 'min_samples_leaf': 50},\n",
       " mean: 0.56543, std: 0.01137, params: {'max_features': None, 'n_estimators': 1000, 'min_samples_leaf': 50},\n",
       " mean: 0.53977, std: 0.00705, params: {'max_features': None, 'n_estimators': 10, 'min_samples_leaf': 150},\n",
       " mean: 0.53908, std: 0.00638, params: {'max_features': None, 'n_estimators': 100, 'min_samples_leaf': 150},\n",
       " mean: 0.54236, std: 0.00700, params: {'max_features': None, 'n_estimators': 1000, 'min_samples_leaf': 150}]"
      ]
     },
     "execution_count": 23,
     "metadata": {},
     "output_type": "execute_result"
    }
   ],
   "source": [
    "clf.grid_scores_"
   ]
  },
  {
   "cell_type": "code",
   "execution_count": 24,
   "metadata": {
    "collapsed": false
   },
   "outputs": [
    {
     "data": {
      "text/plain": [
       "array([ 0.58512653,  0.57927354,  0.58667585,  0.58340506,  0.58626033])"
      ]
     },
     "execution_count": 24,
     "metadata": {},
     "output_type": "execute_result"
    }
   ],
   "source": [
    "rf = RandomForestClassifier(n_estimators=10000, min_samples_leaf=50, n_jobs=-1)\n",
    "cross_validation.cross_val_score(rf, X, y, cv=5)"
   ]
  },
  {
   "cell_type": "code",
   "execution_count": 25,
   "metadata": {
    "collapsed": false
   },
   "outputs": [
    {
     "data": {
      "text/plain": [
       "array([ 0.58495438,  0.57858495,  0.5865037 ,  0.58374935,  0.58660468])"
      ]
     },
     "execution_count": 25,
     "metadata": {},
     "output_type": "execute_result"
    }
   ],
   "source": [
    "rf = RandomForestClassifier(n_estimators=20000, min_samples_leaf=50, n_jobs=-1)\n",
    "cross_validation.cross_val_score(rf, X, y, cv=5)"
   ]
  },
  {
   "cell_type": "code",
   "execution_count": null,
   "metadata": {
    "collapsed": true
   },
   "outputs": [],
   "source": []
  }
 ],
 "metadata": {
  "kernelspec": {
   "display_name": "Python 2",
   "language": "python",
   "name": "python2"
  },
  "language_info": {
   "codemirror_mode": {
    "name": "ipython",
    "version": 2
   },
   "file_extension": ".py",
   "mimetype": "text/x-python",
   "name": "python",
   "nbconvert_exporter": "python",
   "pygments_lexer": "ipython2",
   "version": "2.7.11"
  }
 },
 "nbformat": 4,
 "nbformat_minor": 0
}

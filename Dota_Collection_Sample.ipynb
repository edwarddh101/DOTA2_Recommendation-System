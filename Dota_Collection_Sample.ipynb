{
 "cells": [
  {
   "cell_type": "code",
   "execution_count": 1,
   "metadata": {
    "collapsed": true
   },
   "outputs": [],
   "source": [
    "import os #, logging, argparse\n",
    "import dota2api\n",
    "# from util import get_game_mode_string\n",
    "from pymongo import MongoClient\n",
    "from time import sleep\n",
    "from sys import exit"
   ]
  },
  {
   "cell_type": "code",
   "execution_count": 3,
   "metadata": {
    "collapsed": false
   },
   "outputs": [],
   "source": [
    "#connect to mongo db\n",
    "mongo_client=MongoClient()\n",
    "db = mongo_client.dota2\n",
    "coll = db.match_history\n"
   ]
  },
  {
   "cell_type": "code",
   "execution_count": 4,
   "metadata": {
    "collapsed": true
   },
   "outputs": [],
   "source": [
    "#set up dota2api\n",
    "\n",
    "api = dota2api.Initialise(logging=True)"
   ]
  },
  {
   "cell_type": "code",
   "execution_count": 6,
   "metadata": {
    "collapsed": true
   },
   "outputs": [],
   "source": [
    "start_match_seq_num = 1704401237"
   ]
  },
  {
   "cell_type": "code",
   "execution_count": 7,
   "metadata": {
    "collapsed": true
   },
   "outputs": [],
   "source": [
    "match_temp = api.get_match_history_by_seq_num(start_match_seq_num-1)"
   ]
  },
  {
   "cell_type": "code",
   "execution_count": 9,
   "metadata": {
    "collapsed": false
   },
   "outputs": [
    {
     "data": {
      "text/plain": [
       "[u'status', u'matches']"
      ]
     },
     "execution_count": 9,
     "metadata": {},
     "output_type": "execute_result"
    }
   ],
   "source": [
    "match_temp.keys()"
   ]
  },
  {
   "cell_type": "code",
   "execution_count": 12,
   "metadata": {
    "collapsed": false,
    "scrolled": true
   },
   "outputs": [
    {
     "data": {
      "text/plain": [
       "1704401237"
      ]
     },
     "execution_count": 12,
     "metadata": {},
     "output_type": "execute_result"
    }
   ],
   "source": [
    "match_temp['matches'][0]['match_seq_num']"
   ]
  },
  {
   "cell_type": "code",
   "execution_count": 13,
   "metadata": {
    "collapsed": false
   },
   "outputs": [
    {
     "data": {
      "text/plain": [
       "2"
      ]
     },
     "execution_count": 13,
     "metadata": {},
     "output_type": "execute_result"
    }
   ],
   "source": [
    "len(match_temp)"
   ]
  },
  {
   "cell_type": "code",
   "execution_count": 14,
   "metadata": {
    "collapsed": false
   },
   "outputs": [
    {
     "data": {
      "text/plain": [
       "ObjectId('567270ae22f14a0f2ec02f29')"
      ]
     },
     "execution_count": 14,
     "metadata": {},
     "output_type": "execute_result"
    }
   ],
   "source": [
    "coll.insert(match_temp)"
   ]
  },
  {
   "cell_type": "code",
   "execution_count": 16,
   "metadata": {
    "collapsed": false,
    "scrolled": false
   },
   "outputs": [
    {
     "data": {
      "text/plain": [
       "1"
      ]
     },
     "execution_count": 16,
     "metadata": {},
     "output_type": "execute_result"
    }
   ],
   "source": [
    "coll.count()"
   ]
  },
  {
   "cell_type": "code",
   "execution_count": 19,
   "metadata": {
    "collapsed": false
   },
   "outputs": [
    {
     "data": {
      "text/plain": [
       "1"
      ]
     },
     "execution_count": 19,
     "metadata": {},
     "output_type": "execute_result"
    }
   ],
   "source": [
    "match_temp['status']"
   ]
  },
  {
   "cell_type": "markdown",
   "metadata": {},
   "source": [
    "** How to deal with the status not '1'"
   ]
  },
  {
   "cell_type": "code",
   "execution_count": 20,
   "metadata": {
    "collapsed": false
   },
   "outputs": [
    {
     "data": {
      "text/plain": [
       "dota2api.src.response.Dota2Dict"
      ]
     },
     "execution_count": 20,
     "metadata": {},
     "output_type": "execute_result"
    }
   ],
   "source": [
    "type(match_temp)"
   ]
  },
  {
   "cell_type": "code",
   "execution_count": 21,
   "metadata": {
    "collapsed": false
   },
   "outputs": [
    {
     "data": {
      "text/plain": [
       "list"
      ]
     },
     "execution_count": 21,
     "metadata": {},
     "output_type": "execute_result"
    }
   ],
   "source": [
    "type(match_temp['matches'])"
   ]
  },
  {
   "cell_type": "code",
   "execution_count": 22,
   "metadata": {
    "collapsed": false
   },
   "outputs": [
    {
     "data": {
      "text/plain": [
       "int"
      ]
     },
     "execution_count": 22,
     "metadata": {},
     "output_type": "execute_result"
    }
   ],
   "source": [
    "type(match_temp['status'])"
   ]
  },
  {
   "cell_type": "code",
   "execution_count": 23,
   "metadata": {
    "collapsed": false
   },
   "outputs": [
    {
     "data": {
      "text/plain": [
       "100"
      ]
     },
     "execution_count": 23,
     "metadata": {},
     "output_type": "execute_result"
    }
   ],
   "source": [
    "len(match_temp['matches'])"
   ]
  },
  {
   "cell_type": "code",
   "execution_count": 24,
   "metadata": {
    "collapsed": false
   },
   "outputs": [
    {
     "data": {
      "text/plain": [
       "{u'n': 0, u'ok': 1}"
      ]
     },
     "execution_count": 24,
     "metadata": {},
     "output_type": "execute_result"
    }
   ],
   "source": [
    "db.coll.remove()"
   ]
  },
  {
   "cell_type": "code",
   "execution_count": 26,
   "metadata": {
    "collapsed": true
   },
   "outputs": [],
   "source": [
    "if match_temp['status'] != 1:\n",
    "    print match_temp['statusDetail']\n",
    "else:\n",
    "    for match in match_temp['matches']:\n",
    "        db.coll.insert(match)"
   ]
  },
  {
   "cell_type": "code",
   "execution_count": 27,
   "metadata": {
    "collapsed": false
   },
   "outputs": [
    {
     "data": {
      "text/plain": [
       "100"
      ]
     },
     "execution_count": 27,
     "metadata": {},
     "output_type": "execute_result"
    }
   ],
   "source": [
    "db.coll.count()"
   ]
  },
  {
   "cell_type": "code",
   "execution_count": 29,
   "metadata": {
    "collapsed": true
   },
   "outputs": [],
   "source": [
    "import datetime"
   ]
  },
  {
   "cell_type": "code",
   "execution_count": 30,
   "metadata": {
    "collapsed": true
   },
   "outputs": [],
   "source": [
    "t1 = datetime.datetime.now()"
   ]
  },
  {
   "cell_type": "code",
   "execution_count": 31,
   "metadata": {
    "collapsed": false
   },
   "outputs": [
    {
     "data": {
      "text/plain": [
       "datetime.datetime(2015, 12, 17, 0, 41, 38, 348199)"
      ]
     },
     "execution_count": 31,
     "metadata": {},
     "output_type": "execute_result"
    }
   ],
   "source": [
    "t1"
   ]
  },
  {
   "cell_type": "code",
   "execution_count": 32,
   "metadata": {
    "collapsed": true
   },
   "outputs": [],
   "source": [
    "t2 = datetime.datetime.now()"
   ]
  },
  {
   "cell_type": "code",
   "execution_count": 33,
   "metadata": {
    "collapsed": false
   },
   "outputs": [
    {
     "data": {
      "text/plain": [
       "datetime.datetime(2015, 12, 17, 0, 41, 56, 733514)"
      ]
     },
     "execution_count": 33,
     "metadata": {},
     "output_type": "execute_result"
    }
   ],
   "source": [
    "t2"
   ]
  },
  {
   "cell_type": "code",
   "execution_count": 34,
   "metadata": {
    "collapsed": false
   },
   "outputs": [
    {
     "data": {
      "text/plain": [
       "datetime.timedelta(0, 18, 385315)"
      ]
     },
     "execution_count": 34,
     "metadata": {},
     "output_type": "execute_result"
    }
   ],
   "source": [
    "t2 - t1"
   ]
  },
  {
   "cell_type": "code",
   "execution_count": 35,
   "metadata": {
    "collapsed": false
   },
   "outputs": [
    {
     "name": "stdout",
     "output_type": "stream",
     "text": [
      "0:00:18.385315\n"
     ]
    }
   ],
   "source": [
    "print str(t2-t1)"
   ]
  },
  {
   "cell_type": "code",
   "execution_count": null,
   "metadata": {
    "collapsed": true
   },
   "outputs": [],
   "source": [
    "def get_match_history():\n",
    "    n=0\n",
    "    start_match_seq_num = 1704401237\n",
    "    t0 = datetime.datetime.now()\n",
    "    \n",
    "    while n < 400:\n",
    "        if n % 40 ==0:\n",
    "            num = n+1\n",
    "            t1 = datetime.datetime.now()\n",
    "            delta_t = str(t1 - t0)\n",
    "            print \"Process {0} request use time: {1}\".format(num, delta_t)\n",
    "            \n",
    "        sleep(1.0)\n",
    "        \n",
    "        gmh = api.get_match_history_by_seq_num(start_at_match_seq_num=start_match_seq_num,\n",
    "                                               matches_requested=400)\n",
    "        \n",
    "        if gmh['status'] != 1:\n",
    "            print gmh['statusDetail']\n",
    "        else:\n",
    "            for match in gmh['matches']:\n",
    "                \n",
    "                match_id = match['match_id']\n",
    "\n",
    "                if db.coll.find_one({'match_id':match_id}) != None:\n",
    "#                 logger.debug('Encountered match %s already in database, exiting.' % match_id)\n",
    "                    print '.'\n",
    "                    exit(0)\n",
    "\n",
    "                sleep(1.0)\n",
    "                \n",
    "                db.coll.insert(match)\n",
    "                \n",
    "        last_match_seq_num = match[-1]['match_seq_num']\n",
    "        logger.debug('Match_id of last match of GMH query: %s' % last_match_id)\n",
    "        # We don't want to record the last match twice, so subtract 1\n",
    "        start_match_seq_num = last_match_seq_num + 1\n",
    "        n+=1"
   ]
  },
  {
   "cell_type": "code",
   "execution_count": 37,
   "metadata": {
    "collapsed": false
   },
   "outputs": [
    {
     "data": {
      "text/plain": [
       "200"
      ]
     },
     "execution_count": 37,
     "metadata": {},
     "output_type": "execute_result"
    }
   ],
   "source": [
    "db.coll.count()"
   ]
  },
  {
   "cell_type": "code",
   "execution_count": 39,
   "metadata": {
    "collapsed": false
   },
   "outputs": [
    {
     "data": {
      "text/plain": [
       "1928833457"
      ]
     },
     "execution_count": 39,
     "metadata": {},
     "output_type": "execute_result"
    }
   ],
   "source": [
    "match_temp['matches'][0]['match_id']"
   ]
  },
  {
   "cell_type": "code",
   "execution_count": 41,
   "metadata": {
    "collapsed": false
   },
   "outputs": [
    {
     "data": {
      "text/plain": [
       "{u'_id': ObjectId('567273e722f14a0f2ec02f2a'),\n",
       " u'barracks_status_dire': 51,\n",
       " u'barracks_status_radiant': 63,\n",
       " u'cluster': 133,\n",
       " u'duration': 1691,\n",
       " u'engine': 1,\n",
       " u'first_blood_time': 109,\n",
       " u'game_mode': 22,\n",
       " u'human_players': 10,\n",
       " u'leagueid': 0,\n",
       " u'lobby_type': 7,\n",
       " u'match_id': 1928833457,\n",
       " u'match_seq_num': 1704401237,\n",
       " u'negative_votes': 32,\n",
       " u'players': [{u'ability_upgrades': [{u'ability': 5163,\n",
       "     u'level': 1,\n",
       "     u'time': 475},\n",
       "    {u'ability': 5164, u'level': 2, u'time': 575},\n",
       "    {u'ability': 5163, u'level': 3, u'time': 585},\n",
       "    {u'ability': 5162, u'level': 4, u'time': 722},\n",
       "    {u'ability': 5163, u'level': 5, u'time': 806},\n",
       "    {u'ability': 5165, u'level': 6, u'time': 1101},\n",
       "    {u'ability': 5163, u'level': 7, u'time': 1190},\n",
       "    {u'ability': 5162, u'level': 8, u'time': 1288},\n",
       "    {u'ability': 5162, u'level': 9, u'time': 1466},\n",
       "    {u'ability': 5162, u'level': 10, u'time': 1673},\n",
       "    {u'ability': 5165, u'level': 11, u'time': 1708},\n",
       "    {u'ability': 5164, u'level': 12, u'time': 1868},\n",
       "    {u'ability': 5164, u'level': 13, u'time': 1903},\n",
       "    {u'ability': 5164, u'level': 14, u'time': 2025}],\n",
       "   u'account_id': 117421467,\n",
       "   u'assists': 11,\n",
       "   u'deaths': 4,\n",
       "   u'denies': 2,\n",
       "   u'gold': 2609,\n",
       "   u'gold_per_min': 408,\n",
       "   u'gold_spent': 8950,\n",
       "   u'hero_damage': 5133,\n",
       "   u'hero_healing': 551,\n",
       "   u'hero_id': 37,\n",
       "   u'item_0': 65,\n",
       "   u'item_1': 100,\n",
       "   u'item_2': 0,\n",
       "   u'item_3': 30,\n",
       "   u'item_4': 188,\n",
       "   u'item_5': 29,\n",
       "   u'kills': 2,\n",
       "   u'last_hits': 91,\n",
       "   u'leaver_status': 0,\n",
       "   u'level': 14,\n",
       "   u'player_slot': 0,\n",
       "   u'tower_damage': 148,\n",
       "   u'xp_per_min': 400},\n",
       "  {u'ability_upgrades': [{u'ability': 5485, u'level': 1, u'time': 329},\n",
       "    {u'ability': 5487, u'level': 2, u'time': 451},\n",
       "    {u'ability': 5486, u'level': 3, u'time': 567},\n",
       "    {u'ability': 5486, u'level': 4, u'time': 628},\n",
       "    {u'ability': 5486, u'level': 5, u'time': 771},\n",
       "    {u'ability': 5488, u'level': 6, u'time': 830},\n",
       "    {u'ability': 5486, u'level': 7, u'time': 895},\n",
       "    {u'ability': 5487, u'level': 8, u'time': 895},\n",
       "    {u'ability': 5487, u'level': 9, u'time': 1257},\n",
       "    {u'ability': 5487, u'level': 10, u'time': 1351},\n",
       "    {u'ability': 5488, u'level': 11, u'time': 1516},\n",
       "    {u'ability': 5485, u'level': 12, u'time': 1799},\n",
       "    {u'ability': 5485, u'level': 13, u'time': 1935},\n",
       "    {u'ability': 5485, u'level': 14, u'time': 2042},\n",
       "    {u'ability': 5002, u'level': 15, u'time': 2043}],\n",
       "   u'account_id': 89208003,\n",
       "   u'assists': 16,\n",
       "   u'deaths': 6,\n",
       "   u'denies': 1,\n",
       "   u'gold': 746,\n",
       "   u'gold_per_min': 395,\n",
       "   u'gold_spent': 10015,\n",
       "   u'hero_damage': 6244,\n",
       "   u'hero_healing': 4558,\n",
       "   u'hero_id': 91,\n",
       "   u'item_0': 231,\n",
       "   u'item_1': 92,\n",
       "   u'item_2': 36,\n",
       "   u'item_3': 41,\n",
       "   u'item_4': 254,\n",
       "   u'item_5': 0,\n",
       "   u'kills': 4,\n",
       "   u'last_hits': 62,\n",
       "   u'leaver_status': 0,\n",
       "   u'level': 15,\n",
       "   u'player_slot': 1,\n",
       "   u'tower_damage': 656,\n",
       "   u'xp_per_min': 459},\n",
       "  {u'ability_upgrades': [{u'ability': 5549, u'level': 1, u'time': 397},\n",
       "    {u'ability': 5550, u'level': 2, u'time': 443},\n",
       "    {u'ability': 5549, u'level': 3, u'time': 484},\n",
       "    {u'ability': 5550, u'level': 4, u'time': 522},\n",
       "    {u'ability': 5549, u'level': 5, u'time': 621},\n",
       "    {u'ability': 5551, u'level': 6, u'time': 711},\n",
       "    {u'ability': 5549, u'level': 7, u'time': 833},\n",
       "    {u'ability': 5550, u'level': 8, u'time': 945},\n",
       "    {u'ability': 5550, u'level': 9, u'time': 1060},\n",
       "    {u'ability': 5548, u'level': 10, u'time': 1086},\n",
       "    {u'ability': 5551, u'level': 11, u'time': 1172},\n",
       "    {u'ability': 5548, u'level': 12, u'time': 1395},\n",
       "    {u'ability': 5548, u'level': 13, u'time': 1411},\n",
       "    {u'ability': 5548, u'level': 14, u'time': 1535},\n",
       "    {u'ability': 5002, u'level': 15, u'time': 1678},\n",
       "    {u'ability': 5551, u'level': 16, u'time': 1869},\n",
       "    {u'ability': 5002, u'level': 17, u'time': 1986},\n",
       "    {u'ability': 5002, u'level': 18, u'time': 1997}],\n",
       "   u'account_id': 90892734,\n",
       "   u'assists': 6,\n",
       "   u'deaths': 3,\n",
       "   u'denies': 10,\n",
       "   u'gold': 3415,\n",
       "   u'gold_per_min': 633,\n",
       "   u'gold_spent': 14360,\n",
       "   u'hero_damage': 17561,\n",
       "   u'hero_healing': 0,\n",
       "   u'hero_id': 99,\n",
       "   u'item_0': 125,\n",
       "   u'item_1': 63,\n",
       "   u'item_2': 88,\n",
       "   u'item_3': 34,\n",
       "   u'item_4': 210,\n",
       "   u'item_5': 137,\n",
       "   u'kills': 15,\n",
       "   u'last_hits': 183,\n",
       "   u'leaver_status': 0,\n",
       "   u'level': 18,\n",
       "   u'player_slot': 2,\n",
       "   u'tower_damage': 3042,\n",
       "   u'xp_per_min': 668},\n",
       "  {u'ability_upgrades': [{u'ability': 5106, u'level': 1, u'time': 408},\n",
       "    {u'ability': 5107, u'level': 2, u'time': 441},\n",
       "    {u'ability': 5107, u'level': 3, u'time': 527},\n",
       "    {u'ability': 5106, u'level': 4, u'time': 579},\n",
       "    {u'ability': 5107, u'level': 5, u'time': 676},\n",
       "    {u'ability': 5109, u'level': 6, u'time': 786},\n",
       "    {u'ability': 5107, u'level': 7, u'time': 832},\n",
       "    {u'ability': 5106, u'level': 8, u'time': 892},\n",
       "    {u'ability': 5106, u'level': 9, u'time': 1135},\n",
       "    {u'ability': 5108, u'level': 10, u'time': 1257},\n",
       "    {u'ability': 5108, u'level': 11, u'time': 1300},\n",
       "    {u'ability': 5109, u'level': 12, u'time': 1498},\n",
       "    {u'ability': 5108, u'level': 13, u'time': 1632},\n",
       "    {u'ability': 5108, u'level': 14, u'time': 1679},\n",
       "    {u'ability': 5002, u'level': 15, u'time': 1877},\n",
       "    {u'ability': 5109, u'level': 16, u'time': 2038}],\n",
       "   u'account_id': 250114507,\n",
       "   u'assists': 14,\n",
       "   u'deaths': 3,\n",
       "   u'denies': 17,\n",
       "   u'gold': 922,\n",
       "   u'gold_per_min': 597,\n",
       "   u'gold_spent': 16100,\n",
       "   u'hero_damage': 15116,\n",
       "   u'hero_healing': 0,\n",
       "   u'hero_id': 19,\n",
       "   u'item_0': 63,\n",
       "   u'item_1': 36,\n",
       "   u'item_2': 185,\n",
       "   u'item_3': 1,\n",
       "   u'item_4': 112,\n",
       "   u'item_5': 108,\n",
       "   u'kills': 9,\n",
       "   u'last_hits': 187,\n",
       "   u'leaver_status': 0,\n",
       "   u'level': 16,\n",
       "   u'player_slot': 3,\n",
       "   u'tower_damage': 4827,\n",
       "   u'xp_per_min': 518},\n",
       "  {u'ability_upgrades': [{u'ability': 5320, u'level': 1, u'time': 424},\n",
       "    {u'ability': 5322, u'level': 2, u'time': 475},\n",
       "    {u'ability': 5322, u'level': 3, u'time': 535},\n",
       "    {u'ability': 5320, u'level': 4, u'time': 565},\n",
       "    {u'ability': 5322, u'level': 5, u'time': 661},\n",
       "    {u'ability': 5323, u'level': 6, u'time': 743},\n",
       "    {u'ability': 5322, u'level': 7, u'time': 790},\n",
       "    {u'ability': 5321, u'level': 8, u'time': 995},\n",
       "    {u'ability': 5321, u'level': 9, u'time': 1070},\n",
       "    {u'ability': 5321, u'level': 10, u'time': 1251},\n",
       "    {u'ability': 5323, u'level': 11, u'time': 1270},\n",
       "    {u'ability': 5321, u'level': 12, u'time': 1563},\n",
       "    {u'ability': 5320, u'level': 13, u'time': 1632},\n",
       "    {u'ability': 5320, u'level': 14, u'time': 1752},\n",
       "    {u'ability': 5002, u'level': 15, u'time': 1830},\n",
       "    {u'ability': 5323, u'level': 16, u'time': 1874},\n",
       "    {u'ability': 5002, u'level': 17, u'time': 1913},\n",
       "    {u'ability': 5002, u'level': 18, u'time': 2045}],\n",
       "   u'account_id': 6214367,\n",
       "   u'assists': 14,\n",
       "   u'deaths': 4,\n",
       "   u'denies': 0,\n",
       "   u'gold': 1373,\n",
       "   u'gold_per_min': 477,\n",
       "   u'gold_spent': 12655,\n",
       "   u'hero_damage': 13162,\n",
       "   u'hero_healing': 0,\n",
       "   u'hero_id': 65,\n",
       "   u'item_0': 1,\n",
       "   u'item_1': 102,\n",
       "   u'item_2': 36,\n",
       "   u'item_3': 214,\n",
       "   u'item_4': 152,\n",
       "   u'item_5': 65,\n",
       "   u'kills': 7,\n",
       "   u'last_hits': 97,\n",
       "   u'leaver_status': 0,\n",
       "   u'level': 18,\n",
       "   u'player_slot': 4,\n",
       "   u'tower_damage': 0,\n",
       "   u'xp_per_min': 639},\n",
       "  {u'ability_upgrades': [{u'ability': 5280, u'level': 1, u'time': 325},\n",
       "    {u'ability': 5279, u'level': 2, u'time': 482},\n",
       "    {u'ability': 5280, u'level': 3, u'time': 538},\n",
       "    {u'ability': 5279, u'level': 4, u'time': 625},\n",
       "    {u'ability': 5280, u'level': 5, u'time': 697},\n",
       "    {u'ability': 5279, u'level': 6, u'time': 817},\n",
       "    {u'ability': 5282, u'level': 7, u'time': 871},\n",
       "    {u'ability': 5280, u'level': 8, u'time': 939},\n",
       "    {u'ability': 5281, u'level': 9, u'time': 1059},\n",
       "    {u'ability': 5279, u'level': 10, u'time': 1156},\n",
       "    {u'ability': 5282, u'level': 11, u'time': 1206},\n",
       "    {u'ability': 5281, u'level': 12, u'time': 1851}],\n",
       "   u'account_id': 4294967295L,\n",
       "   u'assists': 6,\n",
       "   u'deaths': 8,\n",
       "   u'denies': 1,\n",
       "   u'gold': 1,\n",
       "   u'gold_per_min': 294,\n",
       "   u'gold_spent': 6525,\n",
       "   u'hero_damage': 7468,\n",
       "   u'hero_healing': 492,\n",
       "   u'hero_id': 61,\n",
       "   u'item_0': 34,\n",
       "   u'item_1': 81,\n",
       "   u'item_2': 0,\n",
       "   u'item_3': 63,\n",
       "   u'item_4': 178,\n",
       "   u'item_5': 18,\n",
       "   u'kills': 5,\n",
       "   u'last_hits': 80,\n",
       "   u'leaver_status': 1,\n",
       "   u'level': 12,\n",
       "   u'player_slot': 128,\n",
       "   u'tower_damage': 54,\n",
       "   u'xp_per_min': 308},\n",
       "  {u'ability_upgrades': [{u'ability': 5272, u'level': 1, u'time': 306},\n",
       "    {u'ability': 5273, u'level': 2, u'time': 473},\n",
       "    {u'ability': 5272, u'level': 3, u'time': 497},\n",
       "    {u'ability': 5271, u'level': 4, u'time': 553},\n",
       "    {u'ability': 5272, u'level': 5, u'time': 629},\n",
       "    {u'ability': 5274, u'level': 6, u'time': 702},\n",
       "    {u'ability': 5272, u'level': 7, u'time': 785},\n",
       "    {u'ability': 5273, u'level': 8, u'time': 832},\n",
       "    {u'ability': 5273, u'level': 9, u'time': 901},\n",
       "    {u'ability': 5273, u'level': 10, u'time': 990},\n",
       "    {u'ability': 5274, u'level': 11, u'time': 1055},\n",
       "    {u'ability': 5271, u'level': 12, u'time': 1331},\n",
       "    {u'ability': 5271, u'level': 13, u'time': 1428},\n",
       "    {u'ability': 5271, u'level': 14, u'time': 1663},\n",
       "    {u'ability': 5002, u'level': 15, u'time': 1752}],\n",
       "   u'account_id': 190213653,\n",
       "   u'assists': 1,\n",
       "   u'deaths': 5,\n",
       "   u'denies': 11,\n",
       "   u'gold': 1,\n",
       "   u'gold_per_min': 510,\n",
       "   u'gold_spent': 18180,\n",
       "   u'hero_damage': 11955,\n",
       "   u'hero_healing': 0,\n",
       "   u'hero_id': 59,\n",
       "   u'item_0': 202,\n",
       "   u'item_1': 0,\n",
       "   u'item_2': 0,\n",
       "   u'item_3': 0,\n",
       "   u'item_4': 0,\n",
       "   u'item_5': 0,\n",
       "   u'kills': 10,\n",
       "   u'last_hits': 135,\n",
       "   u'leaver_status': 3,\n",
       "   u'level': 15,\n",
       "   u'player_slot': 129,\n",
       "   u'tower_damage': 1065,\n",
       "   u'xp_per_min': 456},\n",
       "  {u'ability_upgrades': [{u'ability': 5353, u'level': 1, u'time': 366},\n",
       "    {u'ability': 5355, u'level': 2, u'time': 505},\n",
       "    {u'ability': 5354, u'level': 3, u'time': 728},\n",
       "    {u'ability': 5355, u'level': 4, u'time': 850},\n",
       "    {u'ability': 5355, u'level': 5, u'time': 967},\n",
       "    {u'ability': 5356, u'level': 6, u'time': 1182},\n",
       "    {u'ability': 5355, u'level': 7, u'time': 1297},\n",
       "    {u'ability': 5353, u'level': 8, u'time': 1420},\n",
       "    {u'ability': 5353, u'level': 9, u'time': 1605},\n",
       "    {u'ability': 5356, u'level': 10, u'time': 1738},\n",
       "    {u'ability': 5354, u'level': 11, u'time': 1742},\n",
       "    {u'ability': 5353, u'level': 12, u'time': 1825},\n",
       "    {u'ability': 5354, u'level': 13, u'time': 1863}],\n",
       "   u'account_id': 99737526,\n",
       "   u'assists': 7,\n",
       "   u'deaths': 5,\n",
       "   u'denies': 0,\n",
       "   u'gold': 1418,\n",
       "   u'gold_per_min': 320,\n",
       "   u'gold_spent': 6275,\n",
       "   u'hero_damage': 4373,\n",
       "   u'hero_healing': 0,\n",
       "   u'hero_id': 71,\n",
       "   u'item_0': 63,\n",
       "   u'item_1': 21,\n",
       "   u'item_2': 92,\n",
       "   u'item_3': 34,\n",
       "   u'item_4': 182,\n",
       "   u'item_5': 65,\n",
       "   u'kills': 0,\n",
       "   u'last_hits': 39,\n",
       "   u'leaver_status': 0,\n",
       "   u'level': 13,\n",
       "   u'player_slot': 130,\n",
       "   u'tower_damage': 0,\n",
       "   u'xp_per_min': 351},\n",
       "  {u'ability_upgrades': [{u'ability': 5194, u'level': 1, u'time': 409},\n",
       "    {u'ability': 5196, u'level': 2, u'time': 445},\n",
       "    {u'ability': 5194, u'level': 3, u'time': 479},\n",
       "    {u'ability': 5196, u'level': 4, u'time': 617},\n",
       "    {u'ability': 5194, u'level': 5, u'time': 679},\n",
       "    {u'ability': 5197, u'level': 6, u'time': 778},\n",
       "    {u'ability': 5194, u'level': 7, u'time': 921},\n",
       "    {u'ability': 5195, u'level': 8, u'time': 993},\n",
       "    {u'ability': 5195, u'level': 9, u'time': 1210},\n",
       "    {u'ability': 5195, u'level': 10, u'time': 1426},\n",
       "    {u'ability': 5195, u'level': 11, u'time': 1477},\n",
       "    {u'ability': 5196, u'level': 12, u'time': 1828},\n",
       "    {u'ability': 5196, u'level': 13, u'time': 1902},\n",
       "    {u'ability': 5197, u'level': 14, u'time': 1903}],\n",
       "   u'account_id': 86930446,\n",
       "   u'assists': 3,\n",
       "   u'deaths': 9,\n",
       "   u'denies': 6,\n",
       "   u'gold': 1322,\n",
       "   u'gold_per_min': 349,\n",
       "   u'gold_spent': 7900,\n",
       "   u'hero_damage': 2970,\n",
       "   u'hero_healing': 0,\n",
       "   u'hero_id': 46,\n",
       "   u'item_0': 212,\n",
       "   u'item_1': 36,\n",
       "   u'item_2': 168,\n",
       "   u'item_3': 63,\n",
       "   u'item_4': 41,\n",
       "   u'item_5': 46,\n",
       "   u'kills': 2,\n",
       "   u'last_hits': 75,\n",
       "   u'leaver_status': 0,\n",
       "   u'level': 14,\n",
       "   u'player_slot': 131,\n",
       "   u'tower_damage': 74,\n",
       "   u'xp_per_min': 377},\n",
       "  {u'ability_upgrades': [{u'ability': 5651, u'level': 1, u'time': 373},\n",
       "    {u'ability': 5653, u'level': 2, u'time': 485},\n",
       "    {u'ability': 5652, u'level': 3, u'time': 531},\n",
       "    {u'ability': 5652, u'level': 4, u'time': 668},\n",
       "    {u'ability': 5652, u'level': 5, u'time': 821},\n",
       "    {u'ability': 5654, u'level': 6, u'time': 935},\n",
       "    {u'ability': 5652, u'level': 7, u'time': 1042},\n",
       "    {u'ability': 5653, u'level': 8, u'time': 1124},\n",
       "    {u'ability': 5653, u'level': 9, u'time': 1260},\n",
       "    {u'ability': 5653, u'level': 10, u'time': 1436},\n",
       "    {u'ability': 5654, u'level': 11, u'time': 1559},\n",
       "    {u'ability': 5651, u'level': 12, u'time': 1824},\n",
       "    {u'ability': 5651, u'level': 13, u'time': 1872}],\n",
       "   u'account_id': 115331673,\n",
       "   u'assists': 7,\n",
       "   u'deaths': 10,\n",
       "   u'denies': 1,\n",
       "   u'gold': 539,\n",
       "   u'gold_per_min': 285,\n",
       "   u'gold_spent': 5255,\n",
       "   u'hero_damage': 4674,\n",
       "   u'hero_healing': 0,\n",
       "   u'hero_id': 112,\n",
       "   u'item_0': 0,\n",
       "   u'item_1': 178,\n",
       "   u'item_2': 36,\n",
       "   u'item_3': 214,\n",
       "   u'item_4': 57,\n",
       "   u'item_5': 0,\n",
       "   u'kills': 3,\n",
       "   u'last_hits': 35,\n",
       "   u'leaver_status': 0,\n",
       "   u'level': 13,\n",
       "   u'player_slot': 132,\n",
       "   u'tower_damage': 27,\n",
       "   u'xp_per_min': 321}],\n",
       " u'positive_votes': 109,\n",
       " u'radiant_win': True,\n",
       " u'start_time': 1447241966,\n",
       " u'tower_status_dire': 6,\n",
       " u'tower_status_radiant': 1974}"
      ]
     },
     "execution_count": 41,
     "metadata": {},
     "output_type": "execute_result"
    }
   ],
   "source": [
    "db.coll.find_one({'match_id':1928833457})"
   ]
  },
  {
   "cell_type": "markdown",
   "metadata": {},
   "source": [
    "* first two hundreds records are dupblicated"
   ]
  },
  {
   "cell_type": "code",
   "execution_count": 49,
   "metadata": {
    "collapsed": false
   },
   "outputs": [
    {
     "data": {
      "text/plain": [
       "1201"
      ]
     },
     "execution_count": 49,
     "metadata": {},
     "output_type": "execute_result"
    }
   ],
   "source": [
    "db.coll.count()"
   ]
  },
  {
   "cell_type": "code",
   "execution_count": null,
   "metadata": {
    "collapsed": true
   },
   "outputs": [],
   "source": []
  }
 ],
 "metadata": {
  "kernelspec": {
   "display_name": "Python 2",
   "language": "python",
   "name": "python2"
  },
  "language_info": {
   "codemirror_mode": {
    "name": "ipython",
    "version": 2
   },
   "file_extension": ".py",
   "mimetype": "text/x-python",
   "name": "python",
   "nbconvert_exporter": "python",
   "pygments_lexer": "ipython2",
   "version": "2.7.10"
  }
 },
 "nbformat": 4,
 "nbformat_minor": 0
}

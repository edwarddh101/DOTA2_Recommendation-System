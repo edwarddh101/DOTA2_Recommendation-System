{
 "cells": [
  {
   "cell_type": "markdown",
   "metadata": {},
   "source": [
    "Minimum Viable Product:\n",
    "\n",
    "1. Predict the game outcome in the testing dataset based on match history (Potentially included player's information)\n",
    "2. Recommend the hero for player based on player's playing history and line up in both teams"
   ]
  },
  {
   "cell_type": "code",
   "execution_count": 1,
   "metadata": {
    "collapsed": true
   },
   "outputs": [],
   "source": [
    "import dota2api as d2\n",
    "import os\n",
    "import pandas as pd\n",
    "import numpy as np\n",
    "import ipdb"
   ]
  },
  {
   "cell_type": "code",
   "execution_count": 2,
   "metadata": {
    "collapsed": false
   },
   "outputs": [],
   "source": [
    "d2_key = os.environ['D2_API_KEY']"
   ]
  },
  {
   "cell_type": "code",
   "execution_count": 2,
   "metadata": {
    "collapsed": true
   },
   "outputs": [],
   "source": [
    "api = d2.Initialise()"
   ]
  },
  {
   "cell_type": "markdown",
   "metadata": {
    "collapsed": true
   },
   "source": [
    "### 2015-11-16 Familiar with API\n",
    "\n",
    "* Get to know what each function do and the structure of data returned"
   ]
  },
  {
   "cell_type": "markdown",
   "metadata": {},
   "source": [
    "### (1) Match Detail\n",
    "\n",
    "* The players column contain a lot of information: the hero's name and id. They are needed for game prediction\n",
    "* It needs further check"
   ]
  },
  {
   "cell_type": "code",
   "execution_count": 12,
   "metadata": {
    "collapsed": true
   },
   "outputs": [],
   "source": [
    "match_id_example = 1980394727"
   ]
  },
  {
   "cell_type": "code",
   "execution_count": 14,
   "metadata": {
    "collapsed": false
   },
   "outputs": [],
   "source": [
    "match = api.get_match_details(match_id_example)"
   ]
  },
  {
   "cell_type": "code",
   "execution_count": 7,
   "metadata": {
    "collapsed": false
   },
   "outputs": [
    {
     "data": {
      "text/plain": [
       "dota2api.src.response.Dota2Dict"
      ]
     },
     "execution_count": 7,
     "metadata": {},
     "output_type": "execute_result"
    }
   ],
   "source": [
    "type(match)"
   ]
  },
  {
   "cell_type": "code",
   "execution_count": 8,
   "metadata": {
    "collapsed": false,
    "scrolled": false
   },
   "outputs": [
    {
     "data": {
      "text/plain": [
       "[u'engine',\n",
       " u'barracks_status_dire',\n",
       " u'match_id',\n",
       " u'lobby_name',\n",
       " u'start_time',\n",
       " u'match_seq_num',\n",
       " u'radiant_win',\n",
       " u'barracks_status_radiant',\n",
       " u'cluster',\n",
       " u'lobby_type',\n",
       " u'first_blood_time',\n",
       " u'negative_votes',\n",
       " u'tower_status_radiant',\n",
       " u'game_mode',\n",
       " u'duration',\n",
       " u'human_players',\n",
       " u'tower_status_dire',\n",
       " u'positive_votes',\n",
       " u'cluster_name',\n",
       " u'players',\n",
       " u'game_mode_name',\n",
       " u'leagueid']"
      ]
     },
     "execution_count": 8,
     "metadata": {},
     "output_type": "execute_result"
    }
   ],
   "source": [
    "match.keys()"
   ]
  },
  {
   "cell_type": "code",
   "execution_count": 9,
   "metadata": {
    "collapsed": false
   },
   "outputs": [
    {
     "data": {
      "text/plain": [
       "True"
      ]
     },
     "execution_count": 9,
     "metadata": {},
     "output_type": "execute_result"
    }
   ],
   "source": [
    "match['radiant_win']"
   ]
  },
  {
   "cell_type": "code",
   "execution_count": 6,
   "metadata": {
    "collapsed": true
   },
   "outputs": [],
   "source": [
    "match_df = pd.DataFrame.from_dict(match)"
   ]
  },
  {
   "cell_type": "code",
   "execution_count": 7,
   "metadata": {
    "collapsed": false
   },
   "outputs": [
    {
     "name": "stdout",
     "output_type": "stream",
     "text": [
      "<class 'pandas.core.frame.DataFrame'>\n",
      "Int64Index: 10 entries, 0 to 9\n",
      "Data columns (total 22 columns):\n",
      "barracks_status_dire       10 non-null int64\n",
      "barracks_status_radiant    10 non-null int64\n",
      "cluster                    10 non-null int64\n",
      "cluster_name               10 non-null object\n",
      "duration                   10 non-null int64\n",
      "engine                     10 non-null int64\n",
      "first_blood_time           10 non-null int64\n",
      "game_mode                  10 non-null int64\n",
      "game_mode_name             10 non-null object\n",
      "human_players              10 non-null int64\n",
      "leagueid                   10 non-null int64\n",
      "lobby_name                 10 non-null object\n",
      "lobby_type                 10 non-null int64\n",
      "match_id                   10 non-null int64\n",
      "match_seq_num              10 non-null int64\n",
      "negative_votes             10 non-null int64\n",
      "players                    10 non-null object\n",
      "positive_votes             10 non-null int64\n",
      "radiant_win                10 non-null bool\n",
      "start_time                 10 non-null int64\n",
      "tower_status_dire          10 non-null int64\n",
      "tower_status_radiant       10 non-null int64\n",
      "dtypes: bool(1), int64(17), object(4)\n",
      "memory usage: 1.7+ KB\n"
     ]
    }
   ],
   "source": [
    "match_df.info()"
   ]
  },
  {
   "cell_type": "markdown",
   "metadata": {},
   "source": [
    "### (2) Match History\n",
    "\n",
    "* Get_match_history will return 100 most matches for player\n",
    "* Totally 500 matches for player are stored\n",
    "* only line-up information included"
   ]
  },
  {
   "cell_type": "code",
   "execution_count": 50,
   "metadata": {
    "collapsed": true
   },
   "outputs": [],
   "source": [
    "hao = 110435207"
   ]
  },
  {
   "cell_type": "code",
   "execution_count": 23,
   "metadata": {
    "collapsed": true
   },
   "outputs": [],
   "source": [
    "hist = api.get_match_history(account_id=hao)"
   ]
  },
  {
   "cell_type": "code",
   "execution_count": 25,
   "metadata": {
    "collapsed": true
   },
   "outputs": [],
   "source": [
    "hist_df=pd.DataFrame.from_dict(hist)"
   ]
  },
  {
   "cell_type": "code",
   "execution_count": 27,
   "metadata": {
    "collapsed": false
   },
   "outputs": [
    {
     "name": "stdout",
     "output_type": "stream",
     "text": [
      "<class 'pandas.core.frame.DataFrame'>\n",
      "Int64Index: 100 entries, 0 to 99\n",
      "Data columns (total 5 columns):\n",
      "matches              100 non-null object\n",
      "num_results          100 non-null int64\n",
      "results_remaining    100 non-null int64\n",
      "status               100 non-null int64\n",
      "total_results        100 non-null int64\n",
      "dtypes: int64(4), object(1)\n",
      "memory usage: 4.7+ KB\n"
     ]
    }
   ],
   "source": [
    "hist_df.info()"
   ]
  },
  {
   "cell_type": "code",
   "execution_count": 28,
   "metadata": {
    "collapsed": false
   },
   "outputs": [
    {
     "data": {
      "text/html": [
       "<div>\n",
       "<table border=\"1\" class=\"dataframe\">\n",
       "  <thead>\n",
       "    <tr style=\"text-align: right;\">\n",
       "      <th></th>\n",
       "      <th>matches</th>\n",
       "      <th>num_results</th>\n",
       "      <th>results_remaining</th>\n",
       "      <th>status</th>\n",
       "      <th>total_results</th>\n",
       "    </tr>\n",
       "  </thead>\n",
       "  <tbody>\n",
       "    <tr>\n",
       "      <th>0</th>\n",
       "      <td>{u'dire_team_id': 0, u'match_id': 1980394727, ...</td>\n",
       "      <td>100</td>\n",
       "      <td>172</td>\n",
       "      <td>1</td>\n",
       "      <td>272</td>\n",
       "    </tr>\n",
       "  </tbody>\n",
       "</table>\n",
       "</div>"
      ],
      "text/plain": [
       "                                             matches  num_results  \\\n",
       "0  {u'dire_team_id': 0, u'match_id': 1980394727, ...          100   \n",
       "\n",
       "   results_remaining  status  total_results  \n",
       "0                172       1            272  "
      ]
     },
     "execution_count": 28,
     "metadata": {},
     "output_type": "execute_result"
    }
   ],
   "source": [
    "hist_df.head(1)"
   ]
  },
  {
   "cell_type": "code",
   "execution_count": 30,
   "metadata": {
    "collapsed": false,
    "scrolled": false
   },
   "outputs": [
    {
     "data": {
      "text/plain": [
       "{u'dire_team_id': 0,\n",
       " u'lobby_type': 0,\n",
       " u'match_id': 1980394727,\n",
       " u'match_seq_num': 1747751775,\n",
       " u'players': [{u'account_id': 301152448, u'hero_id': 101, u'player_slot': 0},\n",
       "  {u'account_id': 110435207, u'hero_id': 30, u'player_slot': 1},\n",
       "  {u'account_id': 45431908, u'hero_id': 72, u'player_slot': 2},\n",
       "  {u'account_id': 4294967295, u'hero_id': 18, u'player_slot': 3},\n",
       "  {u'account_id': 4294967295, u'hero_id': 81, u'player_slot': 4},\n",
       "  {u'account_id': 283908220, u'hero_id': 77, u'player_slot': 128},\n",
       "  {u'account_id': 4294967295, u'hero_id': 104, u'player_slot': 129},\n",
       "  {u'account_id': 4294967295, u'hero_id': 60, u'player_slot': 130},\n",
       "  {u'account_id': 4294967295, u'hero_id': 8, u'player_slot': 131},\n",
       "  {u'account_id': 193629672, u'hero_id': 73, u'player_slot': 132}],\n",
       " u'radiant_team_id': 0,\n",
       " u'start_time': 1449297417}"
      ]
     },
     "execution_count": 30,
     "metadata": {},
     "output_type": "execute_result"
    }
   ],
   "source": [
    "hist_df.matches[0]"
   ]
  },
  {
   "cell_type": "code",
   "execution_count": 31,
   "metadata": {
    "collapsed": true
   },
   "outputs": [],
   "source": [
    "hist_2 = api.get_match_history(193629672)"
   ]
  },
  {
   "cell_type": "code",
   "execution_count": 33,
   "metadata": {
    "collapsed": false
   },
   "outputs": [],
   "source": [
    "hist_2_df = pd.DataFrame.from_dict(hist_2)"
   ]
  },
  {
   "cell_type": "code",
   "execution_count": 34,
   "metadata": {
    "collapsed": false
   },
   "outputs": [
    {
     "name": "stdout",
     "output_type": "stream",
     "text": [
      "<class 'pandas.core.frame.DataFrame'>\n",
      "Int64Index: 100 entries, 0 to 99\n",
      "Data columns (total 5 columns):\n",
      "matches              100 non-null object\n",
      "num_results          100 non-null int64\n",
      "results_remaining    100 non-null int64\n",
      "status               100 non-null int64\n",
      "total_results        100 non-null int64\n",
      "dtypes: int64(4), object(1)\n",
      "memory usage: 4.7+ KB\n"
     ]
    }
   ],
   "source": [
    "hist_2_df.info()"
   ]
  },
  {
   "cell_type": "code",
   "execution_count": 35,
   "metadata": {
    "collapsed": false
   },
   "outputs": [
    {
     "data": {
      "text/html": [
       "<div>\n",
       "<table border=\"1\" class=\"dataframe\">\n",
       "  <thead>\n",
       "    <tr style=\"text-align: right;\">\n",
       "      <th></th>\n",
       "      <th>matches</th>\n",
       "      <th>num_results</th>\n",
       "      <th>results_remaining</th>\n",
       "      <th>status</th>\n",
       "      <th>total_results</th>\n",
       "    </tr>\n",
       "  </thead>\n",
       "  <tbody>\n",
       "    <tr>\n",
       "      <th>0</th>\n",
       "      <td>{u'dire_team_id': 0, u'match_id': 2003891041, ...</td>\n",
       "      <td>100</td>\n",
       "      <td>400</td>\n",
       "      <td>1</td>\n",
       "      <td>500</td>\n",
       "    </tr>\n",
       "    <tr>\n",
       "      <th>1</th>\n",
       "      <td>{u'dire_team_id': 0, u'match_id': 2003822317, ...</td>\n",
       "      <td>100</td>\n",
       "      <td>400</td>\n",
       "      <td>1</td>\n",
       "      <td>500</td>\n",
       "    </tr>\n",
       "  </tbody>\n",
       "</table>\n",
       "</div>"
      ],
      "text/plain": [
       "                                             matches  num_results  \\\n",
       "0  {u'dire_team_id': 0, u'match_id': 2003891041, ...          100   \n",
       "1  {u'dire_team_id': 0, u'match_id': 2003822317, ...          100   \n",
       "\n",
       "   results_remaining  status  total_results  \n",
       "0                400       1            500  \n",
       "1                400       1            500  "
      ]
     },
     "execution_count": 35,
     "metadata": {},
     "output_type": "execute_result"
    }
   ],
   "source": [
    "hist_2_df.head(2)"
   ]
  },
  {
   "cell_type": "code",
   "execution_count": 36,
   "metadata": {
    "collapsed": true
   },
   "outputs": [],
   "source": [
    "match_burning = api.get_match_details(2006107189)"
   ]
  },
  {
   "cell_type": "code",
   "execution_count": 37,
   "metadata": {
    "collapsed": false,
    "scrolled": true
   },
   "outputs": [
    {
     "data": {
      "text/plain": [
       "[u'engine',\n",
       " u'barracks_status_dire',\n",
       " u'tower_status_radiant',\n",
       " u'match_id',\n",
       " u'lobby_name',\n",
       " u'start_time',\n",
       " u'match_seq_num',\n",
       " u'barracks_status_radiant',\n",
       " u'cluster',\n",
       " u'first_blood_time',\n",
       " u'negative_votes',\n",
       " u'game_mode',\n",
       " u'duration',\n",
       " u'radiant_win',\n",
       " u'lobby_type',\n",
       " u'tower_status_dire',\n",
       " u'picks_bans',\n",
       " u'positive_votes',\n",
       " u'human_players',\n",
       " u'radiant_captain',\n",
       " u'cluster_name',\n",
       " u'players',\n",
       " u'game_mode_name',\n",
       " u'leagueid',\n",
       " u'dire_captain']"
      ]
     },
     "execution_count": 37,
     "metadata": {},
     "output_type": "execute_result"
    }
   ],
   "source": [
    "match_burning.keys()"
   ]
  },
  {
   "cell_type": "code",
   "execution_count": 39,
   "metadata": {
    "collapsed": false,
    "scrolled": true
   },
   "outputs": [
    {
     "data": {
      "text/plain": [
       "{u'ability_upgrades': [{u'ability': 5173, u'level': 1, u'time': 646},\n",
       "  {u'ability': 5174, u'level': 2, u'time': 693},\n",
       "  {u'ability': 5175, u'level': 3, u'time': 758},\n",
       "  {u'ability': 5175, u'level': 4, u'time': 804},\n",
       "  {u'ability': 5175, u'level': 5, u'time': 878},\n",
       "  {u'ability': 5176, u'level': 6, u'time': 956},\n",
       "  {u'ability': 5175, u'level': 7, u'time': 1026},\n",
       "  {u'ability': 5174, u'level': 8, u'time': 1100},\n",
       "  {u'ability': 5174, u'level': 9, u'time': 1257},\n",
       "  {u'ability': 5174, u'level': 10, u'time': 1373},\n",
       "  {u'ability': 5176, u'level': 11, u'time': 1429},\n",
       "  {u'ability': 5002, u'level': 12, u'time': 1656},\n",
       "  {u'ability': 5002, u'level': 13, u'time': 1920}],\n",
       " u'account_id': 90892734,\n",
       " u'assists': 2,\n",
       " u'deaths': 4,\n",
       " u'denies': 16,\n",
       " u'gold': 1321,\n",
       " u'gold_per_min': 435,\n",
       " u'gold_spent': 9170,\n",
       " u'hero_damage': 9475,\n",
       " u'hero_healing': 0,\n",
       " u'hero_id': 39,\n",
       " u'hero_name': u'Queen of Pain',\n",
       " u'item_0': 21,\n",
       " u'item_0_name': u'Ogre Club',\n",
       " u'item_1': 63,\n",
       " u'item_1_name': u'Power Treads',\n",
       " u'item_2': 0,\n",
       " u'item_3': 41,\n",
       " u'item_3_name': u'Bottle',\n",
       " u'item_4': 36,\n",
       " u'item_4_name': u'Magic Wand',\n",
       " u'item_5': 98,\n",
       " u'item_5_name': u'Orchid Malevolence',\n",
       " u'kills': 5,\n",
       " u'last_hits': 143,\n",
       " u'leaver_status': 0,\n",
       " u'level': 13,\n",
       " u'player_slot': 132,\n",
       " u'tower_damage': 597,\n",
       " u'xp_per_min': 418}"
      ]
     },
     "execution_count": 39,
     "metadata": {},
     "output_type": "execute_result"
    }
   ],
   "source": [
    "match_burning['players'][9]"
   ]
  },
  {
   "cell_type": "code",
   "execution_count": 45,
   "metadata": {
    "collapsed": true
   },
   "outputs": [],
   "source": [
    "burning = 90892734"
   ]
  },
  {
   "cell_type": "code",
   "execution_count": 40,
   "metadata": {
    "collapsed": true
   },
   "outputs": [],
   "source": [
    "hist_burning = api.get_match_history(burning)"
   ]
  },
  {
   "cell_type": "code",
   "execution_count": 42,
   "metadata": {
    "collapsed": true
   },
   "outputs": [],
   "source": [
    "hist_burning_df = pd.DataFrame.from_dict(hist_burning)"
   ]
  },
  {
   "cell_type": "code",
   "execution_count": 43,
   "metadata": {
    "collapsed": false
   },
   "outputs": [
    {
     "name": "stdout",
     "output_type": "stream",
     "text": [
      "<class 'pandas.core.frame.DataFrame'>\n",
      "Int64Index: 100 entries, 0 to 99\n",
      "Data columns (total 5 columns):\n",
      "matches              100 non-null object\n",
      "num_results          100 non-null int64\n",
      "results_remaining    100 non-null int64\n",
      "status               100 non-null int64\n",
      "total_results        100 non-null int64\n",
      "dtypes: int64(4), object(1)\n",
      "memory usage: 4.7+ KB\n"
     ]
    }
   ],
   "source": [
    "hist_burning_df.info()"
   ]
  },
  {
   "cell_type": "code",
   "execution_count": 44,
   "metadata": {
    "collapsed": false
   },
   "outputs": [
    {
     "data": {
      "text/html": [
       "<div>\n",
       "<table border=\"1\" class=\"dataframe\">\n",
       "  <thead>\n",
       "    <tr style=\"text-align: right;\">\n",
       "      <th></th>\n",
       "      <th>matches</th>\n",
       "      <th>num_results</th>\n",
       "      <th>results_remaining</th>\n",
       "      <th>status</th>\n",
       "      <th>total_results</th>\n",
       "    </tr>\n",
       "  </thead>\n",
       "  <tbody>\n",
       "    <tr>\n",
       "      <th>0</th>\n",
       "      <td>{u'dire_team_id': 0, u'match_id': 1993675690, ...</td>\n",
       "      <td>100</td>\n",
       "      <td>400</td>\n",
       "      <td>1</td>\n",
       "      <td>500</td>\n",
       "    </tr>\n",
       "  </tbody>\n",
       "</table>\n",
       "</div>"
      ],
      "text/plain": [
       "                                             matches  num_results  \\\n",
       "0  {u'dire_team_id': 0, u'match_id': 1993675690, ...          100   \n",
       "\n",
       "   results_remaining  status  total_results  \n",
       "0                400       1            500  "
      ]
     },
     "execution_count": 44,
     "metadata": {},
     "output_type": "execute_result"
    }
   ],
   "source": [
    "hist_burning_df.head(1)"
   ]
  },
  {
   "cell_type": "markdown",
   "metadata": {},
   "source": [
    "### (3) Get player summary\n",
    "\n",
    "- Included some basic person information"
   ]
  },
  {
   "cell_type": "code",
   "execution_count": 63,
   "metadata": {
    "collapsed": true
   },
   "outputs": [],
   "source": [
    "hao_steamid = '76561198070700935'"
   ]
  },
  {
   "cell_type": "code",
   "execution_count": 64,
   "metadata": {
    "collapsed": false
   },
   "outputs": [],
   "source": [
    "plyer_summary = api.get_player_summaries(steamids=hao_steamid)"
   ]
  },
  {
   "cell_type": "code",
   "execution_count": 65,
   "metadata": {
    "collapsed": false
   },
   "outputs": [
    {
     "data": {
      "text/plain": [
       "{u'players': [{u'avatar': u'https://steamcdn-a.akamaihd.net/steamcommunity/public/images/avatars/fe/fef49e7fa7e1997310d705b2a6158ff8dc1cdfeb.jpg',\n",
       "   u'avatarfull': u'https://steamcdn-a.akamaihd.net/steamcommunity/public/images/avatars/fe/fef49e7fa7e1997310d705b2a6158ff8dc1cdfeb_full.jpg',\n",
       "   u'avatarmedium': u'https://steamcdn-a.akamaihd.net/steamcommunity/public/images/avatars/fe/fef49e7fa7e1997310d705b2a6158ff8dc1cdfeb_medium.jpg',\n",
       "   u'communityvisibilitystate': 1,\n",
       "   u'lastlogoff': 1449387775,\n",
       "   u'personaname': u'edwarddh101',\n",
       "   u'personastate': 0,\n",
       "   u'profilestate': 1,\n",
       "   u'profileurl': u'http://steamcommunity.com/id/edwarddh101/',\n",
       "   u'steamid': u'76561198070700935'}]}"
      ]
     },
     "execution_count": 65,
     "metadata": {},
     "output_type": "execute_result"
    }
   ],
   "source": [
    "plyer_summary"
   ]
  },
  {
   "cell_type": "markdown",
   "metadata": {},
   "source": [
    "### (4) get_match_history_by_seq_num\n",
    "\n",
    "* The main method we will use to get match detail\n",
    "* The value in the key=matches is equal to the match detail\n",
    "* The method will ignore the invalid key and start from next valid key\n",
    "* The seq_num is in time order."
   ]
  },
  {
   "cell_type": "code",
   "execution_count": 84,
   "metadata": {
    "collapsed": true
   },
   "outputs": [],
   "source": [
    "# try the invalid seq_num\n",
    "match_seq_invalid = api.get_match_history_by_seq_num(1747751776)"
   ]
  },
  {
   "cell_type": "code",
   "execution_count": 68,
   "metadata": {
    "collapsed": true
   },
   "outputs": [],
   "source": [
    "matches_df = pd.DataFrame.from_dict(matches)"
   ]
  },
  {
   "cell_type": "code",
   "execution_count": 70,
   "metadata": {
    "collapsed": false
   },
   "outputs": [
    {
     "name": "stdout",
     "output_type": "stream",
     "text": [
      "<class 'pandas.core.frame.DataFrame'>\n",
      "Int64Index: 100 entries, 0 to 99\n",
      "Data columns (total 2 columns):\n",
      "matches    100 non-null object\n",
      "status     100 non-null int64\n",
      "dtypes: int64(1), object(1)\n",
      "memory usage: 2.3+ KB\n"
     ]
    }
   ],
   "source": [
    "matches_df.info()"
   ]
  },
  {
   "cell_type": "code",
   "execution_count": 71,
   "metadata": {
    "collapsed": false
   },
   "outputs": [
    {
     "data": {
      "text/html": [
       "<div>\n",
       "<table border=\"1\" class=\"dataframe\">\n",
       "  <thead>\n",
       "    <tr style=\"text-align: right;\">\n",
       "      <th></th>\n",
       "      <th>matches</th>\n",
       "      <th>status</th>\n",
       "    </tr>\n",
       "  </thead>\n",
       "  <tbody>\n",
       "    <tr>\n",
       "      <th>0</th>\n",
       "      <td>{u'tower_status_dire': 4, u'engine': 1, u'barr...</td>\n",
       "      <td>1</td>\n",
       "    </tr>\n",
       "  </tbody>\n",
       "</table>\n",
       "</div>"
      ],
      "text/plain": [
       "                                             matches  status\n",
       "0  {u'tower_status_dire': 4, u'engine': 1, u'barr...       1"
      ]
     },
     "execution_count": 71,
     "metadata": {},
     "output_type": "execute_result"
    }
   ],
   "source": [
    "matches_df.head(1)"
   ]
  },
  {
   "cell_type": "code",
   "execution_count": 81,
   "metadata": {
    "collapsed": true
   },
   "outputs": [],
   "source": [
    "df_match_detail_by_seq = pd.DataFrame.from_dict(matches_df.matches[0])"
   ]
  },
  {
   "cell_type": "code",
   "execution_count": 82,
   "metadata": {
    "collapsed": false,
    "scrolled": true
   },
   "outputs": [
    {
     "name": "stdout",
     "output_type": "stream",
     "text": [
      "<class 'pandas.core.frame.DataFrame'>\n",
      "Int64Index: 10 entries, 0 to 9\n",
      "Data columns (total 19 columns):\n",
      "barracks_status_dire       10 non-null int64\n",
      "barracks_status_radiant    10 non-null int64\n",
      "cluster                    10 non-null int64\n",
      "duration                   10 non-null int64\n",
      "engine                     10 non-null int64\n",
      "first_blood_time           10 non-null int64\n",
      "game_mode                  10 non-null int64\n",
      "human_players              10 non-null int64\n",
      "leagueid                   10 non-null int64\n",
      "lobby_type                 10 non-null int64\n",
      "match_id                   10 non-null int64\n",
      "match_seq_num              10 non-null int64\n",
      "negative_votes             10 non-null int64\n",
      "players                    10 non-null object\n",
      "positive_votes             10 non-null int64\n",
      "radiant_win                10 non-null bool\n",
      "start_time                 10 non-null int64\n",
      "tower_status_dire          10 non-null int64\n",
      "tower_status_radiant       10 non-null int64\n",
      "dtypes: bool(1), int64(17), object(1)\n",
      "memory usage: 1.5+ KB\n"
     ]
    }
   ],
   "source": [
    "df_match_detail_by_seq.info()"
   ]
  },
  {
   "cell_type": "markdown",
   "metadata": {
    "collapsed": true
   },
   "source": [
    "### Build a dota2 api bot to get match detail by get_match_history_by_seq_num\n",
    "\n",
    "* Try to get one month data.\n",
    "* The start point match_seq_num = 1704401237, time = 2015-11-11"
   ]
  },
  {
   "cell_type": "code",
   "execution_count": 3,
   "metadata": {
    "collapsed": false
   },
   "outputs": [],
   "source": [
    "match_temp = api.get_match_details(1928833457)"
   ]
  },
  {
   "cell_type": "code",
   "execution_count": 6,
   "metadata": {
    "collapsed": false
   },
   "outputs": [
    {
     "data": {
      "text/plain": [
       "1447241966"
      ]
     },
     "execution_count": 6,
     "metadata": {},
     "output_type": "execute_result"
    }
   ],
   "source": [
    "match_temp['start_time']"
   ]
  },
  {
   "cell_type": "code",
   "execution_count": 10,
   "metadata": {
    "collapsed": false
   },
   "outputs": [
    {
     "name": "stdout",
     "output_type": "stream",
     "text": [
      "2015-11-11 03:39:26\n"
     ]
    }
   ],
   "source": [
    "import datetime\n",
    "print(\n",
    "    datetime.datetime.fromtimestamp(\n",
    "        int(match_temp['start_time'])\n",
    "    ).strftime('%Y-%m-%d %H:%M:%S')\n",
    ")"
   ]
  },
  {
   "cell_type": "code",
   "execution_count": 11,
   "metadata": {
    "collapsed": false
   },
   "outputs": [
    {
     "data": {
      "text/plain": [
       "1704401237"
      ]
     },
     "execution_count": 11,
     "metadata": {},
     "output_type": "execute_result"
    }
   ],
   "source": [
    "match_temp['match_seq_num']"
   ]
  },
  {
   "cell_type": "code",
   "execution_count": 13,
   "metadata": {
    "collapsed": false
   },
   "outputs": [
    {
     "data": {
      "text/plain": [
       "275993490"
      ]
     },
     "execution_count": 13,
     "metadata": {},
     "output_type": "execute_result"
    }
   ],
   "source": [
    "match_id_example-match_temp['match_seq_num']"
   ]
  },
  {
   "cell_type": "markdown",
   "metadata": {
    "collapsed": true
   },
   "source": [
    "## 2015-11-17, build API on EC2 and store the data on S3\n",
    "\n",
    "* Optimize API bot \n",
    "\n",
    "-- Separate process of get the data and store in the database\n",
    "-- vectorize some of function in apibot and add function to check current match in file"
   ]
  },
  {
   "cell_type": "markdown",
   "metadata": {
    "collapsed": true
   },
   "source": [
    "## 2015-11-18 EDA on sample data\n",
    "\n",
    "Findings:\n",
    "1) Some exception: Different game mode may make the data frame looks different - less player in solo mode, mode information in captain mode"
   ]
  },
  {
   "cell_type": "code",
   "execution_count": 2,
   "metadata": {
    "collapsed": false
   },
   "outputs": [],
   "source": [
    "with open('Data_collection/match_history_sample.json') as f:\n",
    "    match_json_array = []\n",
    "    for line in f:\n",
    "        match_json_array.append(line)"
   ]
  },
  {
   "cell_type": "code",
   "execution_count": 5,
   "metadata": {
    "collapsed": false
   },
   "outputs": [
    {
     "data": {
      "text/plain": [
       "300"
      ]
     },
     "execution_count": 5,
     "metadata": {},
     "output_type": "execute_result"
    }
   ],
   "source": [
    "len(match_json_array)"
   ]
  },
  {
   "cell_type": "code",
   "execution_count": 3,
   "metadata": {
    "collapsed": true
   },
   "outputs": [],
   "source": [
    "data=pd.DataFrame(match_json_array)\n"
   ]
  },
  {
   "cell_type": "code",
   "execution_count": 5,
   "metadata": {
    "collapsed": false
   },
   "outputs": [
    {
     "name": "stdout",
     "output_type": "stream",
     "text": [
      "<class 'pandas.core.frame.DataFrame'>\n",
      "Int64Index: 300 entries, 0 to 299\n",
      "Data columns (total 1 columns):\n",
      "0    300 non-null object\n",
      "dtypes: object(1)\n",
      "memory usage: 4.7+ KB\n"
     ]
    }
   ],
   "source": [
    "data.info()"
   ]
  },
  {
   "cell_type": "code",
   "execution_count": 6,
   "metadata": {
    "collapsed": false
   },
   "outputs": [
    {
     "data": {
      "text/html": [
       "<div>\n",
       "<table border=\"1\" class=\"dataframe\">\n",
       "  <thead>\n",
       "    <tr style=\"text-align: right;\">\n",
       "      <th></th>\n",
       "      <th>0</th>\n",
       "    </tr>\n",
       "  </thead>\n",
       "  <tbody>\n",
       "    <tr>\n",
       "      <th>0</th>\n",
       "      <td>{\"status\": 1, \"matches\": [{\"tower_status_dire\"...</td>\n",
       "    </tr>\n",
       "  </tbody>\n",
       "</table>\n",
       "</div>"
      ],
      "text/plain": [
       "                                                   0\n",
       "0  {\"status\": 1, \"matches\": [{\"tower_status_dire\"..."
      ]
     },
     "execution_count": 6,
     "metadata": {},
     "output_type": "execute_result"
    }
   ],
   "source": [
    "data.head(1)"
   ]
  },
  {
   "cell_type": "code",
   "execution_count": 4,
   "metadata": {
    "collapsed": false
   },
   "outputs": [],
   "source": [
    "t = map(lambda x: pd.read_json(x), match_json_array)"
   ]
  },
  {
   "cell_type": "code",
   "execution_count": 10,
   "metadata": {
    "collapsed": false
   },
   "outputs": [
    {
     "data": {
      "text/plain": [
       "list"
      ]
     },
     "execution_count": 10,
     "metadata": {},
     "output_type": "execute_result"
    }
   ],
   "source": [
    "type(t)"
   ]
  },
  {
   "cell_type": "code",
   "execution_count": 11,
   "metadata": {
    "collapsed": false
   },
   "outputs": [
    {
     "data": {
      "text/plain": [
       "pandas.core.frame.DataFrame"
      ]
     },
     "execution_count": 11,
     "metadata": {},
     "output_type": "execute_result"
    }
   ],
   "source": [
    "type(t[0])"
   ]
  },
  {
   "cell_type": "code",
   "execution_count": 5,
   "metadata": {
    "collapsed": true
   },
   "outputs": [],
   "source": [
    "df = pd.concat(t,ignore_index=True)"
   ]
  },
  {
   "cell_type": "code",
   "execution_count": 9,
   "metadata": {
    "collapsed": false
   },
   "outputs": [
    {
     "name": "stdout",
     "output_type": "stream",
     "text": [
      "<class 'pandas.core.frame.DataFrame'>\n",
      "Int64Index: 30000 entries, 0 to 29999\n",
      "Data columns (total 2 columns):\n",
      "matches    30000 non-null object\n",
      "status     30000 non-null int64\n",
      "dtypes: int64(1), object(1)\n",
      "memory usage: 703.1+ KB\n"
     ]
    }
   ],
   "source": [
    "df.info()"
   ]
  },
  {
   "cell_type": "code",
   "execution_count": 10,
   "metadata": {
    "collapsed": false
   },
   "outputs": [
    {
     "data": {
      "text/html": [
       "<div>\n",
       "<table border=\"1\" class=\"dataframe\">\n",
       "  <thead>\n",
       "    <tr style=\"text-align: right;\">\n",
       "      <th></th>\n",
       "      <th>matches</th>\n",
       "      <th>status</th>\n",
       "    </tr>\n",
       "  </thead>\n",
       "  <tbody>\n",
       "    <tr>\n",
       "      <th>0</th>\n",
       "      <td>{u'tower_status_dire': 6, u'engine': 1, u'barr...</td>\n",
       "      <td>1</td>\n",
       "    </tr>\n",
       "  </tbody>\n",
       "</table>\n",
       "</div>"
      ],
      "text/plain": [
       "                                             matches  status\n",
       "0  {u'tower_status_dire': 6, u'engine': 1, u'barr...       1"
      ]
     },
     "execution_count": 10,
     "metadata": {},
     "output_type": "execute_result"
    }
   ],
   "source": [
    "df.head(1)"
   ]
  },
  {
   "cell_type": "code",
   "execution_count": 17,
   "metadata": {
    "collapsed": true
   },
   "outputs": [],
   "source": [
    "def list_df(lst, axis):\n",
    "    return pd.concat(map(lambda x:pd.DataFrame.from_dict(x), lst), axis=axis)"
   ]
  },
  {
   "cell_type": "code",
   "execution_count": 21,
   "metadata": {
    "collapsed": false,
    "scrolled": false
   },
   "outputs": [],
   "source": [
    "heroes = api.get_heroes()"
   ]
  },
  {
   "cell_type": "markdown",
   "metadata": {},
   "source": [
    "* Totally 112 heroes(id: 1-113) and 1 (id: 108) is not in current dota2 and 1(id: 113) is not in patch(6.85b) I studied \n",
    "* Some data cleaning is needed:\n",
    "    - Only 'player' and 'radiant_win' is needed for first model\n",
    "    - Set the human_player equal to 10\n",
    "    - Set the duration larger than 10 min\n",
    "    - might be need check player leave time\n",
    "    - might be need to check the game mode"
   ]
  },
  {
   "cell_type": "code",
   "execution_count": 6,
   "metadata": {
    "collapsed": false
   },
   "outputs": [],
   "source": [
    "df = pd.DataFrame(df.matches.tolist())"
   ]
  },
  {
   "cell_type": "code",
   "execution_count": 39,
   "metadata": {
    "collapsed": false
   },
   "outputs": [
    {
     "name": "stdout",
     "output_type": "stream",
     "text": [
      "<class 'pandas.core.frame.DataFrame'>\n",
      "Int64Index: 30000 entries, 0 to 29999\n",
      "Data columns (total 36 columns):\n",
      "barracks_status_dire       30000 non-null int64\n",
      "barracks_status_radiant    30000 non-null int64\n",
      "cluster                    30000 non-null int64\n",
      "dire_captain               263 non-null float64\n",
      "dire_guild_id              2 non-null float64\n",
      "dire_guild_logo            2 non-null float64\n",
      "dire_guild_name            2 non-null object\n",
      "dire_logo                  23 non-null float64\n",
      "dire_name                  23 non-null object\n",
      "dire_team_complete         23 non-null float64\n",
      "dire_team_id               23 non-null float64\n",
      "duration                   30000 non-null int64\n",
      "engine                     30000 non-null int64\n",
      "first_blood_time           30000 non-null int64\n",
      "game_mode                  30000 non-null int64\n",
      "human_players              30000 non-null int64\n",
      "leagueid                   30000 non-null int64\n",
      "lobby_type                 30000 non-null int64\n",
      "match_id                   30000 non-null int64\n",
      "match_seq_num              30000 non-null int64\n",
      "negative_votes             30000 non-null int64\n",
      "picks_bans                 263 non-null object\n",
      "players                    30000 non-null object\n",
      "positive_votes             30000 non-null int64\n",
      "radiant_captain            263 non-null float64\n",
      "radiant_guild_id           1 non-null float64\n",
      "radiant_guild_logo         1 non-null float64\n",
      "radiant_guild_name         1 non-null object\n",
      "radiant_logo               14 non-null float64\n",
      "radiant_name               14 non-null object\n",
      "radiant_team_complete      14 non-null float64\n",
      "radiant_team_id            14 non-null float64\n",
      "radiant_win                30000 non-null bool\n",
      "start_time                 30000 non-null int64\n",
      "tower_status_dire          30000 non-null int64\n",
      "tower_status_radiant       30000 non-null int64\n",
      "dtypes: bool(1), float64(12), int64(17), object(6)\n",
      "memory usage: 8.3+ MB\n"
     ]
    }
   ],
   "source": [
    "df.info()"
   ]
  },
  {
   "cell_type": "code",
   "execution_count": 7,
   "metadata": {
    "collapsed": true
   },
   "outputs": [],
   "source": [
    "df_log = df[df['human_players']==10]"
   ]
  },
  {
   "cell_type": "code",
   "execution_count": 46,
   "metadata": {
    "collapsed": false
   },
   "outputs": [],
   "source": [
    "feature = ['players', 'radiant_win']\n",
    "df_log = df_log[feature]"
   ]
  },
  {
   "cell_type": "code",
   "execution_count": 47,
   "metadata": {
    "collapsed": false
   },
   "outputs": [
    {
     "data": {
      "text/html": [
       "<div>\n",
       "<table border=\"1\" class=\"dataframe\">\n",
       "  <thead>\n",
       "    <tr style=\"text-align: right;\">\n",
       "      <th></th>\n",
       "      <th>players</th>\n",
       "      <th>radiant_win</th>\n",
       "    </tr>\n",
       "  </thead>\n",
       "  <tbody>\n",
       "    <tr>\n",
       "      <th>0</th>\n",
       "      <td>[{u'gold_spent': 8950, u'gold': 2609, u'deaths...</td>\n",
       "      <td>True</td>\n",
       "    </tr>\n",
       "    <tr>\n",
       "      <th>1</th>\n",
       "      <td>[{u'gold_spent': 17970, u'gold': 3056, u'death...</td>\n",
       "      <td>True</td>\n",
       "    </tr>\n",
       "  </tbody>\n",
       "</table>\n",
       "</div>"
      ],
      "text/plain": [
       "                                             players radiant_win\n",
       "0  [{u'gold_spent': 8950, u'gold': 2609, u'deaths...        True\n",
       "1  [{u'gold_spent': 17970, u'gold': 3056, u'death...        True"
      ]
     },
     "execution_count": 47,
     "metadata": {},
     "output_type": "execute_result"
    }
   ],
   "source": [
    "df_log.head(2)"
   ]
  },
  {
   "cell_type": "code",
   "execution_count": 48,
   "metadata": {
    "collapsed": false
   },
   "outputs": [
    {
     "data": {
      "text/plain": [
       "Index([u'players', u'radiant_win'], dtype='object')"
      ]
     },
     "execution_count": 48,
     "metadata": {},
     "output_type": "execute_result"
    }
   ],
   "source": [
    "df_log.columns"
   ]
  },
  {
   "cell_type": "code",
   "execution_count": 8,
   "metadata": {
    "collapsed": true
   },
   "outputs": [],
   "source": [
    "def match_features(players):\n",
    "    vec = np.zeros(224, dtype=np.int)\n",
    "    loc = np.append(np.zeros(5, dtype=np.int), np.ones(5, dtype=np.int)*112)\n",
    "    loc+=map(lambda x: x['hero_id']-1, players)\n",
    "    vec[loc]=1\n",
    "    return vec\n",
    "#     ipdb.set_trace()\n",
    "#     return pd.DataFrame(vec,index=np.arange(1,226),columns=[0]).T"
   ]
  },
  {
   "cell_type": "code",
   "execution_count": 50,
   "metadata": {
    "collapsed": false
   },
   "outputs": [
    {
     "data": {
      "text/plain": [
       "10"
      ]
     },
     "execution_count": 50,
     "metadata": {},
     "output_type": "execute_result"
    }
   ],
   "source": [
    "match_features(df_log['players'][0]).sum()"
   ]
  },
  {
   "cell_type": "code",
   "execution_count": 32,
   "metadata": {
    "collapsed": false
   },
   "outputs": [],
   "source": [
    "def matches_features(df):\n",
    "    df_feature = df['players'].apply(lambda x: match_features(x))\n",
    "    X = pd.DataFrame(df_feature.tolist())\n",
    "    y = df['radiant_win']\n",
    "    return X, y"
   ]
  },
  {
   "cell_type": "code",
   "execution_count": 33,
   "metadata": {
    "collapsed": true
   },
   "outputs": [],
   "source": [
    "X, y = matches_features(df_log)"
   ]
  },
  {
   "cell_type": "code",
   "execution_count": 34,
   "metadata": {
    "collapsed": false
   },
   "outputs": [
    {
     "data": {
      "text/plain": [
       "((29044, 224), (29044,))"
      ]
     },
     "execution_count": 34,
     "metadata": {},
     "output_type": "execute_result"
    }
   ],
   "source": [
    "# Sanity Check\n",
    "X.shape, y.shape"
   ]
  },
  {
   "cell_type": "code",
   "execution_count": 17,
   "metadata": {
    "collapsed": false
   },
   "outputs": [
    {
     "data": {
      "text/plain": [
       "29044"
      ]
     },
     "execution_count": 17,
     "metadata": {},
     "output_type": "execute_result"
    }
   ],
   "source": [
    "df_log['radiant_win'].count()"
   ]
  },
  {
   "cell_type": "code",
   "execution_count": 18,
   "metadata": {
    "collapsed": false
   },
   "outputs": [
    {
     "data": {
      "text/plain": [
       "15274"
      ]
     },
     "execution_count": 18,
     "metadata": {},
     "output_type": "execute_result"
    }
   ],
   "source": [
    "df_log['radiant_win'].sum()"
   ]
  },
  {
   "cell_type": "code",
   "execution_count": 13,
   "metadata": {
    "collapsed": false
   },
   "outputs": [],
   "source": [
    "# Run a base Logistic Model on the data\n",
    "# 10% data will used as testing data, and CV will be used for training data\n",
    "\n",
    "from sklearn import cross_validation, linear_model\n",
    "from sklearn.ensemble import RandomForestClassifier"
   ]
  },
  {
   "cell_type": "code",
   "execution_count": 57,
   "metadata": {
    "collapsed": true
   },
   "outputs": [],
   "source": [
    "X_train, X_test, y_train, y_test = cross_validation.train_test_split(X, y, test_size=0.1)"
   ]
  },
  {
   "cell_type": "code",
   "execution_count": 119,
   "metadata": {
    "collapsed": false
   },
   "outputs": [
    {
     "data": {
      "text/plain": [
       "((26139, 224), (2905, 224), (26139,), (2905,))"
      ]
     },
     "execution_count": 119,
     "metadata": {},
     "output_type": "execute_result"
    }
   ],
   "source": [
    "X_train.shape, X_test.shape, y_train.shape, y_test.shape"
   ]
  },
  {
   "cell_type": "code",
   "execution_count": 120,
   "metadata": {
    "collapsed": true
   },
   "outputs": [],
   "source": [
    "clf_log= linear_model.LogisticRegressionCV()"
   ]
  },
  {
   "cell_type": "code",
   "execution_count": 121,
   "metadata": {
    "collapsed": false
   },
   "outputs": [
    {
     "data": {
      "text/plain": [
       "LogisticRegressionCV(Cs=10, class_weight=None, cv=None, dual=False,\n",
       "           fit_intercept=True, intercept_scaling=1.0, max_iter=100,\n",
       "           multi_class='ovr', n_jobs=1, penalty='l2', refit=True,\n",
       "           scoring=None, solver='lbfgs', tol=0.0001, verbose=0)"
      ]
     },
     "execution_count": 121,
     "metadata": {},
     "output_type": "execute_result"
    }
   ],
   "source": [
    "clf_log.fit(X_train, y_train)"
   ]
  },
  {
   "cell_type": "code",
   "execution_count": 124,
   "metadata": {
    "collapsed": false
   },
   "outputs": [
    {
     "data": {
      "text/plain": [
       "0.53390705679862305"
      ]
     },
     "execution_count": 124,
     "metadata": {},
     "output_type": "execute_result"
    }
   ],
   "source": [
    "clf_log.score(X_test, y_test)"
   ]
  },
  {
   "cell_type": "code",
   "execution_count": 56,
   "metadata": {
    "collapsed": false
   },
   "outputs": [
    {
     "data": {
      "text/plain": [
       "array([ 0.60027543,  0.59149595,  0.59803753,  0.58977449,  0.5922865 ])"
      ]
     },
     "execution_count": 56,
     "metadata": {},
     "output_type": "execute_result"
    }
   ],
   "source": [
    "clf_log_r = linear_model.LogisticRegression()\n",
    "cross_validation.cross_val_score(clf_log_r, X, y, cv=5)"
   ]
  },
  {
   "cell_type": "code",
   "execution_count": 23,
   "metadata": {
    "collapsed": false
   },
   "outputs": [
    {
     "data": {
      "text/plain": [
       "array([ 0.59924255,  0.59080737,  0.59975899,  0.58960234,  0.59383609])"
      ]
     },
     "execution_count": 23,
     "metadata": {},
     "output_type": "execute_result"
    }
   ],
   "source": [
    "clf_log_r = linear_model.LogisticRegression(penalty='l1')\n",
    "cross_validation.cross_val_score(clf_log_r, X, y, cv=5)"
   ]
  },
  {
   "cell_type": "code",
   "execution_count": 14,
   "metadata": {
    "collapsed": false
   },
   "outputs": [
    {
     "data": {
      "text/plain": [
       "array([ 0.57014977,  0.57496987,  0.55982097,  0.56636254,  0.57610193])"
      ]
     },
     "execution_count": 14,
     "metadata": {},
     "output_type": "execute_result"
    }
   ],
   "source": [
    "clf_rf = RandomForestClassifier(n_estimators=100, n_jobs=-1)\n",
    "cross_validation.cross_val_score(clf_rf, X, y, cv=5)"
   ]
  },
  {
   "cell_type": "code",
   "execution_count": 22,
   "metadata": {
    "collapsed": false
   },
   "outputs": [
    {
     "data": {
      "text/plain": [
       "array([ 0.58564297,  0.57496987,  0.57996213,  0.56705113,  0.58367769])"
      ]
     },
     "execution_count": 22,
     "metadata": {},
     "output_type": "execute_result"
    }
   ],
   "source": [
    "clf_rf = RandomForestClassifier(n_estimators=100, n_jobs=-1, max_depth=30)\n",
    "cross_validation.cross_val_score(clf_rf, X, y, cv=5)"
   ]
  },
  {
   "cell_type": "code",
   "execution_count": 15,
   "metadata": {
    "collapsed": false
   },
   "outputs": [
    {
     "data": {
      "text/plain": [
       "array([ 0.58306077,  0.57892925,  0.57634705,  0.5735927 ,  0.58264463])"
      ]
     },
     "execution_count": 15,
     "metadata": {},
     "output_type": "execute_result"
    }
   ],
   "source": [
    "clf_rf = RandomForestClassifier(n_estimators=1000, n_jobs=-1)\n",
    "cross_validation.cross_val_score(clf_rf, X, y, cv=5)"
   ]
  },
  {
   "cell_type": "code",
   "execution_count": null,
   "metadata": {
    "collapsed": true
   },
   "outputs": [],
   "source": [
    "# Use GridSearch for clf_rf\n",
    "\n"
   ]
  },
  {
   "cell_type": "code",
   "execution_count": 28,
   "metadata": {
    "collapsed": false
   },
   "outputs": [
    {
     "data": {
      "text/plain": [
       "0    17576\n",
       "7    11425\n",
       "1       43\n",
       "dtype: int64"
      ]
     },
     "execution_count": 28,
     "metadata": {},
     "output_type": "execute_result"
    }
   ],
   "source": [
    "df_log.lobby_type.value_counts()"
   ]
  },
  {
   "cell_type": "code",
   "execution_count": 29,
   "metadata": {
    "collapsed": true
   },
   "outputs": [],
   "source": [
    "df_log_CM = df_log[df_log.lobby_type==0]"
   ]
  },
  {
   "cell_type": "code",
   "execution_count": 30,
   "metadata": {
    "collapsed": false
   },
   "outputs": [
    {
     "data": {
      "text/plain": [
       "1     13818\n",
       "4      2584\n",
       "18      455\n",
       "5       372\n",
       "3       184\n",
       "13       71\n",
       "2        62\n",
       "12       27\n",
       "16        3\n",
       "dtype: int64"
      ]
     },
     "execution_count": 30,
     "metadata": {},
     "output_type": "execute_result"
    }
   ],
   "source": [
    "df_log_CM.game_mode.value_counts()"
   ]
  },
  {
   "cell_type": "code",
   "execution_count": 31,
   "metadata": {
    "collapsed": true
   },
   "outputs": [],
   "source": [
    "df_log_CM_AP = df_log_CM[df_log_CM.game_mode==1]"
   ]
  },
  {
   "cell_type": "code",
   "execution_count": 35,
   "metadata": {
    "collapsed": false
   },
   "outputs": [
    {
     "data": {
      "text/plain": [
       "array([ 0.59442836,  0.58321274,  0.59732272,  0.59153401,  0.58979001])"
      ]
     },
     "execution_count": 35,
     "metadata": {},
     "output_type": "execute_result"
    }
   ],
   "source": [
    "X, y = matches_features(df_log_CM_AP)\n",
    "# clf_log_r = linear_model.LogisticRegression()\n",
    "cross_validation.cross_val_score(clf_log_r, X, y, cv=5)"
   ]
  },
  {
   "cell_type": "markdown",
   "metadata": {},
   "source": [
    "### Re-Check the detail of data, EDA"
   ]
  },
  {
   "cell_type": "markdown",
   "metadata": {
    "collapsed": true
   },
   "source": [
    "* The first model findings:\n",
    "    - The logistic model has better result than Random Forest\n",
    "    - The model didn't involve heroes interaction\n",
    "    - The model didn't account for player's information. This might be a big factor to influence win/lose, try to limited the matches between same level of players.\n",
    "    \n",
    "* Some basic stats:\n",
    "    ```\n",
    "    INVALID = -1;\n",
    "\tCASUAL_MATCH = 0;\n",
    "\tPRACTICE = 1;\n",
    "\tTOURNAMENT = 2;\n",
    "\tCOOP_BOT_MATCH = 4;\n",
    "\tLEGACY_TEAM_MATCH = 5;\n",
    "\tLEGACY_SOLO_QUEUE_MATCH = 6;\n",
    "\tCOMPETITIVE_MATCH = 7;\n",
    "\tCASUAL_1V1_MATCH = 8;\n",
    "    ```\n",
    "        - The CASUAL_MATCH and cmpetitive_match(MMR) are most used, this might lead to two different models. "
   ]
  },
  {
   "cell_type": "code",
   "execution_count": 37,
   "metadata": {
    "collapsed": false
   },
   "outputs": [
    {
     "data": {
      "text/html": [
       "<div>\n",
       "<table border=\"1\" class=\"dataframe\">\n",
       "  <thead>\n",
       "    <tr style=\"text-align: right;\">\n",
       "      <th></th>\n",
       "      <th>0</th>\n",
       "    </tr>\n",
       "  </thead>\n",
       "  <tbody>\n",
       "    <tr>\n",
       "      <th>matches</th>\n",
       "      <td>{u'tower_status_dire': 6, u'engine': 1, u'barr...</td>\n",
       "    </tr>\n",
       "    <tr>\n",
       "      <th>status</th>\n",
       "      <td>1</td>\n",
       "    </tr>\n",
       "  </tbody>\n",
       "</table>\n",
       "</div>"
      ],
      "text/plain": [
       "                                                         0\n",
       "matches  {u'tower_status_dire': 6, u'engine': 1, u'barr...\n",
       "status                                                   1"
      ]
     },
     "execution_count": 37,
     "metadata": {},
     "output_type": "execute_result"
    }
   ],
   "source": [
    "df.head(1).T"
   ]
  },
  {
   "cell_type": "code",
   "execution_count": 17,
   "metadata": {
    "collapsed": true
   },
   "outputs": [],
   "source": [
    "df_players = df.pop('players')"
   ]
  },
  {
   "cell_type": "code",
   "execution_count": 20,
   "metadata": {
    "collapsed": false
   },
   "outputs": [],
   "source": [
    "df_players_10=pd.DataFrame(df_players.tolist())"
   ]
  },
  {
   "cell_type": "code",
   "execution_count": 24,
   "metadata": {
    "collapsed": false
   },
   "outputs": [
    {
     "data": {
      "text/html": [
       "<div>\n",
       "<table border=\"1\" class=\"dataframe\">\n",
       "  <thead>\n",
       "    <tr style=\"text-align: right;\">\n",
       "      <th></th>\n",
       "      <th>0</th>\n",
       "    </tr>\n",
       "  </thead>\n",
       "  <tbody>\n",
       "    <tr>\n",
       "      <th>ability_upgrades</th>\n",
       "      <td>[{u'time': 475, u'ability': 5163, u'level': 1}...</td>\n",
       "    </tr>\n",
       "    <tr>\n",
       "      <th>account_id</th>\n",
       "      <td>117421467</td>\n",
       "    </tr>\n",
       "    <tr>\n",
       "      <th>additional_units</th>\n",
       "      <td>NaN</td>\n",
       "    </tr>\n",
       "    <tr>\n",
       "      <th>assists</th>\n",
       "      <td>11</td>\n",
       "    </tr>\n",
       "    <tr>\n",
       "      <th>deaths</th>\n",
       "      <td>4</td>\n",
       "    </tr>\n",
       "    <tr>\n",
       "      <th>denies</th>\n",
       "      <td>2</td>\n",
       "    </tr>\n",
       "    <tr>\n",
       "      <th>gold</th>\n",
       "      <td>2609</td>\n",
       "    </tr>\n",
       "    <tr>\n",
       "      <th>gold_per_min</th>\n",
       "      <td>408</td>\n",
       "    </tr>\n",
       "    <tr>\n",
       "      <th>gold_spent</th>\n",
       "      <td>8950</td>\n",
       "    </tr>\n",
       "    <tr>\n",
       "      <th>hero_damage</th>\n",
       "      <td>5133</td>\n",
       "    </tr>\n",
       "    <tr>\n",
       "      <th>hero_healing</th>\n",
       "      <td>551</td>\n",
       "    </tr>\n",
       "    <tr>\n",
       "      <th>hero_id</th>\n",
       "      <td>37</td>\n",
       "    </tr>\n",
       "    <tr>\n",
       "      <th>item_0</th>\n",
       "      <td>65</td>\n",
       "    </tr>\n",
       "    <tr>\n",
       "      <th>item_1</th>\n",
       "      <td>100</td>\n",
       "    </tr>\n",
       "    <tr>\n",
       "      <th>item_2</th>\n",
       "      <td>0</td>\n",
       "    </tr>\n",
       "    <tr>\n",
       "      <th>item_3</th>\n",
       "      <td>30</td>\n",
       "    </tr>\n",
       "    <tr>\n",
       "      <th>item_4</th>\n",
       "      <td>188</td>\n",
       "    </tr>\n",
       "    <tr>\n",
       "      <th>item_5</th>\n",
       "      <td>29</td>\n",
       "    </tr>\n",
       "    <tr>\n",
       "      <th>kills</th>\n",
       "      <td>2</td>\n",
       "    </tr>\n",
       "    <tr>\n",
       "      <th>last_hits</th>\n",
       "      <td>91</td>\n",
       "    </tr>\n",
       "    <tr>\n",
       "      <th>leaver_status</th>\n",
       "      <td>0</td>\n",
       "    </tr>\n",
       "    <tr>\n",
       "      <th>level</th>\n",
       "      <td>14</td>\n",
       "    </tr>\n",
       "    <tr>\n",
       "      <th>player_slot</th>\n",
       "      <td>0</td>\n",
       "    </tr>\n",
       "    <tr>\n",
       "      <th>tower_damage</th>\n",
       "      <td>148</td>\n",
       "    </tr>\n",
       "    <tr>\n",
       "      <th>xp_per_min</th>\n",
       "      <td>400</td>\n",
       "    </tr>\n",
       "  </tbody>\n",
       "</table>\n",
       "</div>"
      ],
      "text/plain": [
       "                                                                  0\n",
       "ability_upgrades  [{u'time': 475, u'ability': 5163, u'level': 1}...\n",
       "account_id                                                117421467\n",
       "additional_units                                                NaN\n",
       "assists                                                          11\n",
       "deaths                                                            4\n",
       "denies                                                            2\n",
       "gold                                                           2609\n",
       "gold_per_min                                                    408\n",
       "gold_spent                                                     8950\n",
       "hero_damage                                                    5133\n",
       "hero_healing                                                    551\n",
       "hero_id                                                          37\n",
       "item_0                                                           65\n",
       "item_1                                                          100\n",
       "item_2                                                            0\n",
       "item_3                                                           30\n",
       "item_4                                                          188\n",
       "item_5                                                           29\n",
       "kills                                                             2\n",
       "last_hits                                                        91\n",
       "leaver_status                                                     0\n",
       "level                                                            14\n",
       "player_slot                                                       0\n",
       "tower_damage                                                    148\n",
       "xp_per_min                                                      400"
      ]
     },
     "execution_count": 24,
     "metadata": {},
     "output_type": "execute_result"
    }
   ],
   "source": [
    "pd.DataFrame(df_players_10.iloc[:,0].tolist()).head(1).T"
   ]
  },
  {
   "cell_type": "code",
   "execution_count": 31,
   "metadata": {
    "collapsed": false
   },
   "outputs": [
    {
     "data": {
      "text/plain": [
       "0    17625\n",
       "7    11425\n",
       "4      678\n",
       "8      229\n",
       "1       43\n",
       "dtype: int64"
      ]
     },
     "execution_count": 31,
     "metadata": {},
     "output_type": "execute_result"
    }
   ],
   "source": [
    "df['lobby_type'].value_counts()"
   ]
  },
  {
   "cell_type": "markdown",
   "metadata": {},
   "source": [
    "* Check only MMR matches"
   ]
  },
  {
   "cell_type": "code",
   "execution_count": 24,
   "metadata": {
    "collapsed": true
   },
   "outputs": [],
   "source": [
    "df_mmr = df[df['lobby_type']==7]"
   ]
  },
  {
   "cell_type": "code",
   "execution_count": 44,
   "metadata": {
    "collapsed": false
   },
   "outputs": [],
   "source": [
    "# df_mmr.info()\n",
    "# less than 1% matches are in Captain Mode"
   ]
  },
  {
   "cell_type": "code",
   "execution_count": 62,
   "metadata": {
    "collapsed": false
   },
   "outputs": [
    {
     "name": "stdout",
     "output_type": "stream",
     "text": [
      "/home/hao/Repos/DSI/DOTA2_Recommendation-System/model\n"
     ]
    }
   ],
   "source": [
    "cd model/"
   ]
  },
  {
   "cell_type": "code",
   "execution_count": 67,
   "metadata": {
    "collapsed": false
   },
   "outputs": [],
   "source": [
    "import log_model_heroes "
   ]
  },
  {
   "cell_type": "code",
   "execution_count": 69,
   "metadata": {
    "collapsed": false
   },
   "outputs": [
    {
     "name": "stdout",
     "output_type": "stream",
     "text": [
      "model_lg CV: [ 0.59623797  0.59824945  0.59912473  0.58249453  0.60070053]\n"
     ]
    }
   ],
   "source": [
    "log_model_heroes.model_lg(df_mmr)"
   ]
  },
  {
   "cell_type": "code",
   "execution_count": 70,
   "metadata": {
    "collapsed": false
   },
   "outputs": [
    {
     "name": "stdout",
     "output_type": "stream",
     "text": [
      "model_rf CV score: [ 0.5279965   0.51422319  0.54004376  0.53698031  0.5293345 ]\n"
     ]
    }
   ],
   "source": [
    "log_model_heroes.model_rf(df_mmr)"
   ]
  },
  {
   "cell_type": "code",
   "execution_count": 71,
   "metadata": {
    "collapsed": false
   },
   "outputs": [
    {
     "name": "stdout",
     "output_type": "stream",
     "text": [
      "model_lg CV: [ 0.60027543  0.59149595  0.59803753  0.58977449  0.5922865 ]\n"
     ]
    }
   ],
   "source": [
    "log_model_heroes.model_lg(df_log)"
   ]
  },
  {
   "cell_type": "code",
   "execution_count": 72,
   "metadata": {
    "collapsed": false
   },
   "outputs": [
    {
     "name": "stdout",
     "output_type": "stream",
     "text": [
      "model_rf CV score: [ 0.53572043  0.55052505  0.54054054  0.53761405  0.5297865 ]\n"
     ]
    }
   ],
   "source": [
    "log_model_heroes.model_rf(df_log)"
   ]
  },
  {
   "cell_type": "code",
   "execution_count": 26,
   "metadata": {
    "collapsed": false
   },
   "outputs": [
    {
     "data": {
      "text/plain": [
       "22    11270\n",
       "2       155\n",
       "dtype: int64"
      ]
     },
     "execution_count": 26,
     "metadata": {},
     "output_type": "execute_result"
    }
   ],
   "source": [
    "# Chceck the game mode in df_mmr\n",
    "df_mmr['game_mode'].value_counts()"
   ]
  },
  {
   "cell_type": "code",
   "execution_count": 27,
   "metadata": {
    "collapsed": false
   },
   "outputs": [
    {
     "data": {
      "text/plain": [
       "1     13818\n",
       "22    11270\n",
       "4      2584\n",
       "18      455\n",
       "5       372\n",
       "2       260\n",
       "3       184\n",
       "13       71\n",
       "12       27\n",
       "16        3\n",
       "dtype: int64"
      ]
     },
     "execution_count": 27,
     "metadata": {},
     "output_type": "execute_result"
    }
   ],
   "source": [
    "df_log['game_mode'].value_counts()"
   ]
  },
  {
   "cell_type": "markdown",
   "metadata": {},
   "source": [
    "*  Mode 1 is All-pick\n",
    "*  Mode 2 is Captain Mode\n",
    "*  Mode 22 is Ranked All-pick"
   ]
  },
  {
   "cell_type": "markdown",
   "metadata": {},
   "source": [
    "### Improvment needed for outcome predicted model\n",
    " - Tune the parameters in Logistic and Random Forester model\n",
    " - Adding Two heroes interaction in the model, 24,976-112 features were added to model. A pair of heroes on the same side or on the each side "
   ]
  }
 ],
 "metadata": {
  "kernelspec": {
   "display_name": "Python 2",
   "language": "python",
   "name": "python2"
  },
  "language_info": {
   "codemirror_mode": {
    "name": "ipython",
    "version": 2
   },
   "file_extension": ".py",
   "mimetype": "text/x-python",
   "name": "python",
   "nbconvert_exporter": "python",
   "pygments_lexer": "ipython2",
   "version": "2.7.10"
  }
 },
 "nbformat": 4,
 "nbformat_minor": 0
}

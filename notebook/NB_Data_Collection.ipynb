{
 "cells": [
  {
   "cell_type": "code",
   "execution_count": 1,
   "metadata": {
    "collapsed": true
   },
   "outputs": [],
   "source": [
    "import os\n",
    "import dota2api\n",
    "import datetime\n",
    "import json\n",
    "import pdb\n",
    "from time import sleep\n"
   ]
  },
  {
   "cell_type": "code",
   "execution_count": 2,
   "metadata": {
    "collapsed": true
   },
   "outputs": [],
   "source": [
    "#set up dota2api\n",
    "\n",
    "api = dota2api.Initialise(logging=True)"
   ]
  },
  {
   "cell_type": "code",
   "execution_count": 6,
   "metadata": {
    "collapsed": true
   },
   "outputs": [],
   "source": [
    "start_match_seq_num = 1704401237"
   ]
  },
  {
   "cell_type": "code",
   "execution_count": 7,
   "metadata": {
    "collapsed": true
   },
   "outputs": [],
   "source": [
    "match_temp = api.get_match_history_by_seq_num(start_match_seq_num-1)"
   ]
  },
  {
   "cell_type": "code",
   "execution_count": 9,
   "metadata": {
    "collapsed": false
   },
   "outputs": [
    {
     "data": {
      "text/plain": [
       "[u'status', u'matches']"
      ]
     },
     "execution_count": 9,
     "metadata": {},
     "output_type": "execute_result"
    }
   ],
   "source": [
    "match_temp.keys()"
   ]
  },
  {
   "cell_type": "code",
   "execution_count": 12,
   "metadata": {
    "collapsed": false,
    "scrolled": true
   },
   "outputs": [
    {
     "data": {
      "text/plain": [
       "1704401237"
      ]
     },
     "execution_count": 12,
     "metadata": {},
     "output_type": "execute_result"
    }
   ],
   "source": [
    "match_temp['matches'][0]['match_seq_num']"
   ]
  },
  {
   "cell_type": "code",
   "execution_count": 13,
   "metadata": {
    "collapsed": false
   },
   "outputs": [
    {
     "data": {
      "text/plain": [
       "2"
      ]
     },
     "execution_count": 13,
     "metadata": {},
     "output_type": "execute_result"
    }
   ],
   "source": [
    "len(match_temp)"
   ]
  },
  {
   "cell_type": "code",
   "execution_count": 14,
   "metadata": {
    "collapsed": false
   },
   "outputs": [
    {
     "data": {
      "text/plain": [
       "ObjectId('567270ae22f14a0f2ec02f29')"
      ]
     },
     "execution_count": 14,
     "metadata": {},
     "output_type": "execute_result"
    }
   ],
   "source": [
    "coll.insert(match_temp)"
   ]
  },
  {
   "cell_type": "code",
   "execution_count": 16,
   "metadata": {
    "collapsed": false,
    "scrolled": false
   },
   "outputs": [
    {
     "data": {
      "text/plain": [
       "1"
      ]
     },
     "execution_count": 16,
     "metadata": {},
     "output_type": "execute_result"
    }
   ],
   "source": [
    "coll.count()"
   ]
  },
  {
   "cell_type": "code",
   "execution_count": 19,
   "metadata": {
    "collapsed": false
   },
   "outputs": [
    {
     "data": {
      "text/plain": [
       "1"
      ]
     },
     "execution_count": 19,
     "metadata": {},
     "output_type": "execute_result"
    }
   ],
   "source": [
    "match_temp['status']"
   ]
  },
  {
   "cell_type": "markdown",
   "metadata": {},
   "source": [
    "** How to deal with the status not '1'\n",
    "\n",
    "    - It looks like all data parsed from api are \"1\" in status"
   ]
  },
  {
   "cell_type": "code",
   "execution_count": 20,
   "metadata": {
    "collapsed": false
   },
   "outputs": [
    {
     "data": {
      "text/plain": [
       "dota2api.src.response.Dota2Dict"
      ]
     },
     "execution_count": 20,
     "metadata": {},
     "output_type": "execute_result"
    }
   ],
   "source": [
    "type(match_temp)"
   ]
  },
  {
   "cell_type": "code",
   "execution_count": 21,
   "metadata": {
    "collapsed": false
   },
   "outputs": [
    {
     "data": {
      "text/plain": [
       "list"
      ]
     },
     "execution_count": 21,
     "metadata": {},
     "output_type": "execute_result"
    }
   ],
   "source": [
    "type(match_temp['matches'])"
   ]
  },
  {
   "cell_type": "code",
   "execution_count": 22,
   "metadata": {
    "collapsed": false
   },
   "outputs": [
    {
     "data": {
      "text/plain": [
       "int"
      ]
     },
     "execution_count": 22,
     "metadata": {},
     "output_type": "execute_result"
    }
   ],
   "source": [
    "type(match_temp['status'])"
   ]
  },
  {
   "cell_type": "code",
   "execution_count": 23,
   "metadata": {
    "collapsed": false
   },
   "outputs": [
    {
     "data": {
      "text/plain": [
       "100"
      ]
     },
     "execution_count": 23,
     "metadata": {},
     "output_type": "execute_result"
    }
   ],
   "source": [
    "len(match_temp['matches'])"
   ]
  },
  {
   "cell_type": "code",
   "execution_count": 24,
   "metadata": {
    "collapsed": false
   },
   "outputs": [
    {
     "data": {
      "text/plain": [
       "{u'n': 0, u'ok': 1}"
      ]
     },
     "execution_count": 24,
     "metadata": {},
     "output_type": "execute_result"
    }
   ],
   "source": [
    "db.coll.remove()"
   ]
  },
  {
   "cell_type": "code",
   "execution_count": 26,
   "metadata": {
    "collapsed": true
   },
   "outputs": [],
   "source": [
    "if match_temp['status'] != 1:\n",
    "    print match_temp['statusDetail']\n",
    "else:\n",
    "    for match in match_temp['matches']:\n",
    "        db.coll.insert(match)"
   ]
  },
  {
   "cell_type": "code",
   "execution_count": 27,
   "metadata": {
    "collapsed": false
   },
   "outputs": [
    {
     "data": {
      "text/plain": [
       "100"
      ]
     },
     "execution_count": 27,
     "metadata": {},
     "output_type": "execute_result"
    }
   ],
   "source": [
    "db.coll.count()"
   ]
  },
  {
   "cell_type": "code",
   "execution_count": 29,
   "metadata": {
    "collapsed": true
   },
   "outputs": [],
   "source": [
    "import datetime"
   ]
  },
  {
   "cell_type": "code",
   "execution_count": 30,
   "metadata": {
    "collapsed": true
   },
   "outputs": [],
   "source": [
    "t1 = datetime.datetime.now()"
   ]
  },
  {
   "cell_type": "code",
   "execution_count": 31,
   "metadata": {
    "collapsed": false
   },
   "outputs": [
    {
     "data": {
      "text/plain": [
       "datetime.datetime(2015, 12, 17, 0, 41, 38, 348199)"
      ]
     },
     "execution_count": 31,
     "metadata": {},
     "output_type": "execute_result"
    }
   ],
   "source": [
    "t1"
   ]
  },
  {
   "cell_type": "code",
   "execution_count": 32,
   "metadata": {
    "collapsed": true
   },
   "outputs": [],
   "source": [
    "t2 = datetime.datetime.now()"
   ]
  },
  {
   "cell_type": "code",
   "execution_count": 33,
   "metadata": {
    "collapsed": false
   },
   "outputs": [
    {
     "data": {
      "text/plain": [
       "datetime.datetime(2015, 12, 17, 0, 41, 56, 733514)"
      ]
     },
     "execution_count": 33,
     "metadata": {},
     "output_type": "execute_result"
    }
   ],
   "source": [
    "t2"
   ]
  },
  {
   "cell_type": "code",
   "execution_count": 34,
   "metadata": {
    "collapsed": false
   },
   "outputs": [
    {
     "data": {
      "text/plain": [
       "datetime.timedelta(0, 18, 385315)"
      ]
     },
     "execution_count": 34,
     "metadata": {},
     "output_type": "execute_result"
    }
   ],
   "source": [
    "t2 - t1"
   ]
  },
  {
   "cell_type": "code",
   "execution_count": 35,
   "metadata": {
    "collapsed": false
   },
   "outputs": [
    {
     "name": "stdout",
     "output_type": "stream",
     "text": [
      "0:00:18.385315\n"
     ]
    }
   ],
   "source": [
    "print str(t2-t1)"
   ]
  },
  {
   "cell_type": "code",
   "execution_count": null,
   "metadata": {
    "collapsed": true
   },
   "outputs": [],
   "source": [
    "def get_match_history():\n",
    "    n=0\n",
    "    start_match_seq_num = 1704401237\n",
    "    t0 = datetime.datetime.now()\n",
    "    \n",
    "    while n < 400:\n",
    "        if n % 40 ==0:\n",
    "            num = n+1\n",
    "            t1 = datetime.datetime.now()\n",
    "            delta_t = str(t1 - t0)\n",
    "            print \"Process {0} request use time: {1}\".format(num, delta_t)\n",
    "            \n",
    "        sleep(1.0)\n",
    "        \n",
    "        gmh = api.get_match_history_by_seq_num(start_at_match_seq_num=start_match_seq_num,\n",
    "                                               matches_requested=400)\n",
    "        \n",
    "        if gmh['status'] != 1:\n",
    "            print gmh['statusDetail']\n",
    "        else:\n",
    "            for match in gmh['matches']:\n",
    "                \n",
    "                match_id = match['match_id']\n",
    "\n",
    "                if db.coll.find_one({'match_id':match_id}) != None:\n",
    "#                 logger.debug('Encountered match %s already in database, exiting.' % match_id)\n",
    "                    print '.'\n",
    "                    exit(0)\n",
    "\n",
    "                sleep(1.0)\n",
    "                \n",
    "                db.coll.insert(match)\n",
    "                \n",
    "        last_match_seq_num = match[-1]['match_seq_num']\n",
    "        logger.debug('Match_id of last match of GMH query: %s' % last_match_id)\n",
    "        # We don't want to record the last match twice, so subtract 1\n",
    "        start_match_seq_num = last_match_seq_num + 1\n",
    "        n+=1"
   ]
  },
  {
   "cell_type": "code",
   "execution_count": 37,
   "metadata": {
    "collapsed": false
   },
   "outputs": [
    {
     "data": {
      "text/plain": [
       "200"
      ]
     },
     "execution_count": 37,
     "metadata": {},
     "output_type": "execute_result"
    }
   ],
   "source": [
    "db.coll.count()"
   ]
  },
  {
   "cell_type": "code",
   "execution_count": 39,
   "metadata": {
    "collapsed": false
   },
   "outputs": [
    {
     "data": {
      "text/plain": [
       "1928833457"
      ]
     },
     "execution_count": 39,
     "metadata": {},
     "output_type": "execute_result"
    }
   ],
   "source": [
    "match_temp['matches'][0]['match_id']"
   ]
  },
  {
   "cell_type": "markdown",
   "metadata": {},
   "source": [
    "* first two hundreds records are dupblicated"
   ]
  },
  {
   "cell_type": "code",
   "execution_count": 49,
   "metadata": {
    "collapsed": false
   },
   "outputs": [
    {
     "data": {
      "text/plain": [
       "1201"
      ]
     },
     "execution_count": 49,
     "metadata": {},
     "output_type": "execute_result"
    }
   ],
   "source": [
    "db.coll.count()"
   ]
  },
  {
   "cell_type": "code",
   "execution_count": 4,
   "metadata": {
    "collapsed": false
   },
   "outputs": [
    {
     "data": {
      "text/plain": [
       "u'/home/hao/Repos/DSI/DOTA2_Recommendation-System'"
      ]
     },
     "execution_count": 4,
     "metadata": {},
     "output_type": "execute_result"
    }
   ],
   "source": [
    "pwd"
   ]
  },
  {
   "cell_type": "code",
   "execution_count": 3,
   "metadata": {
    "collapsed": true
   },
   "outputs": [],
   "source": [
    "filename = 'Data_collection/match_history_sample.json'"
   ]
  },
  {
   "cell_type": "code",
   "execution_count": 25,
   "metadata": {
    "collapsed": false
   },
   "outputs": [],
   "source": [
    "def check_last_insert_match(file):\n",
    "\n",
    "    with open(file, 'r') as f:\n",
    "\n",
    "        current_req_num = 0\n",
    "        for line in f:\n",
    "            last = json.loads(line)\n",
    "            current_req_num += 1\n",
    "\n",
    "        if current_req_num == 0:\n",
    "            start_match_seq_num = 1704401237        \n",
    "        else:\n",
    "            start_match_seq_num = last['matches'][-1]['match_seq_num'] + 1\n",
    "        \n",
    "        return current_req_num, start_match_seq_num"
   ]
  },
  {
   "cell_type": "code",
   "execution_count": 26,
   "metadata": {
    "collapsed": true
   },
   "outputs": [],
   "source": [
    "filename1 = 'Data_collection/match_history_t.json'\n",
    "n, seq = check_last_insert_match(filename1)"
   ]
  },
  {
   "cell_type": "code",
   "execution_count": 27,
   "metadata": {
    "collapsed": false
   },
   "outputs": [
    {
     "data": {
      "text/plain": [
       "(0, 1704401237)"
      ]
     },
     "execution_count": 27,
     "metadata": {},
     "output_type": "execute_result"
    }
   ],
   "source": [
    "n, seq"
   ]
  },
  {
   "cell_type": "code",
   "execution_count": 22,
   "metadata": {
    "collapsed": false
   },
   "outputs": [
    {
     "data": {
      "text/plain": [
       "1704455240"
      ]
     },
     "execution_count": 22,
     "metadata": {},
     "output_type": "execute_result"
    }
   ],
   "source": [
    "start_match_seq_num"
   ]
  },
  {
   "cell_type": "code",
   "execution_count": 23,
   "metadata": {
    "collapsed": false
   },
   "outputs": [
    {
     "data": {
      "text/plain": [
       "300"
      ]
     },
     "execution_count": 23,
     "metadata": {},
     "output_type": "execute_result"
    }
   ],
   "source": [
    "current_req_num"
   ]
  },
  {
   "cell_type": "code",
   "execution_count": 20,
   "metadata": {
    "collapsed": false
   },
   "outputs": [],
   "source": [
    "with open(filename, 'r') as f:\n",
    "    for line in f:\n",
    "        last = json.loads(line)"
   ]
  },
  {
   "cell_type": "code",
   "execution_count": 22,
   "metadata": {
    "collapsed": true
   },
   "outputs": [],
   "source": [
    "start_match_seq_num = last['matches'][-1]['match_seq_num'] + 1"
   ]
  },
  {
   "cell_type": "code",
   "execution_count": 23,
   "metadata": {
    "collapsed": false,
    "scrolled": true
   },
   "outputs": [
    {
     "data": {
      "text/plain": [
       "1704455240"
      ]
     },
     "execution_count": 23,
     "metadata": {},
     "output_type": "execute_result"
    }
   ],
   "source": [
    "start_match_seq_num"
   ]
  },
  {
   "cell_type": "code",
   "execution_count": 49,
   "metadata": {
    "collapsed": false
   },
   "outputs": [],
   "source": [
    "date = last['matches'][-1]['start_time']"
   ]
  },
  {
   "cell_type": "code",
   "execution_count": 50,
   "metadata": {
    "collapsed": true
   },
   "outputs": [],
   "source": [
    "date_new = date + 1"
   ]
  },
  {
   "cell_type": "code",
   "execution_count": 51,
   "metadata": {
    "collapsed": false
   },
   "outputs": [
    {
     "data": {
      "text/plain": [
       "(1447244263, 1447244264)"
      ]
     },
     "execution_count": 51,
     "metadata": {},
     "output_type": "execute_result"
    }
   ],
   "source": [
    "date, date_new"
   ]
  },
  {
   "cell_type": "code",
   "execution_count": 54,
   "metadata": {
    "collapsed": false
   },
   "outputs": [
    {
     "name": "stdout",
     "output_type": "stream",
     "text": [
      "2015-11-11 04:17:43\n"
     ]
    }
   ],
   "source": [
    "print datetime.datetime.fromtimestamp(date)"
   ]
  },
  {
   "cell_type": "code",
   "execution_count": 55,
   "metadata": {
    "collapsed": false
   },
   "outputs": [
    {
     "name": "stdout",
     "output_type": "stream",
     "text": [
      "2015-11-11 04:17:44\n"
     ]
    }
   ],
   "source": [
    "print datetime.datetime.fromtimestamp(date_new)"
   ]
  },
  {
   "cell_type": "code",
   "execution_count": 67,
   "metadata": {
    "collapsed": false
   },
   "outputs": [],
   "source": [
    "t=datetime.datetime(2015, 11,11, 14, 11, 11)"
   ]
  },
  {
   "cell_type": "code",
   "execution_count": 68,
   "metadata": {
    "collapsed": false
   },
   "outputs": [
    {
     "name": "stdout",
     "output_type": "stream",
     "text": [
      "2015-11-11 14:11:11\n"
     ]
    }
   ],
   "source": [
    "print t"
   ]
  },
  {
   "cell_type": "code",
   "execution_count": 37,
   "metadata": {
    "collapsed": true
   },
   "outputs": [],
   "source": [
    "def check_time(t0):\n",
    "    t1 = datetime.datetime.now()\n",
    "    delta_t = str(t1 - t0)\n",
    "    t0 = t1\n",
    "    n=5\n",
    "#     n = check_last_insert_match(filename)[0]\n",
    "    with open('match_history_log_t.txt', mode='a') as check:\n",
    "        check.write(\"Current Request: {0}, Current time: {1}, Running time: {2}\\n\"\n",
    "                    .format(n, t1, delta_t))"
   ]
  },
  {
   "cell_type": "code",
   "execution_count": 30,
   "metadata": {
    "collapsed": true
   },
   "outputs": [],
   "source": [
    "t0 = datetime.datetime.now()"
   ]
  },
  {
   "cell_type": "code",
   "execution_count": 39,
   "metadata": {
    "collapsed": false
   },
   "outputs": [],
   "source": [
    "check_time(t0=t0)"
   ]
  },
  {
   "cell_type": "code",
   "execution_count": 45,
   "metadata": {
    "collapsed": false
   },
   "outputs": [
    {
     "data": {
      "text/plain": [
       "datetime.datetime(2015, 12, 22, 10, 24, 2, 420080)"
      ]
     },
     "execution_count": 45,
     "metadata": {},
     "output_type": "execute_result"
    }
   ],
   "source": [
    "t0"
   ]
  },
  {
   "cell_type": "code",
   "execution_count": 47,
   "metadata": {
    "collapsed": false
   },
   "outputs": [
    {
     "data": {
      "text/plain": [
       "datetime.datetime(2015, 12, 22, 10, 24, 3, 420080)"
      ]
     },
     "execution_count": 47,
     "metadata": {},
     "output_type": "execute_result"
    }
   ],
   "source": [
    "t0 + datetime.timedelta(0,1)"
   ]
  },
  {
   "cell_type": "code",
   "execution_count": 72,
   "metadata": {
    "collapsed": false
   },
   "outputs": [
    {
     "data": {
      "text/plain": [
       "datetime.datetime(2015, 11, 11, 3, 24, 30)"
      ]
     },
     "execution_count": 72,
     "metadata": {},
     "output_type": "execute_result"
    }
   ],
   "source": [
    "datetime.datetime.fromtimestamp(1447241070)"
   ]
  },
  {
   "cell_type": "code",
   "execution_count": 41,
   "metadata": {
    "collapsed": true
   },
   "outputs": [],
   "source": [
    "n =1\n",
    "t1=datetime.datetime.now()\n",
    "delta_t=1\n",
    "with open('match_history_log_t.txt', mode='a') as check:\n",
    "    check.write(\"Current Request: {0}, Current time: {1}, Running time: {2}\\n\"\n",
    "                    .format(n, t1, delta_t))"
   ]
  },
  {
   "cell_type": "code",
   "execution_count": 73,
   "metadata": {
    "collapsed": true
   },
   "outputs": [],
   "source": [
    "last_match_date = datetime.datetime(2015, 11, 11, 3, 36, 31)\n",
    "initial_date = datetime.datetime(2015, 11, 11, 0)\n"
   ]
  },
  {
   "cell_type": "code",
   "execution_count": 74,
   "metadata": {
    "collapsed": false
   },
   "outputs": [
    {
     "data": {
      "text/plain": [
       "True"
      ]
     },
     "execution_count": 74,
     "metadata": {},
     "output_type": "execute_result"
    }
   ],
   "source": [
    "initial_date < last_match_date"
   ]
  },
  {
   "cell_type": "code",
   "execution_count": 80,
   "metadata": {
    "collapsed": false
   },
   "outputs": [],
   "source": [
    "t = initial_date + datetime.timedelta(1,0)"
   ]
  },
  {
   "cell_type": "code",
   "execution_count": 81,
   "metadata": {
    "collapsed": false
   },
   "outputs": [
    {
     "data": {
      "text/plain": [
       "False"
      ]
     },
     "execution_count": 81,
     "metadata": {},
     "output_type": "execute_result"
    }
   ],
   "source": [
    "t < last_match_date"
   ]
  },
  {
   "cell_type": "markdown",
   "metadata": {},
   "source": [
    "### Full Data Set\n",
    "- around 6.8 million matches were parsed, 3.8 million matches from 11/11/2015(majority) to 11/15/2015(small proportion), 1 million matches per day. Then 3 million matches from 11/15/2015 to 12/19/2015 with random selection 1/20 matches.\n",
    "- The data will be used in this project, first 64,000 requests(lines), which is the matches before 12/16/2015.\n",
    "- 80G data\n",
    "- Build a database on current data"
   ]
  },
  {
   "cell_type": "markdown",
   "metadata": {
    "collapsed": true
   },
   "source": [
    "### Collect the personal information"
   ]
  },
  {
   "cell_type": "code",
   "execution_count": 3,
   "metadata": {
    "collapsed": true
   },
   "outputs": [],
   "source": [
    "hao = 110435207"
   ]
  },
  {
   "cell_type": "code",
   "execution_count": 4,
   "metadata": {
    "collapsed": false
   },
   "outputs": [
    {
     "data": {
      "text/plain": [
       "{u'matches': [{u'dire_team_id': 0,\n",
       "   u'lobby_type': 0,\n",
       "   u'match_id': 1980394727,\n",
       "   u'match_seq_num': 1747751775,\n",
       "   u'players': [{u'account_id': 301152448, u'hero_id': 101, u'player_slot': 0},\n",
       "    {u'account_id': 110435207, u'hero_id': 30, u'player_slot': 1},\n",
       "    {u'account_id': 45431908, u'hero_id': 72, u'player_slot': 2},\n",
       "    {u'account_id': 4294967295, u'hero_id': 18, u'player_slot': 3},\n",
       "    {u'account_id': 4294967295, u'hero_id': 81, u'player_slot': 4},\n",
       "    {u'account_id': 283908220, u'hero_id': 77, u'player_slot': 128},\n",
       "    {u'account_id': 300815921, u'hero_id': 104, u'player_slot': 129},\n",
       "    {u'account_id': 4294967295, u'hero_id': 60, u'player_slot': 130},\n",
       "    {u'account_id': 4294967295, u'hero_id': 8, u'player_slot': 131},\n",
       "    {u'account_id': 193629672, u'hero_id': 73, u'player_slot': 132}],\n",
       "   u'radiant_team_id': 0,\n",
       "   u'start_time': 1449297417},\n",
       "  {u'dire_team_id': 0,\n",
       "   u'lobby_type': 0,\n",
       "   u'match_id': 1980311745,\n",
       "   u'match_seq_num': 1747682422,\n",
       "   u'players': [{u'account_id': 81090590, u'hero_id': 44, u'player_slot': 0},\n",
       "    {u'account_id': 171975845, u'hero_id': 32, u'player_slot': 1},\n",
       "    {u'account_id': 4294967295, u'hero_id': 60, u'player_slot': 2},\n",
       "    {u'account_id': 100541003, u'hero_id': 26, u'player_slot': 3},\n",
       "    {u'account_id': 133012516, u'hero_id': 69, u'player_slot': 4},\n",
       "    {u'account_id': 45727778, u'hero_id': 54, u'player_slot': 128},\n",
       "    {u'account_id': 4294967295, u'hero_id': 23, u'player_slot': 129},\n",
       "    {u'account_id': 110435207, u'hero_id': 21, u'player_slot': 130},\n",
       "    {u'account_id': 4294967295, u'hero_id': 102, u'player_slot': 131},\n",
       "    {u'account_id': 112524916, u'hero_id': 7, u'player_slot': 132}],\n",
       "   u'radiant_team_id': 0,\n",
       "   u'start_time': 1449294657},\n",
       "  {u'dire_team_id': 0,\n",
       "   u'lobby_type': 0,\n",
       "   u'match_id': 1980232251,\n",
       "   u'match_seq_num': 1747616334,\n",
       "   u'players': [{u'account_id': 251773135, u'hero_id': 46, u'player_slot': 0},\n",
       "    {u'account_id': 60250200, u'hero_id': 44, u'player_slot': 1},\n",
       "    {u'account_id': 4294967295, u'hero_id': 21, u'player_slot': 2},\n",
       "    {u'account_id': 110435207, u'hero_id': 37, u'player_slot': 3},\n",
       "    {u'account_id': 4294967295, u'hero_id': 56, u'player_slot': 4},\n",
       "    {u'account_id': 47644239, u'hero_id': 105, u'player_slot': 128},\n",
       "    {u'account_id': 81835360, u'hero_id': 59, u'player_slot': 129},\n",
       "    {u'account_id': 246969368, u'hero_id': 23, u'player_slot': 130},\n",
       "    {u'account_id': 4294967295, u'hero_id': 86, u'player_slot': 131},\n",
       "    {u'account_id': 301600372, u'hero_id': 9, u'player_slot': 132}],\n",
       "   u'radiant_team_id': 0,\n",
       "   u'start_time': 1449291827},\n",
       "  {u'dire_team_id': 0,\n",
       "   u'lobby_type': 0,\n",
       "   u'match_id': 1979925544,\n",
       "   u'match_seq_num': 1747358890,\n",
       "   u'players': [{u'account_id': 131488721, u'hero_id': 38, u'player_slot': 0},\n",
       "    {u'account_id': 4294967295, u'hero_id': 93, u'player_slot': 1},\n",
       "    {u'account_id': 4294967295, u'hero_id': 104, u'player_slot': 2},\n",
       "    {u'account_id': 116430925, u'hero_id': 86, u'player_slot': 3},\n",
       "    {u'account_id': 139518592, u'hero_id': 103, u'player_slot': 4},\n",
       "    {u'account_id': 129566712, u'hero_id': 14, u'player_slot': 128},\n",
       "    {u'account_id': 212932285, u'hero_id': 9, u'player_slot': 129},\n",
       "    {u'account_id': 4294967295, u'hero_id': 99, u'player_slot': 130},\n",
       "    {u'account_id': 4294967295, u'hero_id': 45, u'player_slot': 131},\n",
       "    {u'account_id': 110435207, u'hero_id': 69, u'player_slot': 132}],\n",
       "   u'radiant_team_id': 0,\n",
       "   u'start_time': 1449277924},\n",
       "  {u'dire_team_id': 0,\n",
       "   u'lobby_type': 7,\n",
       "   u'match_id': 694882310,\n",
       "   u'match_seq_num': 627333216,\n",
       "   u'players': [{u'account_id': 4294967295, u'hero_id': 23, u'player_slot': 0},\n",
       "    {u'account_id': 4294967295, u'hero_id': 70, u'player_slot': 1},\n",
       "    {u'account_id': 112532518, u'hero_id': 72, u'player_slot': 2},\n",
       "    {u'account_id': 4294967295, u'hero_id': 22, u'player_slot': 3},\n",
       "    {u'account_id': 4294967295, u'hero_id': 86, u'player_slot': 4},\n",
       "    {u'account_id': 80110183, u'hero_id': 44, u'player_slot': 128},\n",
       "    {u'account_id': 149620546, u'hero_id': 9, u'player_slot': 129},\n",
       "    {u'account_id': 4294967295, u'hero_id': 26, u'player_slot': 130},\n",
       "    {u'account_id': 4294967295, u'hero_id': 1, u'player_slot': 131},\n",
       "    {u'account_id': 110435207, u'hero_id': 14, u'player_slot': 132}],\n",
       "   u'radiant_team_id': 0,\n",
       "   u'start_time': 1401663645},\n",
       "  {u'dire_team_id': 0,\n",
       "   u'lobby_type': 7,\n",
       "   u'match_id': 694846178,\n",
       "   u'match_seq_num': 627302631,\n",
       "   u'players': [{u'account_id': 122102698, u'hero_id': 21, u'player_slot': 0},\n",
       "    {u'account_id': 58416226, u'hero_id': 2, u'player_slot': 1},\n",
       "    {u'account_id': 54606251, u'hero_id': 80, u'player_slot': 2},\n",
       "    {u'account_id': 100089450, u'hero_id': 39, u'player_slot': 3},\n",
       "    {u'account_id': 110435207, u'hero_id': 84, u'player_slot': 4},\n",
       "    {u'account_id': 115179343, u'hero_id': 47, u'player_slot': 128},\n",
       "    {u'account_id': 115914097, u'hero_id': 40, u'player_slot': 129},\n",
       "    {u'account_id': 4294967295, u'hero_id': 71, u'player_slot': 130},\n",
       "    {u'account_id': 4294967295, u'hero_id': 63, u'player_slot': 131},\n",
       "    {u'account_id': 111419674, u'hero_id': 98, u'player_slot': 132}],\n",
       "   u'radiant_team_id': 0,\n",
       "   u'start_time': 1401660840},\n",
       "  {u'dire_team_id': 0,\n",
       "   u'lobby_type': 7,\n",
       "   u'match_id': 694801199,\n",
       "   u'match_seq_num': 627274480,\n",
       "   u'players': [{u'account_id': 4294967295, u'hero_id': 9, u'player_slot': 0},\n",
       "    {u'account_id': 4294967295, u'hero_id': 35, u'player_slot': 1},\n",
       "    {u'account_id': 146305211, u'hero_id': 74, u'player_slot': 2},\n",
       "    {u'account_id': 110886377, u'hero_id': 90, u'player_slot': 3},\n",
       "    {u'account_id': 4294967295, u'hero_id': 46, u'player_slot': 4},\n",
       "    {u'account_id': 1954859, u'hero_id': 104, u'player_slot': 128},\n",
       "    {u'account_id': 13894877, u'hero_id': 16, u'player_slot': 129},\n",
       "    {u'account_id': 4294967295, u'hero_id': 95, u'player_slot': 130},\n",
       "    {u'account_id': 110435207, u'hero_id': 33, u'player_slot': 131},\n",
       "    {u'account_id': 4294967295, u'hero_id': 22, u'player_slot': 132}],\n",
       "   u'radiant_team_id': 0,\n",
       "   u'start_time': 1401657911},\n",
       "  {u'dire_team_id': 0,\n",
       "   u'lobby_type': 7,\n",
       "   u'match_id': 694744402,\n",
       "   u'match_seq_num': 627227801,\n",
       "   u'players': [{u'account_id': 4294967295, u'hero_id': 49, u'player_slot': 0},\n",
       "    {u'account_id': 4294967295, u'hero_id': 14, u'player_slot': 1},\n",
       "    {u'account_id': 4294967295, u'hero_id': 78, u'player_slot': 2},\n",
       "    {u'account_id': 4294967295, u'hero_id': 93, u'player_slot': 3},\n",
       "    {u'account_id': 122819948, u'hero_id': 30, u'player_slot': 4},\n",
       "    {u'account_id': 4294967295, u'hero_id': 64, u'player_slot': 128},\n",
       "    {u'account_id': 4294967295, u'hero_id': 23, u'player_slot': 129},\n",
       "    {u'account_id': 110435207, u'hero_id': 90, u'player_slot': 130},\n",
       "    {u'account_id': 4294967295, u'hero_id': 35, u'player_slot': 131},\n",
       "    {u'account_id': 69261749, u'hero_id': 82, u'player_slot': 132}],\n",
       "   u'radiant_team_id': 0,\n",
       "   u'start_time': 1401654929},\n",
       "  {u'dire_team_id': 0,\n",
       "   u'lobby_type': 7,\n",
       "   u'match_id': 694702704,\n",
       "   u'match_seq_num': 627173999,\n",
       "   u'players': [{u'account_id': 4294967295, u'hero_id': 10, u'player_slot': 0},\n",
       "    {u'account_id': 110435207, u'hero_id': 39, u'player_slot': 1},\n",
       "    {u'account_id': 4294967295, u'hero_id': 9, u'player_slot': 2},\n",
       "    {u'account_id': 80526242, u'hero_id': 41, u'player_slot': 3},\n",
       "    {u'account_id': 4294967295, u'hero_id': 74, u'player_slot': 4},\n",
       "    {u'account_id': 84140089, u'hero_id': 75, u'player_slot': 128},\n",
       "    {u'account_id': 4294967295, u'hero_id': 85, u'player_slot': 129},\n",
       "    {u'account_id': 123189253, u'hero_id': 81, u'player_slot': 130},\n",
       "    {u'account_id': 4294967295, u'hero_id': 62, u'player_slot': 131},\n",
       "    {u'account_id': 4294967295, u'hero_id': 5, u'player_slot': 132}],\n",
       "   u'radiant_team_id': 0,\n",
       "   u'start_time': 1401653047},\n",
       "  {u'dire_team_id': 0,\n",
       "   u'lobby_type': 7,\n",
       "   u'match_id': 694428253,\n",
       "   u'match_seq_num': 626940076,\n",
       "   u'players': [{u'account_id': 102185545, u'hero_id': 26, u'player_slot': 0},\n",
       "    {u'account_id': 110435207, u'hero_id': 56, u'player_slot': 1},\n",
       "    {u'account_id': 123459286, u'hero_id': 93, u'player_slot': 2},\n",
       "    {u'account_id': 4294967295, u'hero_id': 2, u'player_slot': 3},\n",
       "    {u'account_id': 4294967295, u'hero_id': 34, u'player_slot': 4},\n",
       "    {u'account_id': 100282018, u'hero_id': 57, u'player_slot': 128},\n",
       "    {u'account_id': 84246187, u'hero_id': 1, u'player_slot': 129},\n",
       "    {u'account_id': 4294967295, u'hero_id': 90, u'player_slot': 130},\n",
       "    {u'account_id': 129901719, u'hero_id': 8, u'player_slot': 131},\n",
       "    {u'account_id': 4294967295, u'hero_id': 17, u'player_slot': 132}],\n",
       "   u'radiant_team_id': 0,\n",
       "   u'start_time': 1401643479},\n",
       "  {u'dire_team_id': 0,\n",
       "   u'lobby_type': 7,\n",
       "   u'match_id': 692914174,\n",
       "   u'match_seq_num': 625672535,\n",
       "   u'players': [{u'account_id': 4294967295, u'hero_id': 74, u'player_slot': 0},\n",
       "    {u'account_id': 162893410, u'hero_id': 27, u'player_slot': 1},\n",
       "    {u'account_id': 4294967295, u'hero_id': 79, u'player_slot': 2},\n",
       "    {u'account_id': 122605100, u'hero_id': 98, u'player_slot': 3},\n",
       "    {u'account_id': 51300312, u'hero_id': 90, u'player_slot': 4},\n",
       "    {u'account_id': 4294967295, u'hero_id': 73, u'player_slot': 128},\n",
       "    {u'account_id': 32455848, u'hero_id': 93, u'player_slot': 129},\n",
       "    {u'account_id': 110435207, u'hero_id': 2, u'player_slot': 130},\n",
       "    {u'account_id': 4294967295, u'hero_id': 101, u'player_slot': 131},\n",
       "    {u'account_id': 4294967295, u'hero_id': 21, u'player_slot': 132}],\n",
       "   u'radiant_team_id': 0,\n",
       "   u'start_time': 1401595575},\n",
       "  {u'dire_team_id': 0,\n",
       "   u'lobby_type': 7,\n",
       "   u'match_id': 692868694,\n",
       "   u'match_seq_num': 625623082,\n",
       "   u'players': [{u'account_id': 4294967295, u'hero_id': 1, u'player_slot': 0},\n",
       "    {u'account_id': 131532804, u'hero_id': 86, u'player_slot': 1},\n",
       "    {u'account_id': 85092826, u'hero_id': 34, u'player_slot': 2},\n",
       "    {u'account_id': 76962759, u'hero_id': 20, u'player_slot': 3},\n",
       "    {u'account_id': 44086042, u'hero_id': 96, u'player_slot': 4},\n",
       "    {u'account_id': 4294967295, u'hero_id': 4, u'player_slot': 128},\n",
       "    {u'account_id': 4294967295, u'hero_id': 97, u'player_slot': 129},\n",
       "    {u'account_id': 55239442, u'hero_id': 92, u'player_slot': 130},\n",
       "    {u'account_id': 110435207, u'hero_id': 58, u'player_slot': 131},\n",
       "    {u'account_id': 4294967295, u'hero_id': 73, u'player_slot': 132}],\n",
       "   u'radiant_team_id': 0,\n",
       "   u'start_time': 1401593045},\n",
       "  {u'dire_team_id': 0,\n",
       "   u'lobby_type': 7,\n",
       "   u'match_id': 680327276,\n",
       "   u'match_seq_num': 614993254,\n",
       "   u'players': [{u'account_id': 143559288, u'hero_id': 52, u'player_slot': 0},\n",
       "    {u'account_id': 4294967295, u'hero_id': 14, u'player_slot': 1},\n",
       "    {u'account_id': 81302078, u'hero_id': 98, u'player_slot': 2},\n",
       "    {u'account_id': 123768111, u'hero_id': 44, u'player_slot': 3},\n",
       "    {u'account_id': 97988026, u'hero_id': 64, u'player_slot': 4},\n",
       "    {u'account_id': 4294967295, u'hero_id': 8, u'player_slot': 128},\n",
       "    {u'account_id': 110435207, u'hero_id': 30, u'player_slot': 129},\n",
       "    {u'account_id': 4294967295, u'hero_id': 29, u'player_slot': 130},\n",
       "    {u'account_id': 114948524, u'hero_id': 18, u'player_slot': 131},\n",
       "    {u'account_id': 4294967295, u'hero_id': 51, u'player_slot': 132}],\n",
       "   u'radiant_team_id': 0,\n",
       "   u'start_time': 1401038974},\n",
       "  {u'dire_team_id': 0,\n",
       "   u'lobby_type': 7,\n",
       "   u'match_id': 668101723,\n",
       "   u'match_seq_num': 604606736,\n",
       "   u'players': [{u'account_id': 71265775, u'hero_id': 3, u'player_slot': 0},\n",
       "    {u'account_id': 4294967295, u'hero_id': 42, u'player_slot': 1},\n",
       "    {u'account_id': 4294967295, u'hero_id': 84, u'player_slot': 2},\n",
       "    {u'account_id': 4294967295, u'hero_id': 10, u'player_slot': 3},\n",
       "    {u'account_id': 109368925, u'hero_id': 9, u'player_slot': 4},\n",
       "    {u'account_id': 105527684, u'hero_id': 93, u'player_slot': 128},\n",
       "    {u'account_id': 125324512, u'hero_id': 98, u'player_slot': 129},\n",
       "    {u'account_id': 64693923, u'hero_id': 19, u'player_slot': 130},\n",
       "    {u'account_id': 4294967295, u'hero_id': 15, u'player_slot': 131},\n",
       "    {u'account_id': 110435207, u'hero_id': 30, u'player_slot': 132}],\n",
       "   u'radiant_team_id': 0,\n",
       "   u'start_time': 1400454962},\n",
       "  {u'dire_team_id': 0,\n",
       "   u'lobby_type': 7,\n",
       "   u'match_id': 668079764,\n",
       "   u'match_seq_num': 604583068,\n",
       "   u'players': [{u'account_id': 17792460, u'hero_id': 5, u'player_slot': 0},\n",
       "    {u'account_id': 110435207, u'hero_id': 28, u'player_slot': 1},\n",
       "    {u'account_id': 4294967295, u'hero_id': 26, u'player_slot': 2},\n",
       "    {u'account_id': 92509780, u'hero_id': 19, u'player_slot': 3},\n",
       "    {u'account_id': 64693923, u'hero_id': 76, u'player_slot': 4},\n",
       "    {u'account_id': 4294967295, u'hero_id': 7, u'player_slot': 128},\n",
       "    {u'account_id': 4294967295, u'hero_id': 53, u'player_slot': 129},\n",
       "    {u'account_id': 4294967295, u'hero_id': 12, u'player_slot': 130},\n",
       "    {u'account_id': 103799703, u'hero_id': 50, u'player_slot': 131},\n",
       "    {u'account_id': 4294967295, u'hero_id': 74, u'player_slot': 132}],\n",
       "   u'radiant_team_id': 0,\n",
       "   u'start_time': 1400452865},\n",
       "  {u'dire_team_id': 0,\n",
       "   u'lobby_type': 7,\n",
       "   u'match_id': 425649394,\n",
       "   u'match_seq_num': 387754263,\n",
       "   u'players': [{u'account_id': 63783788, u'hero_id': 104, u'player_slot': 0},\n",
       "    {u'account_id': 135883807, u'hero_id': 50, u'player_slot': 1},\n",
       "    {u'account_id': 8613704, u'hero_id': 77, u'player_slot': 2},\n",
       "    {u'account_id': 30350333, u'hero_id': 42, u'player_slot': 3},\n",
       "    {u'account_id': 54568924, u'hero_id': 55, u'player_slot': 4},\n",
       "    {u'account_id': 110435207, u'hero_id': 62, u'player_slot': 128},\n",
       "    {u'account_id': 4294967295, u'hero_id': 32, u'player_slot': 129},\n",
       "    {u'account_id': 46353220, u'hero_id': 98, u'player_slot': 130},\n",
       "    {u'account_id': 60516200, u'hero_id': 3, u'player_slot': 131},\n",
       "    {u'account_id': 4294967295, u'hero_id': 99, u'player_slot': 132}],\n",
       "   u'radiant_team_id': 0,\n",
       "   u'start_time': 1387152287},\n",
       "  {u'dire_team_id': 0,\n",
       "   u'lobby_type': 7,\n",
       "   u'match_id': 423518773,\n",
       "   u'match_seq_num': 385822264,\n",
       "   u'players': [{u'account_id': 4294967295, u'hero_id': 23, u'player_slot': 0},\n",
       "    {u'account_id': 4294967295, u'hero_id': 94, u'player_slot': 1},\n",
       "    {u'account_id': 4294967295, u'hero_id': 70, u'player_slot': 2},\n",
       "    {u'account_id': 4294967295, u'hero_id': 16, u'player_slot': 3},\n",
       "    {u'account_id': 135476199, u'hero_id': 30, u'player_slot': 4},\n",
       "    {u'account_id': 110435207, u'hero_id': 5, u'player_slot': 128},\n",
       "    {u'account_id': 146027813, u'hero_id': 72, u'player_slot': 129},\n",
       "    {u'account_id': 139490414, u'hero_id': 104, u'player_slot': 130},\n",
       "    {u'account_id': 4294967295, u'hero_id': 99, u'player_slot': 131},\n",
       "    {u'account_id': 151262773, u'hero_id': 63, u'player_slot': 132}],\n",
       "   u'radiant_team_id': 0,\n",
       "   u'start_time': 1387062293},\n",
       "  {u'dire_team_id': 0,\n",
       "   u'lobby_type': 7,\n",
       "   u'match_id': 423462105,\n",
       "   u'match_seq_num': 385770979,\n",
       "   u'players': [{u'account_id': 4294967295, u'hero_id': 47, u'player_slot': 0},\n",
       "    {u'account_id': 4294967295, u'hero_id': 62, u'player_slot': 1},\n",
       "    {u'account_id': 137179157, u'hero_id': 104, u'player_slot': 2},\n",
       "    {u'account_id': 110435207, u'hero_id': 85, u'player_slot': 3},\n",
       "    {u'account_id': 100321670, u'hero_id': 42, u'player_slot': 4},\n",
       "    {u'account_id': 94072698, u'hero_id': 76, u'player_slot': 128},\n",
       "    {u'account_id': 100700286, u'hero_id': 83, u'player_slot': 129},\n",
       "    {u'account_id': 34262004, u'hero_id': 20, u'player_slot': 130},\n",
       "    {u'account_id': 70338606, u'hero_id': 54, u'player_slot': 131},\n",
       "    {u'account_id': 4294967295, u'hero_id': 9, u'player_slot': 132}],\n",
       "   u'radiant_team_id': 0,\n",
       "   u'start_time': 1387059175},\n",
       "  {u'dire_team_id': 0,\n",
       "   u'lobby_type': 0,\n",
       "   u'match_id': 393207499,\n",
       "   u'match_seq_num': 358349226,\n",
       "   u'players': [{u'account_id': 4294967295, u'hero_id': 14, u'player_slot': 0},\n",
       "    {u'account_id': 110435207, u'hero_id': 102, u'player_slot': 1},\n",
       "    {u'account_id': 111639598, u'hero_id': 106, u'player_slot': 2},\n",
       "    {u'account_id': 38646045, u'hero_id': 58, u'player_slot': 3},\n",
       "    {u'account_id': 99337332, u'hero_id': 17, u'player_slot': 4},\n",
       "    {u'account_id': 88743958, u'hero_id': 18, u'player_slot': 128},\n",
       "    {u'account_id': 4294967295, u'hero_id': 2, u'player_slot': 129},\n",
       "    {u'account_id': 134705095, u'hero_id': 59, u'player_slot': 130},\n",
       "    {u'account_id': 4294967295, u'hero_id': 8, u'player_slot': 131},\n",
       "    {u'account_id': 125837971, u'hero_id': 35, u'player_slot': 132}],\n",
       "   u'radiant_team_id': 0,\n",
       "   u'start_time': 1384992346},\n",
       "  {u'dire_team_id': 0,\n",
       "   u'lobby_type': 0,\n",
       "   u'match_id': 380447964,\n",
       "   u'match_seq_num': 346825345,\n",
       "   u'players': [{u'account_id': 137040453, u'hero_id': 75, u'player_slot': 0},\n",
       "    {u'account_id': 126952662, u'hero_id': 102, u'player_slot': 1},\n",
       "    {u'account_id': 4294967295, u'hero_id': 14, u'player_slot': 2},\n",
       "    {u'account_id': 4294967295, u'hero_id': 22, u'player_slot': 3},\n",
       "    {u'account_id': 121899457, u'hero_id': 62, u'player_slot': 4},\n",
       "    {u'account_id': 123928315, u'hero_id': 54, u'player_slot': 128},\n",
       "    {u'account_id': 4294967295, u'hero_id': 86, u'player_slot': 129},\n",
       "    {u'account_id': 4294967295, u'hero_id': 18, u'player_slot': 130},\n",
       "    {u'account_id': 4294967295, u'hero_id': 10, u'player_slot': 131},\n",
       "    {u'account_id': 110435207, u'hero_id': 40, u'player_slot': 132}],\n",
       "   u'radiant_team_id': 0,\n",
       "   u'start_time': 1384221520},\n",
       "  {u'dire_team_id': 0,\n",
       "   u'lobby_type': 0,\n",
       "   u'match_id': 356541539,\n",
       "   u'match_seq_num': 324950373,\n",
       "   u'players': [{u'account_id': 91037377, u'hero_id': 30, u'player_slot': 0},\n",
       "    {u'account_id': 124983777, u'hero_id': 23, u'player_slot': 1},\n",
       "    {u'account_id': 4294967295, u'hero_id': 10, u'player_slot': 2},\n",
       "    {u'account_id': 4294967295, u'hero_id': 42, u'player_slot': 3},\n",
       "    {u'account_id': 85504204, u'hero_id': 27, u'player_slot': 4},\n",
       "    {u'account_id': 110435207, u'hero_id': 40, u'player_slot': 128},\n",
       "    {u'account_id': 4294967295, u'hero_id': 14, u'player_slot': 129},\n",
       "    {u'account_id': 4294967295, u'hero_id': 69, u'player_slot': 130},\n",
       "    {u'account_id': 4294967295, u'hero_id': 4, u'player_slot': 131},\n",
       "    {u'account_id': 130561945, u'hero_id': 8, u'player_slot': 132}],\n",
       "   u'radiant_team_id': 0,\n",
       "   u'start_time': 1382576079},\n",
       "  {u'dire_team_id': 0,\n",
       "   u'lobby_type': 0,\n",
       "   u'match_id': 331004374,\n",
       "   u'match_seq_num': 301481724,\n",
       "   u'players': [{u'account_id': 4294967295, u'hero_id': 98, u'player_slot': 0},\n",
       "    {u'account_id': 92313130, u'hero_id': 6, u'player_slot': 1},\n",
       "    {u'account_id': 105562720, u'hero_id': 32, u'player_slot': 2},\n",
       "    {u'account_id': 4294967295, u'hero_id': 74, u'player_slot': 3},\n",
       "    {u'account_id': 105717698, u'hero_id': 95, u'player_slot': 4},\n",
       "    {u'account_id': 4294967295, u'hero_id': 1, u'player_slot': 128},\n",
       "    {u'account_id': 26056993, u'hero_id': 75, u'player_slot': 129},\n",
       "    {u'account_id': 4294967295, u'hero_id': 34, u'player_slot': 130},\n",
       "    {u'account_id': 110435207, u'hero_id': 102, u'player_slot': 131},\n",
       "    {u'account_id': 4294967295, u'hero_id': 99, u'player_slot': 132}],\n",
       "   u'radiant_team_id': 0,\n",
       "   u'start_time': 1380760733},\n",
       "  {u'dire_team_id': 0,\n",
       "   u'lobby_type': 0,\n",
       "   u'match_id': 323783328,\n",
       "   u'match_seq_num': 294897149,\n",
       "   u'players': [{u'account_id': 99838145, u'hero_id': 54, u'player_slot': 0},\n",
       "    {u'account_id': 4294967295, u'hero_id': 39, u'player_slot': 1},\n",
       "    {u'account_id': 110435207, u'hero_id': 98, u'player_slot': 2},\n",
       "    {u'account_id': 4294967295, u'hero_id': 12, u'player_slot': 3},\n",
       "    {u'account_id': 4294967295, u'hero_id': 40, u'player_slot': 4},\n",
       "    {u'account_id': 78807496, u'hero_id': 14, u'player_slot': 128},\n",
       "    {u'account_id': 4294967295, u'hero_id': 80, u'player_slot': 129},\n",
       "    {u'account_id': 125171382, u'hero_id': 4, u'player_slot': 130},\n",
       "    {u'account_id': 138016597, u'hero_id': 75, u'player_slot': 131},\n",
       "    {u'account_id': 5966732, u'hero_id': 93, u'player_slot': 132}],\n",
       "   u'radiant_team_id': 0,\n",
       "   u'start_time': 1380239613},\n",
       "  {u'dire_team_id': 0,\n",
       "   u'lobby_type': 0,\n",
       "   u'match_id': 322738155,\n",
       "   u'match_seq_num': 293935812,\n",
       "   u'players': [{u'account_id': 130098981, u'hero_id': 76, u'player_slot': 0},\n",
       "    {u'account_id': 4294967295, u'hero_id': 53, u'player_slot': 1},\n",
       "    {u'account_id': 119112217, u'hero_id': 5, u'player_slot': 2},\n",
       "    {u'account_id': 110435207, u'hero_id': 51, u'player_slot': 3},\n",
       "    {u'account_id': 4294967295, u'hero_id': 94, u'player_slot': 4},\n",
       "    {u'account_id': 124948094, u'hero_id': 2, u'player_slot': 128},\n",
       "    {u'account_id': 111405273, u'hero_id': 67, u'player_slot': 129},\n",
       "    {u'account_id': 4294967295, u'hero_id': 21, u'player_slot': 130},\n",
       "    {u'account_id': 114713431, u'hero_id': 77, u'player_slot': 131},\n",
       "    {u'account_id': 100815987, u'hero_id': 28, u'player_slot': 132}],\n",
       "   u'radiant_team_id': 0,\n",
       "   u'start_time': 1380157462},\n",
       "  {u'dire_team_id': 0,\n",
       "   u'lobby_type': 0,\n",
       "   u'match_id': 322716662,\n",
       "   u'match_seq_num': 293919815,\n",
       "   u'players': [{u'account_id': 110435207, u'hero_id': 98, u'player_slot': 0},\n",
       "    {u'account_id': 4294967295, u'hero_id': 25, u'player_slot': 1},\n",
       "    {u'account_id': 80332094, u'hero_id': 56, u'player_slot': 2},\n",
       "    {u'account_id': 4294967295, u'hero_id': 1, u'player_slot': 3},\n",
       "    {u'account_id': 4294967295, u'hero_id': 79, u'player_slot': 4},\n",
       "    {u'account_id': 4294967295, u'hero_id': 93, u'player_slot': 128},\n",
       "    {u'account_id': 133543394, u'hero_id': 14, u'player_slot': 129},\n",
       "    {u'account_id': 4294967295, u'hero_id': 3, u'player_slot': 130},\n",
       "    {u'account_id': 94717633, u'hero_id': 42, u'player_slot': 131},\n",
       "    {u'account_id': 59738283, u'hero_id': 30, u'player_slot': 132}],\n",
       "   u'radiant_team_id': 0,\n",
       "   u'start_time': 1380153414},\n",
       "  {u'dire_team_id': 0,\n",
       "   u'lobby_type': 0,\n",
       "   u'match_id': 314455089,\n",
       "   u'match_seq_num': 286294081,\n",
       "   u'players': [{u'account_id': 126598235, u'hero_id': 81, u'player_slot': 0},\n",
       "    {u'account_id': 4294967295, u'hero_id': 11, u'player_slot': 1},\n",
       "    {u'account_id': 4294967295, u'hero_id': 67, u'player_slot': 2},\n",
       "    {u'account_id': 144896765, u'hero_id': 72, u'player_slot': 3},\n",
       "    {u'account_id': 4294967295, u'hero_id': 27, u'player_slot': 4},\n",
       "    {u'account_id': 4294967295, u'hero_id': 8, u'player_slot': 128},\n",
       "    {u'account_id': 110435207, u'hero_id': 44, u'player_slot': 129},\n",
       "    {u'account_id': 4294967295, u'hero_id': 71, u'player_slot': 130},\n",
       "    {u'account_id': 4294967295, u'hero_id': 34, u'player_slot': 131},\n",
       "    {u'account_id': 4294967295, u'hero_id': 2, u'player_slot': 132}],\n",
       "   u'radiant_team_id': 0,\n",
       "   u'start_time': 1379520938},\n",
       "  {u'dire_team_id': 0,\n",
       "   u'lobby_type': 0,\n",
       "   u'match_id': 310385505,\n",
       "   u'match_seq_num': 282501605,\n",
       "   u'players': [{u'account_id': 4294967295, u'hero_id': 98, u'player_slot': 0},\n",
       "    {u'account_id': 4294967295, u'hero_id': 27, u'player_slot': 1},\n",
       "    {u'account_id': 4294967295, u'hero_id': 75, u'player_slot': 2},\n",
       "    {u'account_id': 4294967295, u'hero_id': 93, u'player_slot': 3},\n",
       "    {u'account_id': 4294967295, u'hero_id': 1, u'player_slot': 4},\n",
       "    {u'account_id': 4294967295, u'hero_id': 62, u'player_slot': 128},\n",
       "    {u'account_id': 72561180, u'hero_id': 94, u'player_slot': 129},\n",
       "    {u'account_id': 110435207, u'hero_id': 71, u'player_slot': 130},\n",
       "    {u'account_id': 4294967295, u'hero_id': 17, u'player_slot': 131},\n",
       "    {u'account_id': 123026038, u'hero_id': 21, u'player_slot': 132}],\n",
       "   u'radiant_team_id': 0,\n",
       "   u'start_time': 1379201745},\n",
       "  {u'dire_team_id': 0,\n",
       "   u'lobby_type': 0,\n",
       "   u'match_id': 303510661,\n",
       "   u'match_seq_num': 276418041,\n",
       "   u'players': [{u'account_id': 123298727, u'hero_id': 53, u'player_slot': 0},\n",
       "    {u'account_id': 4294967295, u'hero_id': 78, u'player_slot': 1},\n",
       "    {u'account_id': 142203106, u'hero_id': 39, u'player_slot': 2},\n",
       "    {u'account_id': 110435207, u'hero_id': 40, u'player_slot': 3},\n",
       "    {u'account_id': 132146950, u'hero_id': 23, u'player_slot': 4},\n",
       "    {u'account_id': 4294967295, u'hero_id': 37, u'player_slot': 128},\n",
       "    {u'account_id': 4294967295, u'hero_id': 36, u'player_slot': 129},\n",
       "    {u'account_id': 4294967295, u'hero_id': 72, u'player_slot': 130},\n",
       "    {u'account_id': 4294967295, u'hero_id': 29, u'player_slot': 131},\n",
       "    {u'account_id': 138109231, u'hero_id': 13, u'player_slot': 132}],\n",
       "   u'radiant_team_id': 0,\n",
       "   u'start_time': 1378675077},\n",
       "  {u'dire_team_id': 0,\n",
       "   u'lobby_type': 0,\n",
       "   u'match_id': 265720635,\n",
       "   u'match_seq_num': 241188266,\n",
       "   u'players': [{u'account_id': 118138605, u'hero_id': 49, u'player_slot': 0},\n",
       "    {u'account_id': 110435207, u'hero_id': 98, u'player_slot': 1},\n",
       "    {u'account_id': 34165656, u'hero_id': 39, u'player_slot': 2},\n",
       "    {u'account_id': 89135893, u'hero_id': 79, u'player_slot': 3},\n",
       "    {u'account_id': 55585131, u'hero_id': 16, u'player_slot': 4},\n",
       "    {u'account_id': 64789190, u'hero_id': 64, u'player_slot': 128},\n",
       "    {u'account_id': 64051425, u'hero_id': 73, u'player_slot': 129},\n",
       "    {u'account_id': 94717633, u'hero_id': 100, u'player_slot': 130},\n",
       "    {u'account_id': 4294967295, u'hero_id': 36, u'player_slot': 131},\n",
       "    {u'account_id': 48063978, u'hero_id': 22, u'player_slot': 132}],\n",
       "   u'radiant_team_id': 0,\n",
       "   u'start_time': 1375835728},\n",
       "  {u'dire_team_id': 0,\n",
       "   u'lobby_type': 0,\n",
       "   u'match_id': 265699487,\n",
       "   u'match_seq_num': 241169736,\n",
       "   u'players': [{u'account_id': 37063924, u'hero_id': 12, u'player_slot': 0},\n",
       "    {u'account_id': 58233302, u'hero_id': 40, u'player_slot': 1},\n",
       "    {u'account_id': 105409727, u'hero_id': 26, u'player_slot': 2},\n",
       "    {u'account_id': 106357491, u'hero_id': 14, u'player_slot': 3},\n",
       "    {u'account_id': 4294967295, u'hero_id': 102, u'player_slot': 4},\n",
       "    {u'account_id': 127424444, u'hero_id': 7, u'player_slot': 128},\n",
       "    {u'account_id': 4294967295, u'hero_id': 6, u'player_slot': 129},\n",
       "    {u'account_id': 118628416, u'hero_id': 97, u'player_slot': 130},\n",
       "    {u'account_id': 60024365, u'hero_id': 52, u'player_slot': 131},\n",
       "    {u'account_id': 110435207, u'hero_id': 69, u'player_slot': 132}],\n",
       "   u'radiant_team_id': 0,\n",
       "   u'start_time': 1375832696},\n",
       "  {u'dire_team_id': 0,\n",
       "   u'lobby_type': 0,\n",
       "   u'match_id': 256204397,\n",
       "   u'match_seq_num': 232359560,\n",
       "   u'players': [{u'account_id': 7294, u'hero_id': 10, u'player_slot': 0},\n",
       "    {u'account_id': 37807026, u'hero_id': 55, u'player_slot': 1},\n",
       "    {u'account_id': 6845801, u'hero_id': 71, u'player_slot': 2},\n",
       "    {u'account_id': 4200153, u'hero_id': 75, u'player_slot': 3},\n",
       "    {u'account_id': 110435207, u'hero_id': 4, u'player_slot': 4},\n",
       "    {u'account_id': 4294967295, u'hero_id': 7, u'player_slot': 128},\n",
       "    {u'account_id': 4756313, u'hero_id': 100, u'player_slot': 129},\n",
       "    {u'account_id': 93083659, u'hero_id': 58, u'player_slot': 130},\n",
       "    {u'account_id': 91719375, u'hero_id': 6, u'player_slot': 131},\n",
       "    {u'account_id': 41015014, u'hero_id': 103, u'player_slot': 132}],\n",
       "   u'radiant_team_id': 0,\n",
       "   u'start_time': 1375045814},\n",
       "  {u'dire_team_id': 0,\n",
       "   u'lobby_type': 0,\n",
       "   u'match_id': 256200685,\n",
       "   u'match_seq_num': 232330303,\n",
       "   u'players': [{u'account_id': 45613594, u'hero_id': 99, u'player_slot': 0},\n",
       "    {u'account_id': 10160532, u'hero_id': 25, u'player_slot': 1},\n",
       "    {u'account_id': 7294, u'hero_id': 12, u'player_slot': 2},\n",
       "    {u'account_id': 4294967295, u'hero_id': 15, u'player_slot': 3},\n",
       "    {u'account_id': 110435207, u'hero_id': 22, u'player_slot': 4},\n",
       "    {u'account_id': 4756313, u'hero_id': 37, u'player_slot': 128},\n",
       "    {u'account_id': 93083659, u'hero_id': 36, u'player_slot': 129},\n",
       "    {u'account_id': 4294967295, u'hero_id': 2, u'player_slot': 130},\n",
       "    {u'account_id': 96484121, u'hero_id': 44, u'player_slot': 131},\n",
       "    {u'account_id': 15385372, u'hero_id': 11, u'player_slot': 132}],\n",
       "   u'radiant_team_id': 0,\n",
       "   u'start_time': 1375045497},\n",
       "  {u'dire_team_id': 0,\n",
       "   u'lobby_type': 0,\n",
       "   u'match_id': 256182805,\n",
       "   u'match_seq_num': 232325522,\n",
       "   u'players': [{u'account_id': 80952812, u'hero_id': 27, u'player_slot': 0},\n",
       "    {u'account_id': 123949819, u'hero_id': 29, u'player_slot': 1},\n",
       "    {u'account_id': 50306738, u'hero_id': 14, u'player_slot': 2},\n",
       "    {u'account_id': 53192827, u'hero_id': 56, u'player_slot': 3},\n",
       "    {u'account_id': 110435207, u'hero_id': 71, u'player_slot': 4},\n",
       "    {u'account_id': 4294967295, u'hero_id': 74, u'player_slot': 128},\n",
       "    {u'account_id': 4294967295, u'hero_id': 9, u'player_slot': 129},\n",
       "    {u'account_id': 4294967295, u'hero_id': 68, u'player_slot': 130},\n",
       "    {u'account_id': 4294967295, u'hero_id': 86, u'player_slot': 131},\n",
       "    {u'account_id': 4294967295, u'hero_id': 54, u'player_slot': 132}],\n",
       "   u'radiant_team_id': 0,\n",
       "   u'start_time': 1375043954},\n",
       "  {u'dire_team_id': 0,\n",
       "   u'lobby_type': 0,\n",
       "   u'match_id': 255141219,\n",
       "   u'match_seq_num': 231372966,\n",
       "   u'players': [{u'account_id': 4294967295, u'hero_id': 73, u'player_slot': 0},\n",
       "    {u'account_id': 29068062, u'hero_id': 55, u'player_slot': 1},\n",
       "    {u'account_id': 110435207, u'hero_id': 22, u'player_slot': 2},\n",
       "    {u'account_id': 4294967295, u'hero_id': 63, u'player_slot': 3},\n",
       "    {u'account_id': 4294967295, u'hero_id': 35, u'player_slot': 4},\n",
       "    {u'account_id': 112511553, u'hero_id': 2, u'player_slot': 128},\n",
       "    {u'account_id': 4294967295, u'hero_id': 9, u'player_slot': 129},\n",
       "    {u'account_id': 4294967295, u'hero_id': 42, u'player_slot': 130},\n",
       "    {u'account_id': 4294967295, u'hero_id': 28, u'player_slot': 131},\n",
       "    {u'account_id': 4294967295, u'hero_id': 36, u'player_slot': 132}],\n",
       "   u'radiant_team_id': 0,\n",
       "   u'start_time': 1374966390},\n",
       "  {u'dire_team_id': 0,\n",
       "   u'lobby_type': 0,\n",
       "   u'match_id': 255125288,\n",
       "   u'match_seq_num': 231349107,\n",
       "   u'players': [{u'account_id': 113770824, u'hero_id': 102, u'player_slot': 0},\n",
       "    {u'account_id': 4294967295, u'hero_id': 23, u'player_slot': 1},\n",
       "    {u'account_id': 4294967295, u'hero_id': 66, u'player_slot': 2},\n",
       "    {u'account_id': 56608186, u'hero_id': 40, u'player_slot': 3},\n",
       "    {u'account_id': 110435207, u'hero_id': 73, u'player_slot': 4},\n",
       "    {u'account_id': 43941542, u'hero_id': 14, u'player_slot': 128},\n",
       "    {u'account_id': 4294967295, u'hero_id': 71, u'player_slot': 129},\n",
       "    {u'account_id': 4294967295, u'hero_id': 26, u'player_slot': 130},\n",
       "    {u'account_id': 4632368, u'hero_id': 89, u'player_slot': 131},\n",
       "    {u'account_id': 4294967295, u'hero_id': 13, u'player_slot': 132}],\n",
       "   u'radiant_team_id': 0,\n",
       "   u'start_time': 1374964614},\n",
       "  {u'dire_team_id': 0,\n",
       "   u'lobby_type': 0,\n",
       "   u'match_id': 255101803,\n",
       "   u'match_seq_num': 231331509,\n",
       "   u'players': [{u'account_id': 4294967295, u'hero_id': 53, u'player_slot': 0},\n",
       "    {u'account_id': 4294967295, u'hero_id': 44, u'player_slot': 1},\n",
       "    {u'account_id': 4294967295, u'hero_id': 52, u'player_slot': 2},\n",
       "    {u'account_id': 4294967295, u'hero_id': 36, u'player_slot': 3},\n",
       "    {u'account_id': 44435212, u'hero_id': 72, u'player_slot': 4},\n",
       "    {u'account_id': 4294967295, u'hero_id': 45, u'player_slot': 128},\n",
       "    {u'account_id': 110687429, u'hero_id': 14, u'player_slot': 129},\n",
       "    {u'account_id': 110435207, u'hero_id': 78, u'player_slot': 130},\n",
       "    {u'account_id': 128783518, u'hero_id': 12, u'player_slot': 131},\n",
       "    {u'account_id': 109414867, u'hero_id': 33, u'player_slot': 132}],\n",
       "   u'radiant_team_id': 0,\n",
       "   u'start_time': 1374962287},\n",
       "  {u'dire_team_id': 0,\n",
       "   u'lobby_type': 0,\n",
       "   u'match_id': 255070374,\n",
       "   u'match_seq_num': 231307278,\n",
       "   u'players': [{u'account_id': 4294967295, u'hero_id': 81, u'player_slot': 0},\n",
       "    {u'account_id': 84552062, u'hero_id': 91, u'player_slot': 1},\n",
       "    {u'account_id': 65039587, u'hero_id': 53, u'player_slot': 2},\n",
       "    {u'account_id': 80069801, u'hero_id': 68, u'player_slot': 3},\n",
       "    {u'account_id': 25546877, u'hero_id': 62, u'player_slot': 4},\n",
       "    {u'account_id': 115837349, u'hero_id': 22, u'player_slot': 128},\n",
       "    {u'account_id': 4294967295, u'hero_id': 46, u'player_slot': 129},\n",
       "    {u'account_id': 110435207, u'hero_id': 102, u'player_slot': 130},\n",
       "    {u'account_id': 23022105, u'hero_id': 42, u'player_slot': 131},\n",
       "    {u'account_id': 4294967295, u'hero_id': 25, u'player_slot': 132}],\n",
       "   u'radiant_team_id': 0,\n",
       "   u'start_time': 1374959551},\n",
       "  {u'dire_team_id': 0,\n",
       "   u'lobby_type': 0,\n",
       "   u'match_id': 251205290,\n",
       "   u'match_seq_num': 227719728,\n",
       "   u'players': [{u'account_id': 4294967295, u'hero_id': 74, u'player_slot': 0},\n",
       "    {u'account_id': 122763717, u'hero_id': 79, u'player_slot': 1},\n",
       "    {u'account_id': 71962874, u'hero_id': 68, u'player_slot': 2},\n",
       "    {u'account_id': 110145678, u'hero_id': 10, u'player_slot': 3},\n",
       "    {u'account_id': 110435207, u'hero_id': 44, u'player_slot': 4},\n",
       "    {u'account_id': 4294967295, u'hero_id': 47, u'player_slot': 128},\n",
       "    {u'account_id': 4294967295, u'hero_id': 37, u'player_slot': 129},\n",
       "    {u'account_id': 57567121, u'hero_id': 97, u'player_slot': 130},\n",
       "    {u'account_id': 120611036, u'hero_id': 23, u'player_slot': 131},\n",
       "    {u'account_id': 4294967295, u'hero_id': 89, u'player_slot': 132}],\n",
       "   u'radiant_team_id': 0,\n",
       "   u'start_time': 1374622810},\n",
       "  {u'dire_team_id': 0,\n",
       "   u'lobby_type': 0,\n",
       "   u'match_id': 247385809,\n",
       "   u'match_seq_num': 224137022,\n",
       "   u'players': [{u'account_id': 4294967295, u'hero_id': 98, u'player_slot': 0},\n",
       "    {u'account_id': 4294967295, u'hero_id': 41, u'player_slot': 1},\n",
       "    {u'account_id': 31935505, u'hero_id': 39, u'player_slot': 2},\n",
       "    {u'account_id': 126403121, u'hero_id': 18, u'player_slot': 3},\n",
       "    {u'account_id': 110435207, u'hero_id': 52, u'player_slot': 4},\n",
       "    {u'account_id': 4294967295, u'hero_id': 47, u'player_slot': 128},\n",
       "    {u'account_id': 4294967295, u'hero_id': 14, u'player_slot': 129},\n",
       "    {u'account_id': 4294967295, u'hero_id': 4, u'player_slot': 130},\n",
       "    {u'account_id': 11078061, u'hero_id': 26, u'player_slot': 131},\n",
       "    {u'account_id': 4294967295, u'hero_id': 20, u'player_slot': 132}],\n",
       "   u'radiant_team_id': 0,\n",
       "   u'start_time': 1374274023},\n",
       "  {u'dire_team_id': 0,\n",
       "   u'lobby_type': 0,\n",
       "   u'match_id': 247369340,\n",
       "   u'match_seq_num': 224118896,\n",
       "   u'players': [{u'account_id': 113604520, u'hero_id': 102, u'player_slot': 0},\n",
       "    {u'account_id': 79896248, u'hero_id': 10, u'player_slot': 1},\n",
       "    {u'account_id': 119931531, u'hero_id': 25, u'player_slot': 2},\n",
       "    {u'account_id': 38187444, u'hero_id': 93, u'player_slot': 3},\n",
       "    {u'account_id': 110435207, u'hero_id': 30, u'player_slot': 4},\n",
       "    {u'account_id': 33191942, u'hero_id': 44, u'player_slot': 128},\n",
       "    {u'account_id': 4294967295, u'hero_id': 63, u'player_slot': 129},\n",
       "    {u'account_id': 4294967295, u'hero_id': 71, u'player_slot': 130},\n",
       "    {u'account_id': 101088499, u'hero_id': 80, u'player_slot': 131},\n",
       "    {u'account_id': 4294967295, u'hero_id': 86, u'player_slot': 132}],\n",
       "   u'radiant_team_id': 0,\n",
       "   u'start_time': 1374272023},\n",
       "  {u'dire_team_id': 0,\n",
       "   u'lobby_type': 0,\n",
       "   u'match_id': 220532004,\n",
       "   u'match_seq_num': 199073083,\n",
       "   u'players': [{u'account_id': 4294967295, u'hero_id': 93, u'player_slot': 0},\n",
       "    {u'account_id': 113441343, u'hero_id': 96, u'player_slot': 1},\n",
       "    {u'account_id': 115860616, u'hero_id': 47, u'player_slot': 2},\n",
       "    {u'account_id': 110435207, u'hero_id': 52, u'player_slot': 3},\n",
       "    {u'account_id': 4294967295, u'hero_id': 81, u'player_slot': 4},\n",
       "    {u'account_id': 115780210, u'hero_id': 98, u'player_slot': 128},\n",
       "    {u'account_id': 80924021, u'hero_id': 4, u'player_slot': 129},\n",
       "    {u'account_id': 47359959, u'hero_id': 22, u'player_slot': 130},\n",
       "    {u'account_id': 1839796, u'hero_id': 7, u'player_slot': 131},\n",
       "    {u'account_id': 113206536, u'hero_id': 6, u'player_slot': 132}],\n",
       "   u'radiant_team_id': 0,\n",
       "   u'start_time': 1371351711},\n",
       "  {u'dire_team_id': 0,\n",
       "   u'lobby_type': 0,\n",
       "   u'match_id': 220335128,\n",
       "   u'match_seq_num': 198892948,\n",
       "   u'players': [{u'account_id': 84979684, u'hero_id': 17, u'player_slot': 0},\n",
       "    {u'account_id': 110435207, u'hero_id': 12, u'player_slot': 1},\n",
       "    {u'account_id': 4294967295, u'hero_id': 21, u'player_slot': 2},\n",
       "    {u'account_id': 4294967295, u'hero_id': 22, u'player_slot': 3},\n",
       "    {u'account_id': 44595907, u'hero_id': 2, u'player_slot': 4},\n",
       "    {u'account_id': 178654, u'hero_id': 19, u'player_slot': 128},\n",
       "    {u'account_id': 169393, u'hero_id': 64, u'player_slot': 129},\n",
       "    {u'account_id': 76909057, u'hero_id': 76, u'player_slot': 130},\n",
       "    {u'account_id': 45268, u'hero_id': 53, u'player_slot': 131},\n",
       "    {u'account_id': 35242764, u'hero_id': 60, u'player_slot': 132}],\n",
       "   u'radiant_team_id': 0,\n",
       "   u'start_time': 1371324687},\n",
       "  {u'dire_team_id': 0,\n",
       "   u'lobby_type': 0,\n",
       "   u'match_id': 220301607,\n",
       "   u'match_seq_num': 198862451,\n",
       "   u'players': [{u'account_id': 115255768, u'hero_id': 5, u'player_slot': 0},\n",
       "    {u'account_id': 4294967295, u'hero_id': 25, u'player_slot': 1},\n",
       "    {u'account_id': 4294967295, u'hero_id': 49, u'player_slot': 2},\n",
       "    {u'account_id': 4294967295, u'hero_id': 23, u'player_slot': 3},\n",
       "    {u'account_id': 4294967295, u'hero_id': 17, u'player_slot': 4},\n",
       "    {u'account_id': 80269171, u'hero_id': 42, u'player_slot': 128},\n",
       "    {u'account_id': 118426165, u'hero_id': 55, u'player_slot': 129},\n",
       "    {u'account_id': 114489079, u'hero_id': 9, u'player_slot': 130},\n",
       "    {u'account_id': 83770143, u'hero_id': 64, u'player_slot': 131},\n",
       "    {u'account_id': 110435207, u'hero_id': 69, u'player_slot': 132}],\n",
       "   u'radiant_team_id': 0,\n",
       "   u'start_time': 1371321868},\n",
       "  {u'dire_team_id': 0,\n",
       "   u'lobby_type': 0,\n",
       "   u'match_id': 220266828,\n",
       "   u'match_seq_num': 198828130,\n",
       "   u'players': [{u'account_id': 4294967295, u'hero_id': 62, u'player_slot': 0},\n",
       "    {u'account_id': 110435207, u'hero_id': 96, u'player_slot': 1},\n",
       "    {u'account_id': 4294967295, u'hero_id': 94, u'player_slot': 2},\n",
       "    {u'account_id': 113456679, u'hero_id': 14, u'player_slot': 3},\n",
       "    {u'account_id': 4294967295, u'hero_id': 41, u'player_slot': 4},\n",
       "    {u'account_id': 4294967295, u'hero_id': 28, u'player_slot': 128},\n",
       "    {u'account_id': 4294967295, u'hero_id': 42, u'player_slot': 129},\n",
       "    {u'account_id': 101265372, u'hero_id': 35, u'player_slot': 130},\n",
       "    {u'account_id': 130140588, u'hero_id': 32, u'player_slot': 131},\n",
       "    {u'account_id': 112694857, u'hero_id': 33, u'player_slot': 132}],\n",
       "   u'radiant_team_id': 0,\n",
       "   u'start_time': 1371319131},\n",
       "  {u'dire_team_id': 0,\n",
       "   u'lobby_type': 0,\n",
       "   u'match_id': 220234368,\n",
       "   u'match_seq_num': 198795027,\n",
       "   u'players': [{u'account_id': 101118131, u'hero_id': 20, u'player_slot': 0},\n",
       "    {u'account_id': 97503800, u'hero_id': 46, u'player_slot': 1},\n",
       "    {u'account_id': 124707661, u'hero_id': 44, u'player_slot': 2},\n",
       "    {u'account_id': 4294967295, u'hero_id': 7, u'player_slot': 3},\n",
       "    {u'account_id': 4294967295, u'hero_id': 36, u'player_slot': 4},\n",
       "    {u'account_id': 110435207, u'hero_id': 59, u'player_slot': 128},\n",
       "    {u'account_id': 4294967295, u'hero_id': 12, u'player_slot': 129},\n",
       "    {u'account_id': 4294967295, u'hero_id': 32, u'player_slot': 130},\n",
       "    {u'account_id': 89423753, u'hero_id': 87, u'player_slot': 131},\n",
       "    {u'account_id': 4294967295, u'hero_id': 16, u'player_slot': 132}],\n",
       "   u'radiant_team_id': 0,\n",
       "   u'start_time': 1371316680},\n",
       "  {u'dire_team_id': 0,\n",
       "   u'lobby_type': 0,\n",
       "   u'match_id': 191284645,\n",
       "   u'match_seq_num': 171926462,\n",
       "   u'players': [{u'account_id': 87377600, u'hero_id': 84, u'player_slot': 0},\n",
       "    {u'account_id': 87707787, u'hero_id': 76, u'player_slot': 1},\n",
       "    {u'account_id': 100336557, u'hero_id': 99, u'player_slot': 2},\n",
       "    {u'account_id': 114583490, u'hero_id': 26, u'player_slot': 3},\n",
       "    {u'account_id': 4294967295, u'hero_id': 67, u'player_slot': 4},\n",
       "    {u'account_id': 56878113, u'hero_id': 16, u'player_slot': 128},\n",
       "    {u'account_id': 49147706, u'hero_id': 87, u'player_slot': 129},\n",
       "    {u'account_id': 4294967295, u'hero_id': 88, u'player_slot': 130},\n",
       "    {u'account_id': 110435207, u'hero_id': 72, u'player_slot': 131},\n",
       "    {u'account_id': 110371351, u'hero_id': 6, u'player_slot': 132}],\n",
       "   u'radiant_team_id': 0,\n",
       "   u'start_time': 1368061252},\n",
       "  {u'dire_team_id': 0,\n",
       "   u'lobby_type': 0,\n",
       "   u'match_id': 191271270,\n",
       "   u'match_seq_num': 171917408,\n",
       "   u'players': [{u'account_id': 4294967295, u'hero_id': 92, u'player_slot': 0},\n",
       "    {u'account_id': 87575066, u'hero_id': 2, u'player_slot': 1},\n",
       "    {u'account_id': 4294967295, u'hero_id': 63, u'player_slot': 2},\n",
       "    {u'account_id': 4294967295, u'hero_id': 37, u'player_slot': 3},\n",
       "    {u'account_id': 630873, u'hero_id': 12, u'player_slot': 4},\n",
       "    {u'account_id': 110435207, u'hero_id': 59, u'player_slot': 128},\n",
       "    {u'account_id': 110371351, u'hero_id': 90, u'player_slot': 129},\n",
       "    {u'account_id': 27682580, u'hero_id': 79, u'player_slot': 130},\n",
       "    {u'account_id': 4294967295, u'hero_id': 39, u'player_slot': 131},\n",
       "    {u'account_id': 4294967295, u'hero_id': 45, u'player_slot': 132}],\n",
       "   u'radiant_team_id': 0,\n",
       "   u'start_time': 1368058201},\n",
       "  {u'dire_team_id': 0,\n",
       "   u'lobby_type': 0,\n",
       "   u'match_id': 190597661,\n",
       "   u'match_seq_num': 171314798,\n",
       "   u'players': [{u'account_id': 110371351, u'hero_id': 30, u'player_slot': 0},\n",
       "    {u'account_id': 4294967295, u'hero_id': 6, u'player_slot': 1},\n",
       "    {u'account_id': 111140856, u'hero_id': 41, u'player_slot': 2},\n",
       "    {u'account_id': 110435207, u'hero_id': 29, u'player_slot': 3},\n",
       "    {u'account_id': 4294967295, u'hero_id': 56, u'player_slot': 4},\n",
       "    {u'account_id': 16451335, u'hero_id': 39, u'player_slot': 128},\n",
       "    {u'account_id': 33806817, u'hero_id': 87, u'player_slot': 129},\n",
       "    {u'account_id': 116295850, u'hero_id': 47, u'player_slot': 130},\n",
       "    {u'account_id': 92103465, u'hero_id': 31, u'player_slot': 131},\n",
       "    {u'account_id': 4294967295, u'hero_id': 26, u'player_slot': 132}],\n",
       "   u'radiant_team_id': 0,\n",
       "   u'start_time': 1367979687},\n",
       "  {u'dire_team_id': 0,\n",
       "   u'lobby_type': 0,\n",
       "   u'match_id': 190585231,\n",
       "   u'match_seq_num': 171300879,\n",
       "   u'players': [{u'account_id': 50335183, u'hero_id': 27, u'player_slot': 0},\n",
       "    {u'account_id': 114904365, u'hero_id': 28, u'player_slot': 1},\n",
       "    {u'account_id': 73661575, u'hero_id': 89, u'player_slot': 2},\n",
       "    {u'account_id': 4294967295, u'hero_id': 41, u'player_slot': 3},\n",
       "    {u'account_id': 4294967295, u'hero_id': 99, u'player_slot': 4},\n",
       "    {u'account_id': 4294967295, u'hero_id': 96, u'player_slot': 128},\n",
       "    {u'account_id': 110371351, u'hero_id': 37, u'player_slot': 129},\n",
       "    {u'account_id': 110435207, u'hero_id': 32, u'player_slot': 130},\n",
       "    {u'account_id': 111140856, u'hero_id': 17, u'player_slot': 131},\n",
       "    {u'account_id': 4294967295, u'hero_id': 62, u'player_slot': 132}],\n",
       "   u'radiant_team_id': 0,\n",
       "   u'start_time': 1367976823},\n",
       "  {u'dire_team_id': 0,\n",
       "   u'lobby_type': 0,\n",
       "   u'match_id': 186072050,\n",
       "   u'match_seq_num': 167311847,\n",
       "   u'players': [{u'account_id': 83450940, u'hero_id': 39, u'player_slot': 0},\n",
       "    {u'account_id': 60046816, u'hero_id': 93, u'player_slot': 1},\n",
       "    {u'account_id': 96143498, u'hero_id': 76, u'player_slot': 2},\n",
       "    {u'account_id': 69625353, u'hero_id': 73, u'player_slot': 3},\n",
       "    {u'account_id': 4294967295, u'hero_id': 77, u'player_slot': 4},\n",
       "    {u'account_id': 111511224, u'hero_id': 51, u'player_slot': 128},\n",
       "    {u'account_id': 110371351, u'hero_id': 1, u'player_slot': 129},\n",
       "    {u'account_id': 89301032, u'hero_id': 16, u'player_slot': 130},\n",
       "    {u'account_id': 110435207, u'hero_id': 30, u'player_slot': 131},\n",
       "    {u'account_id': 111140856, u'hero_id': 90, u'player_slot': 132}],\n",
       "   u'radiant_team_id': 0,\n",
       "   u'start_time': 1367466373},\n",
       "  {u'dire_team_id': 0,\n",
       "   u'lobby_type': 0,\n",
       "   u'match_id': 186057583,\n",
       "   u'match_seq_num': 167301492,\n",
       "   u'players': [{u'account_id': 4294967295, u'hero_id': 25, u'player_slot': 0},\n",
       "    {u'account_id': 99636440, u'hero_id': 17, u'player_slot': 1},\n",
       "    {u'account_id': 96830516, u'hero_id': 7, u'player_slot': 2},\n",
       "    {u'account_id': 96724306, u'hero_id': 30, u'player_slot': 3},\n",
       "    {u'account_id': 4294967295, u'hero_id': 8, u'player_slot': 4},\n",
       "    {u'account_id': 110371351, u'hero_id': 97, u'player_slot': 128},\n",
       "    {u'account_id': 89301032, u'hero_id': 56, u'player_slot': 129},\n",
       "    {u'account_id': 110435207, u'hero_id': 11, u'player_slot': 130},\n",
       "    {u'account_id': 93241031, u'hero_id': 100, u'player_slot': 131},\n",
       "    {u'account_id': 4294967295, u'hero_id': 1, u'player_slot': 132}],\n",
       "   u'radiant_team_id': 0,\n",
       "   u'start_time': 1367463111},\n",
       "  {u'dire_team_id': 0,\n",
       "   u'lobby_type': 0,\n",
       "   u'match_id': 186051491,\n",
       "   u'match_seq_num': 167289614,\n",
       "   u'players': [{u'account_id': 110435207, u'hero_id': 32, u'player_slot': 0},\n",
       "    {u'account_id': 110371351, u'hero_id': 97, u'player_slot': 1},\n",
       "    {u'account_id': 89301032, u'hero_id': 18, u'player_slot': 2},\n",
       "    {u'account_id': 104259558, u'hero_id': 67, u'player_slot': 3},\n",
       "    {u'account_id': 4294967295, u'hero_id': 26, u'player_slot': 4},\n",
       "    {u'account_id': 4294967295, u'hero_id': 51, u'player_slot': 128},\n",
       "    {u'account_id': 4294967295, u'hero_id': 50, u'player_slot': 129},\n",
       "    {u'account_id': 4294967295, u'hero_id': 1, u'player_slot': 130},\n",
       "    {u'account_id': 103644334, u'hero_id': 28, u'player_slot': 131},\n",
       "    {u'account_id': 100791065, u'hero_id': 30, u'player_slot': 132}],\n",
       "   u'radiant_team_id': 0,\n",
       "   u'start_time': 1367461681},\n",
       "  {u'dire_team_id': 0,\n",
       "   u'lobby_type': 0,\n",
       "   u'match_id': 185269745,\n",
       "   u'match_seq_num': 166652901,\n",
       "   u'players': [{u'account_id': 13523394, u'hero_id': 72, u'player_slot': 0},\n",
       "    {u'account_id': 101535572, u'hero_id': 8, u'player_slot': 1},\n",
       "    {u'account_id': 110371351, u'hero_id': 88, u'player_slot': 2},\n",
       "    {u'account_id': 110435207, u'hero_id': 99, u'player_slot': 3},\n",
       "    {u'account_id': 111140856, u'hero_id': 29, u'player_slot': 4},\n",
       "    {u'account_id': 86894180, u'hero_id': 11, u'player_slot': 128},\n",
       "    {u'account_id': 45133333, u'hero_id': 96, u'player_slot': 129},\n",
       "    {u'account_id': 4294967295, u'hero_id': 86, u'player_slot': 130},\n",
       "    {u'account_id': 70183810, u'hero_id': 44, u'player_slot': 131},\n",
       "    {u'account_id': 84332872, u'hero_id': 5, u'player_slot': 132}],\n",
       "   u'radiant_team_id': 0,\n",
       "   u'start_time': 1367377687},\n",
       "  {u'dire_team_id': 0,\n",
       "   u'lobby_type': 0,\n",
       "   u'match_id': 185263937,\n",
       "   u'match_seq_num': 166642045,\n",
       "   u'players': [{u'account_id': 4294967295, u'hero_id': 26, u'player_slot': 0},\n",
       "    {u'account_id': 104042166, u'hero_id': 70, u'player_slot': 1},\n",
       "    {u'account_id': 79252989, u'hero_id': 27, u'player_slot': 2},\n",
       "    {u'account_id': 74836677, u'hero_id': 75, u'player_slot': 3},\n",
       "    {u'account_id': 23009588, u'hero_id': 72, u'player_slot': 4},\n",
       "    {u'account_id': 4294967295, u'hero_id': 21, u'player_slot': 128},\n",
       "    {u'account_id': 4294967295, u'hero_id': 97, u'player_slot': 129},\n",
       "    {u'account_id': 110371351, u'hero_id': 29, u'player_slot': 130},\n",
       "    {u'account_id': 111140856, u'hero_id': 13, u'player_slot': 131},\n",
       "    {u'account_id': 110435207, u'hero_id': 48, u'player_slot': 132}],\n",
       "   u'radiant_team_id': 0,\n",
       "   u'start_time': 1367376686},\n",
       "  {u'dire_team_id': 0,\n",
       "   u'lobby_type': 0,\n",
       "   u'match_id': 167451834,\n",
       "   u'match_seq_num': 151401694,\n",
       "   u'players': [{u'account_id': 53165514, u'hero_id': 74, u'player_slot': 0},\n",
       "    {u'account_id': 4294967295, u'hero_id': 44, u'player_slot': 1},\n",
       "    {u'account_id': 124840564, u'hero_id': 93, u'player_slot': 2},\n",
       "    {u'account_id': 110435207, u'hero_id': 37, u'player_slot': 3},\n",
       "    {u'account_id': 86963426, u'hero_id': 83, u'player_slot': 4},\n",
       "    {u'account_id': 4294967295, u'hero_id': 71, u'player_slot': 128},\n",
       "    {u'account_id': 4294967295, u'hero_id': 15, u'player_slot': 129},\n",
       "    {u'account_id': 4294967295, u'hero_id': 52, u'player_slot': 130},\n",
       "    {u'account_id': 116548905, u'hero_id': 59, u'player_slot': 131},\n",
       "    {u'account_id': 119554767, u'hero_id': 26, u'player_slot': 132}],\n",
       "   u'radiant_team_id': 0,\n",
       "   u'start_time': 1365308328},\n",
       "  {u'dire_team_id': 0,\n",
       "   u'lobby_type': 0,\n",
       "   u'match_id': 167432673,\n",
       "   u'match_seq_num': 151390196,\n",
       "   u'players': [{u'account_id': 4294967295, u'hero_id': 49, u'player_slot': 0},\n",
       "    {u'account_id': 4294967295, u'hero_id': 6, u'player_slot': 1},\n",
       "    {u'account_id': 110435207, u'hero_id': 37, u'player_slot': 2},\n",
       "    {u'account_id': 17399433, u'hero_id': 19, u'player_slot': 3},\n",
       "    {u'account_id': 105757522, u'hero_id': 80, u'player_slot': 4},\n",
       "    {u'account_id': 4294967295, u'hero_id': 23, u'player_slot': 128},\n",
       "    {u'account_id': 4294967295, u'hero_id': 7, u'player_slot': 129},\n",
       "    {u'account_id': 4294967295, u'hero_id': 18, u'player_slot': 130},\n",
       "    {u'account_id': 4294967295, u'hero_id': 88, u'player_slot': 131},\n",
       "    {u'account_id': 4294967295, u'hero_id': 21, u'player_slot': 132}],\n",
       "   u'radiant_team_id': 0,\n",
       "   u'start_time': 1365305005},\n",
       "  {u'dire_team_id': 0,\n",
       "   u'lobby_type': 0,\n",
       "   u'match_id': 166609573,\n",
       "   u'match_seq_num': 150685410,\n",
       "   u'players': [{u'account_id': 70543793, u'hero_id': 8, u'player_slot': 0},\n",
       "    {u'account_id': 4294967295, u'hero_id': 15, u'player_slot': 1},\n",
       "    {u'account_id': 4294967295, u'hero_id': 12, u'player_slot': 2},\n",
       "    {u'account_id': 4294967295, u'hero_id': 35, u'player_slot': 3},\n",
       "    {u'account_id': 52028172, u'hero_id': 86, u'player_slot': 4},\n",
       "    {u'account_id': 106684914, u'hero_id': 13, u'player_slot': 128},\n",
       "    {u'account_id': 4294967295, u'hero_id': 76, u'player_slot': 129},\n",
       "    {u'account_id': 110435207, u'hero_id': 97, u'player_slot': 130},\n",
       "    {u'account_id': 110371351, u'hero_id': 88, u'player_slot': 131},\n",
       "    {u'account_id': 89301032, u'hero_id': 44, u'player_slot': 132}],\n",
       "   u'radiant_team_id': 0,\n",
       "   u'start_time': 1365222971},\n",
       "  {u'dire_team_id': 0,\n",
       "   u'lobby_type': 0,\n",
       "   u'match_id': 166589721,\n",
       "   u'match_seq_num': 150664452,\n",
       "   u'players': [{u'account_id': 4294967295, u'hero_id': 73, u'player_slot': 0},\n",
       "    {u'account_id': 110435207, u'hero_id': 12, u'player_slot': 1},\n",
       "    {u'account_id': 81989011, u'hero_id': 11, u'player_slot': 2},\n",
       "    {u'account_id': 40283424, u'hero_id': 90, u'player_slot': 3},\n",
       "    {u'account_id': 22776179, u'hero_id': 84, u'player_slot': 4},\n",
       "    {u'account_id': 109069969, u'hero_id': 35, u'player_slot': 128},\n",
       "    {u'account_id': 4294967295, u'hero_id': 61, u'player_slot': 129},\n",
       "    {u'account_id': 4294967295, u'hero_id': 78, u'player_slot': 130},\n",
       "    {u'account_id': 4294967295, u'hero_id': 89, u'player_slot': 131},\n",
       "    {u'account_id': 12168390, u'hero_id': 14, u'player_slot': 132}],\n",
       "   u'radiant_team_id': 0,\n",
       "   u'start_time': 1365219521},\n",
       "  {u'dire_team_id': 0,\n",
       "   u'lobby_type': 0,\n",
       "   u'match_id': 166570621,\n",
       "   u'match_seq_num': 150651311,\n",
       "   u'players': [{u'account_id': 121339877, u'hero_id': 76, u'player_slot': 0},\n",
       "    {u'account_id': 4294967295, u'hero_id': 31, u'player_slot': 1},\n",
       "    {u'account_id': 110435207, u'hero_id': 99, u'player_slot': 2},\n",
       "    {u'account_id': 15705089, u'hero_id': 37, u'player_slot': 3},\n",
       "    {u'account_id': 109475941, u'hero_id': 62, u'player_slot': 4},\n",
       "    {u'account_id': 106618246, u'hero_id': 32, u'player_slot': 128},\n",
       "    {u'account_id': 4294967295, u'hero_id': 35, u'player_slot': 129},\n",
       "    {u'account_id': 1221859, u'hero_id': 43, u'player_slot': 130},\n",
       "    {u'account_id': 17779444, u'hero_id': 100, u'player_slot': 131},\n",
       "    {u'account_id': 4294967295, u'hero_id': 8, u'player_slot': 132}],\n",
       "   u'radiant_team_id': 0,\n",
       "   u'start_time': 1365215983},\n",
       "  {u'dire_team_id': 0,\n",
       "   u'lobby_type': 0,\n",
       "   u'match_id': 166556144,\n",
       "   u'match_seq_num': 150634504,\n",
       "   u'players': [{u'account_id': 110435207, u'hero_id': 99, u'player_slot': 0},\n",
       "    {u'account_id': 4294967295, u'hero_id': 64, u'player_slot': 1},\n",
       "    {u'account_id': 4294967295, u'hero_id': 74, u'player_slot': 2},\n",
       "    {u'account_id': 4294967295, u'hero_id': 96, u'player_slot': 3},\n",
       "    {u'account_id': 4294967295, u'hero_id': 16, u'player_slot': 4},\n",
       "    {u'account_id': 4294967295, u'hero_id': 11, u'player_slot': 128},\n",
       "    {u'account_id': 98502854, u'hero_id': 65, u'player_slot': 129},\n",
       "    {u'account_id': 116310205, u'hero_id': 79, u'player_slot': 130},\n",
       "    {u'account_id': 4294967295, u'hero_id': 90, u'player_slot': 131},\n",
       "    {u'account_id': 4294967295, u'hero_id': 85, u'player_slot': 132}],\n",
       "   u'radiant_team_id': 0,\n",
       "   u'start_time': 1365213213},\n",
       "  {u'dire_team_id': 0,\n",
       "   u'lobby_type': 0,\n",
       "   u'match_id': 166482319,\n",
       "   u'match_seq_num': 150569886,\n",
       "   u'players': [{u'account_id': 4294967295, u'hero_id': 4, u'player_slot': 0},\n",
       "    {u'account_id': 4294967295, u'hero_id': 69, u'player_slot': 1},\n",
       "    {u'account_id': 4294967295, u'hero_id': 86, u'player_slot': 2},\n",
       "    {u'account_id': 4294967295, u'hero_id': 19, u'player_slot': 3},\n",
       "    {u'account_id': 4294967295, u'hero_id': 61, u'player_slot': 4},\n",
       "    {u'account_id': 93513813, u'hero_id': 71, u'player_slot': 128},\n",
       "    {u'account_id': 110435207, u'hero_id': 52, u'player_slot': 129},\n",
       "    {u'account_id': 110371351, u'hero_id': 37, u'player_slot': 130},\n",
       "    {u'account_id': 13427369, u'hero_id': 73, u'player_slot': 131},\n",
       "    {u'account_id': 4294967295, u'hero_id': 26, u'player_slot': 132}],\n",
       "   u'radiant_team_id': 0,\n",
       "   u'start_time': 1365199918},\n",
       "  {u'dire_team_id': 0,\n",
       "   u'lobby_type': 0,\n",
       "   u'match_id': 166417961,\n",
       "   u'match_seq_num': 150513424,\n",
       "   u'players': [{u'account_id': 110371351, u'hero_id': 40, u'player_slot': 0},\n",
       "    {u'account_id': 110435207, u'hero_id': 32, u'player_slot': 1},\n",
       "    {u'account_id': 4294967295, u'hero_id': 18, u'player_slot': 2},\n",
       "    {u'account_id': 4294967295, u'hero_id': 99, u'player_slot': 3},\n",
       "    {u'account_id': 4294967295, u'hero_id': 53, u'player_slot': 4},\n",
       "    {u'account_id': 121519103, u'hero_id': 14, u'player_slot': 128},\n",
       "    {u'account_id': 4294967295, u'hero_id': 2, u'player_slot': 129},\n",
       "    {u'account_id': 4294967295, u'hero_id': 86, u'player_slot': 130},\n",
       "    {u'account_id': 4294967295, u'hero_id': 73, u'player_slot': 131},\n",
       "    {u'account_id': 4294967295, u'hero_id': 62, u'player_slot': 132}],\n",
       "   u'radiant_team_id': 0,\n",
       "   u'start_time': 1365192639},\n",
       "  {u'dire_team_id': 0,\n",
       "   u'lobby_type': 0,\n",
       "   u'match_id': 165801057,\n",
       "   u'match_seq_num': 149988015,\n",
       "   u'players': [{u'account_id': 110435207, u'hero_id': 77, u'player_slot': 0},\n",
       "    {u'account_id': 4294967295, u'hero_id': 31, u'player_slot': 1},\n",
       "    {u'account_id': 4294967295, u'hero_id': 54, u'player_slot': 2},\n",
       "    {u'account_id': 15705089, u'hero_id': 6, u'player_slot': 3},\n",
       "    {u'account_id': 124459761, u'hero_id': 12, u'player_slot': 4},\n",
       "    {u'account_id': 83526974, u'hero_id': 76, u'player_slot': 128},\n",
       "    {u'account_id': 31668629, u'hero_id': 94, u'player_slot': 129},\n",
       "    {u'account_id': 4294967295, u'hero_id': 48, u'player_slot': 130},\n",
       "    {u'account_id': 4294967295, u'hero_id': 99, u'player_slot': 131},\n",
       "    {u'account_id': 4294967295, u'hero_id': 88, u'player_slot': 132}],\n",
       "   u'radiant_team_id': 0,\n",
       "   u'start_time': 1365125420},\n",
       "  {u'dire_team_id': 0,\n",
       "   u'lobby_type': 0,\n",
       "   u'match_id': 162209891,\n",
       "   u'match_seq_num': 146923659,\n",
       "   u'players': [{u'account_id': 123382749, u'hero_id': 30, u'player_slot': 0},\n",
       "    {u'account_id': 123818246, u'hero_id': 32, u'player_slot': 1},\n",
       "    {u'account_id': 114056828, u'hero_id': 41, u'player_slot': 2},\n",
       "    {u'account_id': 126169945, u'hero_id': 39, u'player_slot': 3},\n",
       "    {u'account_id': 102553836, u'hero_id': 64, u'player_slot': 4},\n",
       "    {u'account_id': 110435207, u'hero_id': 78, u'player_slot': 128},\n",
       "    {u'account_id': 27361482, u'hero_id': 33, u'player_slot': 129},\n",
       "    {u'account_id': 4294967295, u'hero_id': 6, u'player_slot': 130},\n",
       "    {u'account_id': 117235206, u'hero_id': 90, u'player_slot': 131},\n",
       "    {u'account_id': 4294967295, u'hero_id': 99, u'player_slot': 132}],\n",
       "   u'radiant_team_id': 0,\n",
       "   u'start_time': 1364699563},\n",
       "  {u'dire_team_id': 0,\n",
       "   u'lobby_type': 0,\n",
       "   u'match_id': 162191795,\n",
       "   u'match_seq_num': 146911022,\n",
       "   u'players': [{u'account_id': 58563989, u'hero_id': 63, u'player_slot': 0},\n",
       "    {u'account_id': 4294967295, u'hero_id': 20, u'player_slot': 1},\n",
       "    {u'account_id': 106784229, u'hero_id': 92, u'player_slot': 2},\n",
       "    {u'account_id': 4294967295, u'hero_id': 19, u'player_slot': 3},\n",
       "    {u'account_id': 4294967295, u'hero_id': 72, u'player_slot': 4},\n",
       "    {u'account_id': 110435207, u'hero_id': 23, u'player_slot': 128},\n",
       "    {u'account_id': 49613262, u'hero_id': 87, u'player_slot': 129},\n",
       "    {u'account_id': 4294967295, u'hero_id': 9, u'player_slot': 130},\n",
       "    {u'account_id': 4294967295, u'hero_id': 53, u'player_slot': 131},\n",
       "    {u'account_id': 56941802, u'hero_id': 58, u'player_slot': 132}],\n",
       "   u'radiant_team_id': 0,\n",
       "   u'start_time': 1364696140},\n",
       "  {u'dire_team_id': 0,\n",
       "   u'lobby_type': 0,\n",
       "   u'match_id': 161254079,\n",
       "   u'match_seq_num': 146114724,\n",
       "   u'players': [{u'account_id': 121002138, u'hero_id': 27, u'player_slot': 0},\n",
       "    {u'account_id': 57905361, u'hero_id': 87, u'player_slot': 1},\n",
       "    {u'account_id': 4294967295, u'hero_id': 56, u'player_slot': 2},\n",
       "    {u'account_id': 4294967295, u'hero_id': 21, u'player_slot': 3},\n",
       "    {u'account_id': 4294967295, u'hero_id': 23, u'player_slot': 4},\n",
       "    {u'account_id': 4294967295, u'hero_id': 57, u'player_slot': 128},\n",
       "    {u'account_id': 110435207, u'hero_id': 75, u'player_slot': 129},\n",
       "    {u'account_id': 4294967295, u'hero_id': 99, u'player_slot': 130},\n",
       "    {u'account_id': 4294967295, u'hero_id': 2, u'player_slot': 131},\n",
       "    {u'account_id': 89825427, u'hero_id': 1, u'player_slot': 132}],\n",
       "   u'radiant_team_id': 0,\n",
       "   u'start_time': 1364602886},\n",
       "  {u'dire_team_id': 0,\n",
       "   u'lobby_type': 0,\n",
       "   u'match_id': 161236498,\n",
       "   u'match_seq_num': 146100716,\n",
       "   u'players': [{u'account_id': 4294967295, u'hero_id': 53, u'player_slot': 0},\n",
       "    {u'account_id': 68274318, u'hero_id': 60, u'player_slot': 1},\n",
       "    {u'account_id': 26133838, u'hero_id': 22, u'player_slot': 2},\n",
       "    {u'account_id': 51917335, u'hero_id': 88, u'player_slot': 3},\n",
       "    {u'account_id': 4294967295, u'hero_id': 14, u'player_slot': 4},\n",
       "    {u'account_id': 4294967295, u'hero_id': 98, u'player_slot': 128},\n",
       "    {u'account_id': 4294967295, u'hero_id': 62, u'player_slot': 129},\n",
       "    {u'account_id': 4294967295, u'hero_id': 92, u'player_slot': 130},\n",
       "    {u'account_id': 4294967295, u'hero_id': 19, u'player_slot': 131},\n",
       "    {u'account_id': 110435207, u'hero_id': 72, u'player_slot': 132}],\n",
       "   u'radiant_team_id': 0,\n",
       "   u'start_time': 1364599803},\n",
       "  {u'dire_team_id': 0,\n",
       "   u'lobby_type': 0,\n",
       "   u'match_id': 161193852,\n",
       "   u'match_seq_num': 146068394,\n",
       "   u'players': [{u'account_id': 122466992, u'hero_id': 28, u'player_slot': 0},\n",
       "    {u'account_id': 115091246, u'hero_id': 76, u'player_slot': 1},\n",
       "    {u'account_id': 4294967295, u'hero_id': 22, u'player_slot': 2},\n",
       "    {u'account_id': 4294967295, u'hero_id': 19, u'player_slot': 3},\n",
       "    {u'account_id': 4294967295, u'hero_id': 77, u'player_slot': 4},\n",
       "    {u'account_id': 110435207, u'hero_id': 64, u'player_slot': 128},\n",
       "    {u'account_id': 4294967295, u'hero_id': 75, u'player_slot': 129},\n",
       "    {u'account_id': 4294967295, u'hero_id': 100, u'player_slot': 130},\n",
       "    {u'account_id': 4294967295, u'hero_id': 33, u'player_slot': 131},\n",
       "    {u'account_id': 65231658, u'hero_id': 99, u'player_slot': 132}],\n",
       "   u'radiant_team_id': 0,\n",
       "   u'start_time': 1364594423},\n",
       "  {u'dire_team_id': 0,\n",
       "   u'lobby_type': 0,\n",
       "   u'match_id': 161168277,\n",
       "   u'match_seq_num': 146039522,\n",
       "   u'players': [{u'account_id': 99297365, u'hero_id': 9, u'player_slot': 0},\n",
       "    {u'account_id': 4294967295, u'hero_id': 91, u'player_slot': 1},\n",
       "    {u'account_id': 4294967295, u'hero_id': 78, u'player_slot': 2},\n",
       "    {u'account_id': 4294967295, u'hero_id': 99, u'player_slot': 3},\n",
       "    {u'account_id': 75890640, u'hero_id': 42, u'player_slot': 4},\n",
       "    {u'account_id': 110435207, u'hero_id': 85, u'player_slot': 128},\n",
       "    {u'account_id': 114626254, u'hero_id': 56, u'player_slot': 129},\n",
       "    {u'account_id': 119287965, u'hero_id': 16, u'player_slot': 130},\n",
       "    {u'account_id': 4294967295, u'hero_id': 44, u'player_slot': 131},\n",
       "    {u'account_id': 4294967295, u'hero_id': 30, u'player_slot': 132}],\n",
       "   u'radiant_team_id': 0,\n",
       "   u'start_time': 1364591855},\n",
       "  {u'dire_team_id': 0,\n",
       "   u'lobby_type': 0,\n",
       "   u'match_id': 160982173,\n",
       "   u'match_seq_num': 145878876,\n",
       "   u'players': [{u'account_id': 119833797, u'hero_id': 62, u'player_slot': 0},\n",
       "    {u'account_id': 4294967295, u'hero_id': 14, u'player_slot': 1},\n",
       "    {u'account_id': 34278493, u'hero_id': 30, u'player_slot': 2},\n",
       "    {u'account_id': 110435207, u'hero_id': 73, u'player_slot': 3},\n",
       "    {u'account_id': 4294967295, u'hero_id': 8, u'player_slot': 4},\n",
       "    {u'account_id': 4294967295, u'hero_id': 7, u'player_slot': 128},\n",
       "    {u'account_id': 4294967295, u'hero_id': 79, u'player_slot': 129},\n",
       "    {u'account_id': 4294967295, u'hero_id': 15, u'player_slot': 130},\n",
       "    {u'account_id': 4294967295, u'hero_id': 88, u'player_slot': 131},\n",
       "    {u'account_id': 4294967295, u'hero_id': 23, u'player_slot': 132}],\n",
       "   u'radiant_team_id': 0,\n",
       "   u'start_time': 1364577894},\n",
       "  {u'dire_team_id': 0,\n",
       "   u'lobby_type': 0,\n",
       "   u'match_id': 159437310,\n",
       "   u'match_seq_num': 144591786,\n",
       "   u'players': [{u'account_id': 4294967295, u'hero_id': 55, u'player_slot': 0},\n",
       "    {u'account_id': 4294967295, u'hero_id': 70, u'player_slot': 1},\n",
       "    {u'account_id': 4294967295, u'hero_id': 83, u'player_slot': 2},\n",
       "    {u'account_id': 111635011, u'hero_id': 58, u'player_slot': 3},\n",
       "    {u'account_id': 110435207, u'hero_id': 79, u'player_slot': 4},\n",
       "    {u'account_id': 108918894, u'hero_id': 28, u'player_slot': 128},\n",
       "    {u'account_id': 4294967295, u'hero_id': 8, u'player_slot': 129},\n",
       "    {u'account_id': 124203512, u'hero_id': 80, u'player_slot': 130},\n",
       "    {u'account_id': 4294967295, u'hero_id': 71, u'player_slot': 131},\n",
       "    {u'account_id': 4294967295, u'hero_id': 40, u'player_slot': 132}],\n",
       "   u'radiant_team_id': 0,\n",
       "   u'start_time': 1364422468},\n",
       "  {u'dire_team_id': 0,\n",
       "   u'lobby_type': 0,\n",
       "   u'match_id': 157891049,\n",
       "   u'match_seq_num': 143324924,\n",
       "   u'players': [{u'account_id': 121935088, u'hero_id': 88, u'player_slot': 0},\n",
       "    {u'account_id': 4294967295, u'hero_id': 96, u'player_slot': 1},\n",
       "    {u'account_id': 110435207, u'hero_id': 85, u'player_slot': 2},\n",
       "    {u'account_id': 110371351, u'hero_id': 62, u'player_slot': 3},\n",
       "    {u'account_id': 32821610, u'hero_id': 3, u'player_slot': 4},\n",
       "    {u'account_id': 4294967295, u'hero_id': 54, u'player_slot': 128},\n",
       "    {u'account_id': 4294967295, u'hero_id': 90, u'player_slot': 129},\n",
       "    {u'account_id': 4294967295, u'hero_id': 71, u'player_slot': 130},\n",
       "    {u'account_id': 4294967295, u'hero_id': 16, u'player_slot': 131},\n",
       "    {u'account_id': 35569052, u'hero_id': 21, u'player_slot': 132}],\n",
       "   u'radiant_team_id': 0,\n",
       "   u'start_time': 1364257880},\n",
       "  {u'dire_team_id': 0,\n",
       "   u'lobby_type': 0,\n",
       "   u'match_id': 157883456,\n",
       "   u'match_seq_num': 143310213,\n",
       "   u'players': [{u'account_id': 4294967295, u'hero_id': 2, u'player_slot': 0},\n",
       "    {u'account_id': 4294967295, u'hero_id': 90, u'player_slot': 1},\n",
       "    {u'account_id': 4294967295, u'hero_id': 97, u'player_slot': 2},\n",
       "    {u'account_id': 4294967295, u'hero_id': 21, u'player_slot': 3},\n",
       "    {u'account_id': 4294967295, u'hero_id': 69, u'player_slot': 4},\n",
       "    {u'account_id': 110435207, u'hero_id': 10, u'player_slot': 128},\n",
       "    {u'account_id': 110371351, u'hero_id': 25, u'player_slot': 129},\n",
       "    {u'account_id': 4294967295, u'hero_id': 19, u'player_slot': 130},\n",
       "    {u'account_id': 86769812, u'hero_id': 29, u'player_slot': 131},\n",
       "    {u'account_id': 4294967295, u'hero_id': 50, u'player_slot': 132}],\n",
       "   u'radiant_team_id': 0,\n",
       "   u'start_time': 1364256424},\n",
       "  {u'dire_team_id': 0,\n",
       "   u'lobby_type': 0,\n",
       "   u'match_id': 157809114,\n",
       "   u'match_seq_num': 143252974,\n",
       "   u'players': [{u'account_id': 4294967295, u'hero_id': 79, u'player_slot': 0},\n",
       "    {u'account_id': 110435207, u'hero_id': 12, u'player_slot': 1},\n",
       "    {u'account_id': 110371351, u'hero_id': 90, u'player_slot': 2},\n",
       "    {u'account_id': 38173722, u'hero_id': 67, u'player_slot': 3},\n",
       "    {u'account_id': 72976718, u'hero_id': 81, u'player_slot': 4},\n",
       "    {u'account_id': 104638903, u'hero_id': 56, u'player_slot': 128},\n",
       "    {u'account_id': 4294967295, u'hero_id': 20, u'player_slot': 129},\n",
       "    {u'account_id': 4294967295, u'hero_id': 49, u'player_slot': 130},\n",
       "    {u'account_id': 35264975, u'hero_id': 60, u'player_slot': 131},\n",
       "    {u'account_id': 12592073, u'hero_id': 58, u'player_slot': 132}],\n",
       "   u'radiant_team_id': 0,\n",
       "   u'start_time': 1364245824},\n",
       "  {u'dire_team_id': 0,\n",
       "   u'lobby_type': 0,\n",
       "   u'match_id': 156906584,\n",
       "   u'match_seq_num': 142529676,\n",
       "   u'players': [{u'account_id': 4294967295, u'hero_id': 34, u'player_slot': 0},\n",
       "    {u'account_id': 124650509, u'hero_id': 46, u'player_slot': 1},\n",
       "    {u'account_id': 4294967295, u'hero_id': 44, u'player_slot': 2},\n",
       "    {u'account_id': 4294967295, u'hero_id': 32, u'player_slot': 3},\n",
       "    {u'account_id': 4294967295, u'hero_id': 2, u'player_slot': 4},\n",
       "    {u'account_id': 110435207, u'hero_id': 63, u'player_slot': 128},\n",
       "    {u'account_id': 110371351, u'hero_id': 39, u'player_slot': 129},\n",
       "    {u'account_id': 53775193, u'hero_id': 8, u'player_slot': 130},\n",
       "    {u'account_id': 118385918, u'hero_id': 92, u'player_slot': 131},\n",
       "    {u'account_id': 45389221, u'hero_id': 56, u'player_slot': 132}],\n",
       "   u'radiant_team_id': 0,\n",
       "   u'start_time': 1364153368},\n",
       "  {u'dire_team_id': 0,\n",
       "   u'lobby_type': 0,\n",
       "   u'match_id': 156144704,\n",
       "   u'match_seq_num': 141899642,\n",
       "   u'players': [{u'account_id': 112377811, u'hero_id': 35, u'player_slot': 0},\n",
       "    {u'account_id': 39012727, u'hero_id': 16, u'player_slot': 1},\n",
       "    {u'account_id': 37429166, u'hero_id': 22, u'player_slot': 2},\n",
       "    {u'account_id': 110435207, u'hero_id': 52, u'player_slot': 3},\n",
       "    {u'account_id': 4294967295, u'hero_id': 77, u'player_slot': 4},\n",
       "    {u'account_id': 4294967295, u'hero_id': 27, u'player_slot': 128},\n",
       "    {u'account_id': 63131388, u'hero_id': 84, u'player_slot': 129},\n",
       "    {u'account_id': 123957392, u'hero_id': 2, u'player_slot': 130},\n",
       "    {u'account_id': 4294967295, u'hero_id': 31, u'player_slot': 131},\n",
       "    {u'account_id': 4294967295, u'hero_id': 93, u'player_slot': 132}],\n",
       "   u'radiant_team_id': 0,\n",
       "   u'start_time': 1364089183},\n",
       "  {u'dire_team_id': 0,\n",
       "   u'lobby_type': 0,\n",
       "   u'match_id': 156130351,\n",
       "   u'match_seq_num': 141885838,\n",
       "   u'players': [{u'account_id': 40757931, u'hero_id': 50, u'player_slot': 0},\n",
       "    {u'account_id': 101042282, u'hero_id': 65, u'player_slot': 1},\n",
       "    {u'account_id': 4294967295, u'hero_id': 21, u'player_slot': 2},\n",
       "    {u'account_id': 110435207, u'hero_id': 16, u'player_slot': 3},\n",
       "    {u'account_id': 4294967295, u'hero_id': 37, u'player_slot': 4},\n",
       "    {u'account_id': 86761639, u'hero_id': 43, u'player_slot': 128},\n",
       "    {u'account_id': 50822054, u'hero_id': 54, u'player_slot': 129},\n",
       "    {u'account_id': 4294967295, u'hero_id': 36, u'player_slot': 130},\n",
       "    {u'account_id': 4294967295, u'hero_id': 60, u'player_slot': 131},\n",
       "    {u'account_id': 103528676, u'hero_id': 64, u'player_slot': 132}],\n",
       "   u'radiant_team_id': 0,\n",
       "   u'start_time': 1364086702},\n",
       "  {u'dire_team_id': 0,\n",
       "   u'lobby_type': 0,\n",
       "   u'match_id': 156025746,\n",
       "   u'match_seq_num': 141799083,\n",
       "   u'players': [{u'account_id': 4294967295, u'hero_id': 33, u'player_slot': 0},\n",
       "    {u'account_id': 4294967295, u'hero_id': 58, u'player_slot': 1},\n",
       "    {u'account_id': 4294967295, u'hero_id': 51, u'player_slot': 2},\n",
       "    {u'account_id': 4294967295, u'hero_id': 6, u'player_slot': 3},\n",
       "    {u'account_id': 110435207, u'hero_id': 88, u'player_slot': 4},\n",
       "    {u'account_id': 66320694, u'hero_id': 89, u'player_slot': 128},\n",
       "    {u'account_id': 39888958, u'hero_id': 37, u'player_slot': 129},\n",
       "    {u'account_id': 42063835, u'hero_id': 53, u'player_slot': 130},\n",
       "    {u'account_id': 62866721, u'hero_id': 41, u'player_slot': 131},\n",
       "    {u'account_id': 4294967295, u'hero_id': 14, u'player_slot': 132}],\n",
       "   u'radiant_team_id': 0,\n",
       "   u'start_time': 1364073832},\n",
       "  {u'dire_team_id': 0,\n",
       "   u'lobby_type': 0,\n",
       "   u'match_id': 156002904,\n",
       "   u'match_seq_num': 141775812,\n",
       "   u'players': [{u'account_id': 110435207, u'hero_id': 40, u'player_slot': 0},\n",
       "    {u'account_id': 113014242, u'hero_id': 1, u'player_slot': 1},\n",
       "    {u'account_id': 113018436, u'hero_id': 37, u'player_slot': 2},\n",
       "    {u'account_id': 112857909, u'hero_id': 8, u'player_slot': 3},\n",
       "    {u'account_id': 4294967295, u'hero_id': 3, u'player_slot': 4},\n",
       "    {u'account_id': 4294967295, u'hero_id': 59, u'player_slot': 128},\n",
       "    {u'account_id': 4294967295, u'hero_id': 75, u'player_slot': 129},\n",
       "    {u'account_id': 4294967295, u'hero_id': 88, u'player_slot': 130},\n",
       "    {u'account_id': 4294967295, u'hero_id': 77, u'player_slot': 131},\n",
       "    {u'account_id': 114464211, u'hero_id': 12, u'player_slot': 132}],\n",
       "   u'radiant_team_id': 0,\n",
       "   u'start_time': 1364071903},\n",
       "  {u'dire_team_id': 0,\n",
       "   u'lobby_type': 0,\n",
       "   u'match_id': 155970623,\n",
       "   u'match_seq_num': 141757087,\n",
       "   u'players': [{u'account_id': 91006626, u'hero_id': 39, u'player_slot': 0},\n",
       "    {u'account_id': 68474918, u'hero_id': 90, u'player_slot': 1},\n",
       "    {u'account_id': 110435207, u'hero_id': 47, u'player_slot': 2},\n",
       "    {u'account_id': 49713204, u'hero_id': 14, u'player_slot': 3},\n",
       "    {u'account_id': 123219811, u'hero_id': 74, u'player_slot': 4},\n",
       "    {u'account_id': 4294967295, u'hero_id': 29, u'player_slot': 128},\n",
       "    {u'account_id': 4294967295, u'hero_id': 6, u'player_slot': 129},\n",
       "    {u'account_id': 112578205, u'hero_id': 64, u'player_slot': 130},\n",
       "    {u'account_id': 50500463, u'hero_id': 93, u'player_slot': 131},\n",
       "    {u'account_id': 17399433, u'hero_id': 55, u'player_slot': 132}],\n",
       "   u'radiant_team_id': 0,\n",
       "   u'start_time': 1364069340},\n",
       "  {u'dire_team_id': 0,\n",
       "   u'lobby_type': 0,\n",
       "   u'match_id': 155217182,\n",
       "   u'match_seq_num': 141146380,\n",
       "   u'players': [{u'account_id': 44792387, u'hero_id': 83, u'player_slot': 0},\n",
       "    {u'account_id': 118967309, u'hero_id': 32, u'player_slot': 1},\n",
       "    {u'account_id': 4294967295, u'hero_id': 85, u'player_slot': 2},\n",
       "    {u'account_id': 4294967295, u'hero_id': 2, u'player_slot': 3},\n",
       "    {u'account_id': 65440476, u'hero_id': 82, u'player_slot': 4},\n",
       "    {u'account_id': 4294967295, u'hero_id': 17, u'player_slot': 128},\n",
       "    {u'account_id': 110435207, u'hero_id': 12, u'player_slot': 129},\n",
       "    {u'account_id': 50831418, u'hero_id': 90, u'player_slot': 130},\n",
       "    {u'account_id': 58895921, u'hero_id': 14, u'player_slot': 131},\n",
       "    {u'account_id': 4294967295, u'hero_id': 59, u'player_slot': 132}],\n",
       "   u'radiant_team_id': 0,\n",
       "   u'start_time': 1364005547},\n",
       "  {u'dire_team_id': 0,\n",
       "   u'lobby_type': 0,\n",
       "   u'match_id': 155187702,\n",
       "   u'match_seq_num': 141129068,\n",
       "   u'players': [{u'account_id': 120774895, u'hero_id': 8, u'player_slot': 0},\n",
       "    {u'account_id': 110435207, u'hero_id': 13, u'player_slot': 1},\n",
       "    {u'account_id': 4294967295, u'hero_id': 14, u'player_slot': 2},\n",
       "    {u'account_id': 4294967295, u'hero_id': 25, u'player_slot': 3},\n",
       "    {u'account_id': 4294967295, u'hero_id': 41, u'player_slot': 4},\n",
       "    {u'account_id': 4294967295, u'hero_id': 56, u'player_slot': 128},\n",
       "    {u'account_id': 86715775, u'hero_id': 39, u'player_slot': 129},\n",
       "    {u'account_id': 58933192, u'hero_id': 59, u'player_slot': 130},\n",
       "    {u'account_id': 80955808, u'hero_id': 64, u'player_slot': 131},\n",
       "    {u'account_id': 4294967295, u'hero_id': 45, u'player_slot': 132}],\n",
       "   u'radiant_team_id': 0,\n",
       "   u'start_time': 1364000254},\n",
       "  {u'dire_team_id': 0,\n",
       "   u'lobby_type': 0,\n",
       "   u'match_id': 155074974,\n",
       "   u'match_seq_num': 141028402,\n",
       "   u'players': [{u'account_id': 4294967295, u'hero_id': 53, u'player_slot': 0},\n",
       "    {u'account_id': 118436885, u'hero_id': 11, u'player_slot': 1},\n",
       "    {u'account_id': 4294967295, u'hero_id': 18, u'player_slot': 2},\n",
       "    {u'account_id': 92203101, u'hero_id': 81, u'player_slot': 3},\n",
       "    {u'account_id': 4294967295, u'hero_id': 5, u'player_slot': 4},\n",
       "    {u'account_id': 91171956, u'hero_id': 76, u'player_slot': 128},\n",
       "    {u'account_id': 4294967295, u'hero_id': 62, u'player_slot': 129},\n",
       "    {u'account_id': 110371351, u'hero_id': 83, u'player_slot': 130},\n",
       "    {u'account_id': 110435207, u'hero_id': 31, u'player_slot': 131},\n",
       "    {u'account_id': 4294967295, u'hero_id': 80, u'player_slot': 132}],\n",
       "   u'radiant_team_id': 0,\n",
       "   u'start_time': 1363985543},\n",
       "  {u'dire_team_id': 0,\n",
       "   u'lobby_type': 0,\n",
       "   u'match_id': 155047101,\n",
       "   u'match_seq_num': 141003569,\n",
       "   u'players': [{u'account_id': 4294967295, u'hero_id': 4, u'player_slot': 0},\n",
       "    {u'account_id': 110371351, u'hero_id': 48, u'player_slot': 1},\n",
       "    {u'account_id': 110435207, u'hero_id': 26, u'player_slot': 2},\n",
       "    {u'account_id': 107449441, u'hero_id': 8, u'player_slot': 3},\n",
       "    {u'account_id': 4294967295, u'hero_id': 90, u'player_slot': 4},\n",
       "    {u'account_id': 69763673, u'hero_id': 49, u'player_slot': 128},\n",
       "    {u'account_id': 78678107, u'hero_id': 33, u'player_slot': 129},\n",
       "    {u'account_id': 118305538, u'hero_id': 21, u'player_slot': 130},\n",
       "    {u'account_id': 115152734, u'hero_id': 2, u'player_slot': 131},\n",
       "    {u'account_id': 115976121, u'hero_id': 86, u'player_slot': 132}],\n",
       "   u'radiant_team_id': 0,\n",
       "   u'start_time': 1363982655},\n",
       "  {u'dire_team_id': 0,\n",
       "   u'lobby_type': 0,\n",
       "   u'match_id': 140042098,\n",
       "   u'match_seq_num': 128349713,\n",
       "   u'players': [{u'account_id': 110435207, u'hero_id': 37, u'player_slot': 0},\n",
       "    {u'account_id': 4294967295, u'hero_id': 6, u'player_slot': 1},\n",
       "    {u'account_id': 71166850, u'hero_id': 53, u'player_slot': 2},\n",
       "    {u'account_id': 4294967295, u'hero_id': 13, u'player_slot': 3},\n",
       "    {u'account_id': 4294967295, u'hero_id': 60, u'player_slot': 4},\n",
       "    {u'account_id': 4294967295, u'hero_id': 71, u'player_slot': 128},\n",
       "    {u'account_id': 4294967295, u'hero_id': 15, u'player_slot': 129},\n",
       "    {u'account_id': 4294967295, u'hero_id': 32, u'player_slot': 130},\n",
       "    {u'account_id': 4294967295, u'hero_id': 16, u'player_slot': 131},\n",
       "    {u'account_id': 4294967295, u'hero_id': 43, u'player_slot': 132}],\n",
       "   u'radiant_team_id': 0,\n",
       "   u'start_time': 1362256038},\n",
       "  {u'dire_team_id': 0,\n",
       "   u'lobby_type': 0,\n",
       "   u'match_id': 140019703,\n",
       "   u'match_seq_num': 128324962,\n",
       "   u'players': [{u'account_id': 110371351, u'hero_id': 53, u'player_slot': 0},\n",
       "    {u'account_id': 110435207, u'hero_id': 59, u'player_slot': 1},\n",
       "    {u'account_id': 4294967295, u'hero_id': 44, u'player_slot': 2},\n",
       "    {u'account_id': 4294967295, u'hero_id': 16, u'player_slot': 3},\n",
       "    {u'account_id': 4294967295, u'hero_id': 1, u'player_slot': 4},\n",
       "    {u'account_id': 4294967295, u'hero_id': 64, u'player_slot': 128},\n",
       "    {u'account_id': 39540241, u'hero_id': 81, u'player_slot': 129},\n",
       "    {u'account_id': 4294967295, u'hero_id': 32, u'player_slot': 130},\n",
       "    {u'account_id': 4294967295, u'hero_id': 79, u'player_slot': 131},\n",
       "    {u'account_id': 4294967295, u'hero_id': 42, u'player_slot': 132}],\n",
       "   u'radiant_team_id': 0,\n",
       "   u'start_time': 1362254259},\n",
       "  {u'dire_team_id': 0,\n",
       "   u'lobby_type': 0,\n",
       "   u'match_id': 140003698,\n",
       "   u'match_seq_num': 128307427,\n",
       "   u'players': [{u'account_id': 110371351, u'hero_id': 75, u'player_slot': 0},\n",
       "    {u'account_id': 110435207, u'hero_id': 47, u'player_slot': 1},\n",
       "    {u'account_id': 4294967295, u'hero_id': 55, u'player_slot': 2},\n",
       "    {u'account_id': 4294967295, u'hero_id': 63, u'player_slot': 3},\n",
       "    {u'account_id': 4294967295, u'hero_id': 87, u'player_slot': 4},\n",
       "    {u'account_id': 17439602, u'hero_id': 12, u'player_slot': 128},\n",
       "    {u'account_id': 4294967295, u'hero_id': 91, u'player_slot': 129},\n",
       "    {u'account_id': 4294967295, u'hero_id': 49, u'player_slot': 130},\n",
       "    {u'account_id': 100655033, u'hero_id': 90, u'player_slot': 131},\n",
       "    {u'account_id': 53570898, u'hero_id': 74, u'player_slot': 132}],\n",
       "   u'radiant_team_id': 0,\n",
       "   u'start_time': 1362253032},\n",
       "  {u'dire_team_id': 0,\n",
       "   u'lobby_type': 0,\n",
       "   u'match_id': 139959441,\n",
       "   u'match_seq_num': 128288964,\n",
       "   u'players': [{u'account_id': 4294967295, u'hero_id': 71, u'player_slot': 0},\n",
       "    {u'account_id': 4294967295, u'hero_id': 12, u'player_slot': 1},\n",
       "    {u'account_id': 4294967295, u'hero_id': 55, u'player_slot': 2},\n",
       "    {u'account_id': 108113154, u'hero_id': 72, u'player_slot': 3},\n",
       "    {u'account_id': 4294967295, u'hero_id': 50, u'player_slot': 4},\n",
       "    {u'account_id': 99403295, u'hero_id': 13, u'player_slot': 128},\n",
       "    {u'account_id': 17399433, u'hero_id': 14, u'player_slot': 129},\n",
       "    {u'account_id': 4294967295, u'hero_id': 90, u'player_slot': 130},\n",
       "    {u'account_id': 110371351, u'hero_id': 42, u'player_slot': 131},\n",
       "    {u'account_id': 110435207, u'hero_id': 61, u'player_slot': 132}],\n",
       "   u'radiant_team_id': 0,\n",
       "   u'start_time': 1362249814},\n",
       "  {u'dire_team_id': 0,\n",
       "   u'lobby_type': 0,\n",
       "   u'match_id': 139886768,\n",
       "   u'match_seq_num': 128236997,\n",
       "   u'players': [{u'account_id': 4294967295, u'hero_id': 15, u'player_slot': 0},\n",
       "    {u'account_id': 86752653, u'hero_id': 49, u'player_slot': 1},\n",
       "    {u'account_id': 22721804, u'hero_id': 25, u'player_slot': 2},\n",
       "    {u'account_id': 4294967295, u'hero_id': 10, u'player_slot': 3},\n",
       "    {u'account_id': 113197224, u'hero_id': 73, u'player_slot': 4},\n",
       "    {u'account_id': 4294967295, u'hero_id': 76, u'player_slot': 128},\n",
       "    {u'account_id': 110435207, u'hero_id': 33, u'player_slot': 129},\n",
       "    {u'account_id': 120883261, u'hero_id': 87, u'player_slot': 130},\n",
       "    {u'account_id': 4294967295, u'hero_id': 96, u'player_slot': 131},\n",
       "    {u'account_id': 4294967295, u'hero_id': 71, u'player_slot': 132}],\n",
       "   u'radiant_team_id': 0,\n",
       "   u'start_time': 1362244829},\n",
       "  {u'dire_team_id': 0,\n",
       "   u'lobby_type': 0,\n",
       "   u'match_id': 139848884,\n",
       "   u'match_seq_num': 128190517,\n",
       "   u'players': [{u'account_id': 4294967295, u'hero_id': 90, u'player_slot': 0},\n",
       "    {u'account_id': 82562721, u'hero_id': 53, u'player_slot': 1},\n",
       "    {u'account_id': 105736808, u'hero_id': 41, u'player_slot': 2},\n",
       "    {u'account_id': 4294967295, u'hero_id': 92, u'player_slot': 3},\n",
       "    {u'account_id': 4294967295, u'hero_id': 100, u'player_slot': 4},\n",
       "    {u'account_id': 40437258, u'hero_id': 11, u'player_slot': 128},\n",
       "    {u'account_id': 4294967295, u'hero_id': 19, u'player_slot': 129},\n",
       "    {u'account_id': 91405440, u'hero_id': 59, u'player_slot': 130},\n",
       "    {u'account_id': 4294967295, u'hero_id': 96, u'player_slot': 131},\n",
       "    {u'account_id': 110435207, u'hero_id': 93, u'player_slot': 132}],\n",
       "   u'radiant_team_id': 0,\n",
       "   u'start_time': 1362242286},\n",
       "  {u'dire_team_id': 0,\n",
       "   u'lobby_type': 0,\n",
       "   u'match_id': 139327823,\n",
       "   u'match_seq_num': 127747665,\n",
       "   u'players': [{u'account_id': 4294967295, u'hero_id': 41, u'player_slot': 0},\n",
       "    {u'account_id': 4294967295, u'hero_id': 83, u'player_slot': 1},\n",
       "    {u'account_id': 4294967295, u'hero_id': 43, u'player_slot': 2},\n",
       "    {u'account_id': 4294967295, u'hero_id': 27, u'player_slot': 3},\n",
       "    {u'account_id': 4294967295, u'hero_id': 71, u'player_slot': 4},\n",
       "    {u'account_id': 110435207, u'hero_id': 18, u'player_slot': 128},\n",
       "    {u'account_id': 12367537, u'hero_id': 3, u'player_slot': 129},\n",
       "    {u'account_id': 4294967295, u'hero_id': 40, u'player_slot': 130},\n",
       "    {u'account_id': 4294967295, u'hero_id': 89, u'player_slot': 131},\n",
       "    {u'account_id': 4294967295, u'hero_id': 72, u'player_slot': 132}],\n",
       "   u'radiant_team_id': 0,\n",
       "   u'start_time': 1362190122},\n",
       "  {u'dire_team_id': 0,\n",
       "   u'lobby_type': 0,\n",
       "   u'match_id': 139309355,\n",
       "   u'match_seq_num': 127733041,\n",
       "   u'players': [{u'account_id': 4294967295, u'hero_id': 25, u'player_slot': 0},\n",
       "    {u'account_id': 4294967295, u'hero_id': 18, u'player_slot': 1},\n",
       "    {u'account_id': 4294967295, u'hero_id': 38, u'player_slot': 2},\n",
       "    {u'account_id': 123057617, u'hero_id': 27, u'player_slot': 3},\n",
       "    {u'account_id': 110435207, u'hero_id': 93, u'player_slot': 4},\n",
       "    {u'account_id': 117095920, u'hero_id': 29, u'player_slot': 128},\n",
       "    {u'account_id': 4294967295, u'hero_id': 41, u'player_slot': 129},\n",
       "    {u'account_id': 4294967295, u'hero_id': 69, u'player_slot': 130},\n",
       "    {u'account_id': 114986261, u'hero_id': 6, u'player_slot': 131},\n",
       "    {u'account_id': 122911149, u'hero_id': 16, u'player_slot': 132}],\n",
       "   u'radiant_team_id': 0,\n",
       "   u'start_time': 1362186619},\n",
       "  {u'dire_team_id': 0,\n",
       "   u'lobby_type': 0,\n",
       "   u'match_id': 128787284,\n",
       "   u'match_seq_num': 118310424,\n",
       "   u'players': [{u'account_id': 110371351, u'hero_id': 25, u'player_slot': 0},\n",
       "    {u'account_id': 110435207, u'hero_id': 60, u'player_slot': 1},\n",
       "    {u'account_id': 111140856, u'hero_id': 22, u'player_slot': 2},\n",
       "    {u'account_id': 95380622, u'hero_id': 11, u'player_slot': 3},\n",
       "    {u'account_id': 58030583, u'hero_id': 86, u'player_slot': 4},\n",
       "    {u'account_id': 4294967295, u'hero_id': 97, u'player_slot': 128},\n",
       "    {u'account_id': 4294967295, u'hero_id': 9, u'player_slot': 129},\n",
       "    {u'account_id': 54034282, u'hero_id': 1, u'player_slot': 130},\n",
       "    {u'account_id': 4294967295, u'hero_id': 29, u'player_slot': 131},\n",
       "    {u'account_id': 113583817, u'hero_id': 30, u'player_slot': 132}],\n",
       "   u'radiant_team_id': 0,\n",
       "   u'start_time': 1361158454},\n",
       "  {u'dire_team_id': 0,\n",
       "   u'lobby_type': 0,\n",
       "   u'match_id': 127789778,\n",
       "   u'match_seq_num': 117419175,\n",
       "   u'players': [{u'account_id': 4294967295, u'hero_id': 78, u'player_slot': 0},\n",
       "    {u'account_id': 4294967295, u'hero_id': 20, u'player_slot': 1},\n",
       "    {u'account_id': 4294967295, u'hero_id': 88, u'player_slot': 2},\n",
       "    {u'account_id': 110435207, u'hero_id': 40, u'player_slot': 3},\n",
       "    {u'account_id': 4294967295, u'hero_id': 44, u'player_slot': 4},\n",
       "    {u'account_id': 104902145, u'hero_id': 10, u'player_slot': 128},\n",
       "    {u'account_id': 4294967295, u'hero_id': 48, u'player_slot': 129},\n",
       "    {u'account_id': 4294967295, u'hero_id': 25, u'player_slot': 130},\n",
       "    {u'account_id': 4294967295, u'hero_id': 90, u'player_slot': 131},\n",
       "    {u'account_id': 4294967295, u'hero_id': 32, u'player_slot': 132}],\n",
       "   u'radiant_team_id': 0,\n",
       "   u'start_time': 1361075525},\n",
       "  {u'dire_team_id': 0,\n",
       "   u'lobby_type': 0,\n",
       "   u'match_id': 127754583,\n",
       "   u'match_seq_num': 117382021,\n",
       "   u'players': [{u'account_id': 4294967295, u'hero_id': 11, u'player_slot': 0},\n",
       "    {u'account_id': 4294967295, u'hero_id': 38, u'player_slot': 1},\n",
       "    {u'account_id': 4294967295, u'hero_id': 25, u'player_slot': 2},\n",
       "    {u'account_id': 4294967295, u'hero_id': 37, u'player_slot': 3},\n",
       "    {u'account_id': 103565264, u'hero_id': 54, u'player_slot': 4},\n",
       "    {u'account_id': 111595020, u'hero_id': 77, u'player_slot': 128},\n",
       "    {u'account_id': 118628416, u'hero_id': 29, u'player_slot': 129},\n",
       "    {u'account_id': 4294967295, u'hero_id': 3, u'player_slot': 130},\n",
       "    {u'account_id': 4294967295, u'hero_id': 60, u'player_slot': 131},\n",
       "    {u'account_id': 110435207, u'hero_id': 8, u'player_slot': 132}],\n",
       "   u'radiant_team_id': 0,\n",
       "   u'start_time': 1361070191},\n",
       "  {u'dire_team_id': 0,\n",
       "   u'lobby_type': 0,\n",
       "   u'match_id': 126806391,\n",
       "   u'match_seq_num': 116539734,\n",
       "   u'players': [{u'account_id': 110435207, u'hero_id': 90, u'player_slot': 0},\n",
       "    {u'account_id': 118524528, u'hero_id': 6, u'player_slot': 1},\n",
       "    {u'account_id': 79113866, u'hero_id': 34, u'player_slot': 2},\n",
       "    {u'account_id': 4294967295, u'hero_id': 77, u'player_slot': 3},\n",
       "    {u'account_id': 16574675, u'hero_id': 47, u'player_slot': 4},\n",
       "    {u'account_id': 114194418, u'hero_id': 44, u'player_slot': 128},\n",
       "    {u'account_id': 4294967295, u'hero_id': 38, u'player_slot': 129},\n",
       "    {u'account_id': 45883354, u'hero_id': 76, u'player_slot': 130},\n",
       "    {u'account_id': 4294967295, u'hero_id': 72, u'player_slot': 131},\n",
       "    {u'account_id': 4294967295, u'hero_id': 5, u'player_slot': 132}],\n",
       "   u'radiant_team_id': 0,\n",
       "   u'start_time': 1361000490},\n",
       "  {u'dire_team_id': 0,\n",
       "   u'lobby_type': 0,\n",
       "   u'match_id': 126772460,\n",
       "   u'match_seq_num': 116514984,\n",
       "   u'players': [{u'account_id': 110435207, u'hero_id': 72, u'player_slot': 0},\n",
       "    {u'account_id': 4294967295, u'hero_id': 64, u'player_slot': 1},\n",
       "    {u'account_id': 4294967295, u'hero_id': 5, u'player_slot': 2},\n",
       "    {u'account_id': 45883354, u'hero_id': 55, u'player_slot': 3},\n",
       "    {u'account_id': 4294967295, u'hero_id': 6, u'player_slot': 4},\n",
       "    {u'account_id': 4294967295, u'hero_id': 90, u'player_slot': 128},\n",
       "    {u'account_id': 81554649, u'hero_id': 100, u'player_slot': 129},\n",
       "    {u'account_id': 64245054, u'hero_id': 9, u'player_slot': 130},\n",
       "    {u'account_id': 116028529, u'hero_id': 12, u'player_slot': 131},\n",
       "    {u'account_id': 4294967295, u'hero_id': 26, u'player_slot': 132}],\n",
       "   u'radiant_team_id': 0,\n",
       "   u'start_time': 1360996920},\n",
       "  {u'dire_team_id': 0,\n",
       "   u'lobby_type': 0,\n",
       "   u'match_id': 126723627,\n",
       "   u'match_seq_num': 116465743,\n",
       "   u'players': [{u'account_id': 110371351, u'hero_id': 39, u'player_slot': 0},\n",
       "    {u'account_id': 110435207, u'hero_id': 34, u'player_slot': 1},\n",
       "    {u'account_id': 111140856, u'hero_id': 93, u'player_slot': 2},\n",
       "    {u'account_id': 23867401, u'hero_id': 100, u'player_slot': 3},\n",
       "    {u'account_id': 10940967, u'hero_id': 61, u'player_slot': 4},\n",
       "    {u'account_id': 4294967295, u'hero_id': 87, u'player_slot': 128},\n",
       "    {u'account_id': 112849467, u'hero_id': 92, u'player_slot': 129},\n",
       "    {u'account_id': 115208635, u'hero_id': 2, u'player_slot': 130},\n",
       "    {u'account_id': 16920640, u'hero_id': 35, u'player_slot': 131},\n",
       "    {u'account_id': 111637505, u'hero_id': 88, u'player_slot': 132}],\n",
       "   u'radiant_team_id': 0,\n",
       "   u'start_time': 1360990912},\n",
       "  {u'dire_team_id': 0,\n",
       "   u'lobby_type': 0,\n",
       "   u'match_id': 126701433,\n",
       "   u'match_seq_num': 116443884,\n",
       "   u'players': [{u'account_id': 4294967295, u'hero_id': 1, u'player_slot': 0},\n",
       "    {u'account_id': 110371351, u'hero_id': 43, u'player_slot': 1},\n",
       "    {u'account_id': 110435207, u'hero_id': 54, u'player_slot': 2},\n",
       "    {u'account_id': 111140856, u'hero_id': 93, u'player_slot': 3},\n",
       "    {u'account_id': 100212257, u'hero_id': 66, u'player_slot': 4},\n",
       "    {u'account_id': 4294967295, u'hero_id': 25, u'player_slot': 128},\n",
       "    {u'account_id': 4294967295, u'hero_id': 12, u'player_slot': 129},\n",
       "    {u'account_id': 115010340, u'hero_id': 74, u'player_slot': 130},\n",
       "    {u'account_id': 4294967295, u'hero_id': 96, u'player_slot': 131},\n",
       "    {u'account_id': 103716685, u'hero_id': 39, u'player_slot': 132}],\n",
       "   u'radiant_team_id': 0,\n",
       "   u'start_time': 1360987905},\n",
       "  {u'dire_team_id': 0,\n",
       "   u'lobby_type': 0,\n",
       "   u'match_id': 126674021,\n",
       "   u'match_seq_num': 116423902,\n",
       "   u'players': [{u'account_id': 66966892, u'hero_id': 50, u'player_slot': 0},\n",
       "    {u'account_id': 107396012, u'hero_id': 62, u'player_slot': 1},\n",
       "    {u'account_id': 94169476, u'hero_id': 14, u'player_slot': 2},\n",
       "    {u'account_id': 79588593, u'hero_id': 66, u'player_slot': 3},\n",
       "    {u'account_id': 4294967295, u'hero_id': 18, u'player_slot': 4},\n",
       "    {u'account_id': 110435207, u'hero_id': 64, u'player_slot': 128},\n",
       "    {u'account_id': 110371351, u'hero_id': 32, u'player_slot': 129},\n",
       "    {u'account_id': 55694185, u'hero_id': 28, u'player_slot': 130},\n",
       "    {u'account_id': 40762119, u'hero_id': 65, u'player_slot': 131},\n",
       "    {u'account_id': 88855498, u'hero_id': 57, u'player_slot': 132}],\n",
       "   u'radiant_team_id': 0,\n",
       "   u'start_time': 1360983941}],\n",
       " u'num_results': 100,\n",
       " u'results_remaining': 171,\n",
       " u'status': 1,\n",
       " u'total_results': 271}"
      ]
     },
     "execution_count": 4,
     "metadata": {},
     "output_type": "execute_result"
    }
   ],
   "source": [
    "api.get_match_history(account_id=hao, min_players=10,matches_requested=500)"
   ]
  },
  {
   "cell_type": "code",
   "execution_count": null,
   "metadata": {
    "collapsed": true
   },
   "outputs": [],
   "source": []
  },
  {
   "cell_type": "code",
   "execution_count": null,
   "metadata": {
    "collapsed": true
   },
   "outputs": [],
   "source": []
  },
  {
   "cell_type": "code",
   "execution_count": null,
   "metadata": {
    "collapsed": true
   },
   "outputs": [],
   "source": []
  }
 ],
 "metadata": {
  "kernelspec": {
   "display_name": "Python 2",
   "language": "python",
   "name": "python2"
  },
  "language_info": {
   "codemirror_mode": {
    "name": "ipython",
    "version": 2
   },
   "file_extension": ".py",
   "mimetype": "text/x-python",
   "name": "python",
   "nbconvert_exporter": "python",
   "pygments_lexer": "ipython2",
   "version": "2.7.11"
  }
 },
 "nbformat": 4,
 "nbformat_minor": 0
}

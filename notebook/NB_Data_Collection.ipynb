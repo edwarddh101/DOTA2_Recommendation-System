{
 "cells": [
  {
   "cell_type": "code",
   "execution_count": 1,
   "metadata": {
    "collapsed": true
   },
   "outputs": [],
   "source": [
    "import os\n",
    "import dota2api\n",
    "import datetime\n",
    "import json\n",
    "import pdb\n",
    "from time import sleep"
   ]
  },
  {
   "cell_type": "code",
   "execution_count": 2,
   "metadata": {
    "collapsed": true
   },
   "outputs": [],
   "source": [
    "#set up dota2api\n",
    "\n",
    "api = dota2api.Initialise(logging=True)"
   ]
  },
  {
   "cell_type": "code",
   "execution_count": 6,
   "metadata": {
    "collapsed": true
   },
   "outputs": [],
   "source": [
    "start_match_seq_num = 1704401237"
   ]
  },
  {
   "cell_type": "code",
   "execution_count": 7,
   "metadata": {
    "collapsed": true
   },
   "outputs": [],
   "source": [
    "match_temp = api.get_match_history_by_seq_num(start_match_seq_num-1)"
   ]
  },
  {
   "cell_type": "code",
   "execution_count": 9,
   "metadata": {
    "collapsed": false
   },
   "outputs": [
    {
     "data": {
      "text/plain": [
       "[u'status', u'matches']"
      ]
     },
     "execution_count": 9,
     "metadata": {},
     "output_type": "execute_result"
    }
   ],
   "source": [
    "match_temp.keys()"
   ]
  },
  {
   "cell_type": "code",
   "execution_count": 12,
   "metadata": {
    "collapsed": false,
    "scrolled": true
   },
   "outputs": [
    {
     "data": {
      "text/plain": [
       "1704401237"
      ]
     },
     "execution_count": 12,
     "metadata": {},
     "output_type": "execute_result"
    }
   ],
   "source": [
    "match_temp['matches'][0]['match_seq_num']"
   ]
  },
  {
   "cell_type": "code",
   "execution_count": 13,
   "metadata": {
    "collapsed": false
   },
   "outputs": [
    {
     "data": {
      "text/plain": [
       "2"
      ]
     },
     "execution_count": 13,
     "metadata": {},
     "output_type": "execute_result"
    }
   ],
   "source": [
    "len(match_temp)"
   ]
  },
  {
   "cell_type": "code",
   "execution_count": 14,
   "metadata": {
    "collapsed": false
   },
   "outputs": [
    {
     "data": {
      "text/plain": [
       "ObjectId('567270ae22f14a0f2ec02f29')"
      ]
     },
     "execution_count": 14,
     "metadata": {},
     "output_type": "execute_result"
    }
   ],
   "source": [
    "coll.insert(match_temp)"
   ]
  },
  {
   "cell_type": "code",
   "execution_count": 16,
   "metadata": {
    "collapsed": false,
    "scrolled": false
   },
   "outputs": [
    {
     "data": {
      "text/plain": [
       "1"
      ]
     },
     "execution_count": 16,
     "metadata": {},
     "output_type": "execute_result"
    }
   ],
   "source": [
    "coll.count()"
   ]
  },
  {
   "cell_type": "code",
   "execution_count": 19,
   "metadata": {
    "collapsed": false
   },
   "outputs": [
    {
     "data": {
      "text/plain": [
       "1"
      ]
     },
     "execution_count": 19,
     "metadata": {},
     "output_type": "execute_result"
    }
   ],
   "source": [
    "match_temp['status']"
   ]
  },
  {
   "cell_type": "markdown",
   "metadata": {},
   "source": [
    "** How to deal with the status not '1'\n",
    "\n",
    "    - It looks like all data parsed from api are \"1\" in status"
   ]
  },
  {
   "cell_type": "code",
   "execution_count": 20,
   "metadata": {
    "collapsed": false
   },
   "outputs": [
    {
     "data": {
      "text/plain": [
       "dota2api.src.response.Dota2Dict"
      ]
     },
     "execution_count": 20,
     "metadata": {},
     "output_type": "execute_result"
    }
   ],
   "source": [
    "type(match_temp)"
   ]
  },
  {
   "cell_type": "code",
   "execution_count": 21,
   "metadata": {
    "collapsed": false
   },
   "outputs": [
    {
     "data": {
      "text/plain": [
       "list"
      ]
     },
     "execution_count": 21,
     "metadata": {},
     "output_type": "execute_result"
    }
   ],
   "source": [
    "type(match_temp['matches'])"
   ]
  },
  {
   "cell_type": "code",
   "execution_count": 22,
   "metadata": {
    "collapsed": false
   },
   "outputs": [
    {
     "data": {
      "text/plain": [
       "int"
      ]
     },
     "execution_count": 22,
     "metadata": {},
     "output_type": "execute_result"
    }
   ],
   "source": [
    "type(match_temp['status'])"
   ]
  },
  {
   "cell_type": "code",
   "execution_count": 23,
   "metadata": {
    "collapsed": false
   },
   "outputs": [
    {
     "data": {
      "text/plain": [
       "100"
      ]
     },
     "execution_count": 23,
     "metadata": {},
     "output_type": "execute_result"
    }
   ],
   "source": [
    "len(match_temp['matches'])"
   ]
  },
  {
   "cell_type": "code",
   "execution_count": 24,
   "metadata": {
    "collapsed": false
   },
   "outputs": [
    {
     "data": {
      "text/plain": [
       "{u'n': 0, u'ok': 1}"
      ]
     },
     "execution_count": 24,
     "metadata": {},
     "output_type": "execute_result"
    }
   ],
   "source": [
    "db.coll.remove()"
   ]
  },
  {
   "cell_type": "code",
   "execution_count": 26,
   "metadata": {
    "collapsed": true
   },
   "outputs": [],
   "source": [
    "if match_temp['status'] != 1:\n",
    "    print match_temp['statusDetail']\n",
    "else:\n",
    "    for match in match_temp['matches']:\n",
    "        db.coll.insert(match)"
   ]
  },
  {
   "cell_type": "code",
   "execution_count": 27,
   "metadata": {
    "collapsed": false
   },
   "outputs": [
    {
     "data": {
      "text/plain": [
       "100"
      ]
     },
     "execution_count": 27,
     "metadata": {},
     "output_type": "execute_result"
    }
   ],
   "source": [
    "db.coll.count()"
   ]
  },
  {
   "cell_type": "code",
   "execution_count": 29,
   "metadata": {
    "collapsed": true
   },
   "outputs": [],
   "source": [
    "import datetime"
   ]
  },
  {
   "cell_type": "code",
   "execution_count": 30,
   "metadata": {
    "collapsed": true
   },
   "outputs": [],
   "source": [
    "t1 = datetime.datetime.now()"
   ]
  },
  {
   "cell_type": "code",
   "execution_count": 31,
   "metadata": {
    "collapsed": false
   },
   "outputs": [
    {
     "data": {
      "text/plain": [
       "datetime.datetime(2015, 12, 17, 0, 41, 38, 348199)"
      ]
     },
     "execution_count": 31,
     "metadata": {},
     "output_type": "execute_result"
    }
   ],
   "source": [
    "t1"
   ]
  },
  {
   "cell_type": "code",
   "execution_count": 32,
   "metadata": {
    "collapsed": true
   },
   "outputs": [],
   "source": [
    "t2 = datetime.datetime.now()"
   ]
  },
  {
   "cell_type": "code",
   "execution_count": 33,
   "metadata": {
    "collapsed": false
   },
   "outputs": [
    {
     "data": {
      "text/plain": [
       "datetime.datetime(2015, 12, 17, 0, 41, 56, 733514)"
      ]
     },
     "execution_count": 33,
     "metadata": {},
     "output_type": "execute_result"
    }
   ],
   "source": [
    "t2"
   ]
  },
  {
   "cell_type": "code",
   "execution_count": 34,
   "metadata": {
    "collapsed": false
   },
   "outputs": [
    {
     "data": {
      "text/plain": [
       "datetime.timedelta(0, 18, 385315)"
      ]
     },
     "execution_count": 34,
     "metadata": {},
     "output_type": "execute_result"
    }
   ],
   "source": [
    "t2 - t1"
   ]
  },
  {
   "cell_type": "code",
   "execution_count": 35,
   "metadata": {
    "collapsed": false
   },
   "outputs": [
    {
     "name": "stdout",
     "output_type": "stream",
     "text": [
      "0:00:18.385315\n"
     ]
    }
   ],
   "source": [
    "print str(t2-t1)"
   ]
  },
  {
   "cell_type": "code",
   "execution_count": null,
   "metadata": {
    "collapsed": true
   },
   "outputs": [],
   "source": [
    "def get_match_history():\n",
    "    n=0\n",
    "    start_match_seq_num = 1704401237\n",
    "    t0 = datetime.datetime.now()\n",
    "    \n",
    "    while n < 400:\n",
    "        if n % 40 ==0:\n",
    "            num = n+1\n",
    "            t1 = datetime.datetime.now()\n",
    "            delta_t = str(t1 - t0)\n",
    "            print \"Process {0} request use time: {1}\".format(num, delta_t)\n",
    "            \n",
    "        sleep(1.0)\n",
    "        \n",
    "        gmh = api.get_match_history_by_seq_num(start_at_match_seq_num=start_match_seq_num,\n",
    "                                               matches_requested=400)\n",
    "        \n",
    "        if gmh['status'] != 1:\n",
    "            print gmh['statusDetail']\n",
    "        else:\n",
    "            for match in gmh['matches']:\n",
    "                \n",
    "                match_id = match['match_id']\n",
    "\n",
    "                if db.coll.find_one({'match_id':match_id}) != None:\n",
    "#                 logger.debug('Encountered match %s already in database, exiting.' % match_id)\n",
    "                    print '.'\n",
    "                    exit(0)\n",
    "\n",
    "                sleep(1.0)\n",
    "                \n",
    "                db.coll.insert(match)\n",
    "                \n",
    "        last_match_seq_num = match[-1]['match_seq_num']\n",
    "        logger.debug('Match_id of last match of GMH query: %s' % last_match_id)\n",
    "        # We don't want to record the last match twice, so subtract 1\n",
    "        start_match_seq_num = last_match_seq_num + 1\n",
    "        n+=1"
   ]
  },
  {
   "cell_type": "code",
   "execution_count": 37,
   "metadata": {
    "collapsed": false
   },
   "outputs": [
    {
     "data": {
      "text/plain": [
       "200"
      ]
     },
     "execution_count": 37,
     "metadata": {},
     "output_type": "execute_result"
    }
   ],
   "source": [
    "db.coll.count()"
   ]
  },
  {
   "cell_type": "code",
   "execution_count": 39,
   "metadata": {
    "collapsed": false
   },
   "outputs": [
    {
     "data": {
      "text/plain": [
       "1928833457"
      ]
     },
     "execution_count": 39,
     "metadata": {},
     "output_type": "execute_result"
    }
   ],
   "source": [
    "match_temp['matches'][0]['match_id']"
   ]
  },
  {
   "cell_type": "markdown",
   "metadata": {},
   "source": [
    "* first two hundreds records are dupblicated"
   ]
  },
  {
   "cell_type": "code",
   "execution_count": 49,
   "metadata": {
    "collapsed": false
   },
   "outputs": [
    {
     "data": {
      "text/plain": [
       "1201"
      ]
     },
     "execution_count": 49,
     "metadata": {},
     "output_type": "execute_result"
    }
   ],
   "source": [
    "db.coll.count()"
   ]
  },
  {
   "cell_type": "code",
   "execution_count": 4,
   "metadata": {
    "collapsed": false
   },
   "outputs": [
    {
     "data": {
      "text/plain": [
       "u'/home/hao/Repos/DSI/DOTA2_Recommendation-System'"
      ]
     },
     "execution_count": 4,
     "metadata": {},
     "output_type": "execute_result"
    }
   ],
   "source": [
    "pwd"
   ]
  },
  {
   "cell_type": "code",
   "execution_count": 3,
   "metadata": {
    "collapsed": true
   },
   "outputs": [],
   "source": [
    "filename = 'Data_collection/match_history_sample.json'"
   ]
  },
  {
   "cell_type": "code",
   "execution_count": 25,
   "metadata": {
    "collapsed": false
   },
   "outputs": [],
   "source": [
    "def check_last_insert_match(file):\n",
    "\n",
    "    with open(file, 'r') as f:\n",
    "\n",
    "        current_req_num = 0\n",
    "        for line in f:\n",
    "            last = json.loads(line)\n",
    "            current_req_num += 1\n",
    "\n",
    "        if current_req_num == 0:\n",
    "            start_match_seq_num = 1704401237        \n",
    "        else:\n",
    "            start_match_seq_num = last['matches'][-1]['match_seq_num'] + 1\n",
    "        \n",
    "        return current_req_num, start_match_seq_num"
   ]
  },
  {
   "cell_type": "code",
   "execution_count": 26,
   "metadata": {
    "collapsed": true
   },
   "outputs": [],
   "source": [
    "filename1 = 'Data_collection/match_history_t.json'\n",
    "n, seq = check_last_insert_match(filename1)"
   ]
  },
  {
   "cell_type": "code",
   "execution_count": 27,
   "metadata": {
    "collapsed": false
   },
   "outputs": [
    {
     "data": {
      "text/plain": [
       "(0, 1704401237)"
      ]
     },
     "execution_count": 27,
     "metadata": {},
     "output_type": "execute_result"
    }
   ],
   "source": [
    "n, seq"
   ]
  },
  {
   "cell_type": "code",
   "execution_count": 22,
   "metadata": {
    "collapsed": false
   },
   "outputs": [
    {
     "data": {
      "text/plain": [
       "1704455240"
      ]
     },
     "execution_count": 22,
     "metadata": {},
     "output_type": "execute_result"
    }
   ],
   "source": [
    "start_match_seq_num"
   ]
  },
  {
   "cell_type": "code",
   "execution_count": 23,
   "metadata": {
    "collapsed": false
   },
   "outputs": [
    {
     "data": {
      "text/plain": [
       "300"
      ]
     },
     "execution_count": 23,
     "metadata": {},
     "output_type": "execute_result"
    }
   ],
   "source": [
    "current_req_num"
   ]
  },
  {
   "cell_type": "code",
   "execution_count": 20,
   "metadata": {
    "collapsed": false
   },
   "outputs": [],
   "source": [
    "with open(filename, 'r') as f:\n",
    "    for line in f:\n",
    "        last = json.loads(line)"
   ]
  },
  {
   "cell_type": "code",
   "execution_count": 22,
   "metadata": {
    "collapsed": true
   },
   "outputs": [],
   "source": [
    "start_match_seq_num = last['matches'][-1]['match_seq_num'] + 1"
   ]
  },
  {
   "cell_type": "code",
   "execution_count": 23,
   "metadata": {
    "collapsed": false,
    "scrolled": true
   },
   "outputs": [
    {
     "data": {
      "text/plain": [
       "1704455240"
      ]
     },
     "execution_count": 23,
     "metadata": {},
     "output_type": "execute_result"
    }
   ],
   "source": [
    "start_match_seq_num"
   ]
  },
  {
   "cell_type": "code",
   "execution_count": 49,
   "metadata": {
    "collapsed": false
   },
   "outputs": [],
   "source": [
    "date = last['matches'][-1]['start_time']"
   ]
  },
  {
   "cell_type": "code",
   "execution_count": 50,
   "metadata": {
    "collapsed": true
   },
   "outputs": [],
   "source": [
    "date_new = date + 1"
   ]
  },
  {
   "cell_type": "code",
   "execution_count": 51,
   "metadata": {
    "collapsed": false
   },
   "outputs": [
    {
     "data": {
      "text/plain": [
       "(1447244263, 1447244264)"
      ]
     },
     "execution_count": 51,
     "metadata": {},
     "output_type": "execute_result"
    }
   ],
   "source": [
    "date, date_new"
   ]
  },
  {
   "cell_type": "code",
   "execution_count": 54,
   "metadata": {
    "collapsed": false
   },
   "outputs": [
    {
     "name": "stdout",
     "output_type": "stream",
     "text": [
      "2015-11-11 04:17:43\n"
     ]
    }
   ],
   "source": [
    "print datetime.datetime.fromtimestamp(date)"
   ]
  },
  {
   "cell_type": "code",
   "execution_count": 55,
   "metadata": {
    "collapsed": false
   },
   "outputs": [
    {
     "name": "stdout",
     "output_type": "stream",
     "text": [
      "2015-11-11 04:17:44\n"
     ]
    }
   ],
   "source": [
    "print datetime.datetime.fromtimestamp(date_new)"
   ]
  },
  {
   "cell_type": "code",
   "execution_count": 67,
   "metadata": {
    "collapsed": false
   },
   "outputs": [],
   "source": [
    "t=datetime.datetime(2015, 11,11, 14, 11, 11)"
   ]
  },
  {
   "cell_type": "code",
   "execution_count": 68,
   "metadata": {
    "collapsed": false
   },
   "outputs": [
    {
     "name": "stdout",
     "output_type": "stream",
     "text": [
      "2015-11-11 14:11:11\n"
     ]
    }
   ],
   "source": [
    "print t"
   ]
  },
  {
   "cell_type": "code",
   "execution_count": 37,
   "metadata": {
    "collapsed": true
   },
   "outputs": [],
   "source": [
    "def check_time(t0):\n",
    "    t1 = datetime.datetime.now()\n",
    "    delta_t = str(t1 - t0)\n",
    "    t0 = t1\n",
    "    n=5\n",
    "#     n = check_last_insert_match(filename)[0]\n",
    "    with open('match_history_log_t.txt', mode='a') as check:\n",
    "        check.write(\"Current Request: {0}, Current time: {1}, Running time: {2}\\n\"\n",
    "                    .format(n, t1, delta_t))"
   ]
  },
  {
   "cell_type": "code",
   "execution_count": 30,
   "metadata": {
    "collapsed": true
   },
   "outputs": [],
   "source": [
    "t0 = datetime.datetime.now()"
   ]
  },
  {
   "cell_type": "code",
   "execution_count": 39,
   "metadata": {
    "collapsed": false
   },
   "outputs": [],
   "source": [
    "check_time(t0=t0)"
   ]
  },
  {
   "cell_type": "code",
   "execution_count": 45,
   "metadata": {
    "collapsed": false
   },
   "outputs": [
    {
     "data": {
      "text/plain": [
       "datetime.datetime(2015, 12, 22, 10, 24, 2, 420080)"
      ]
     },
     "execution_count": 45,
     "metadata": {},
     "output_type": "execute_result"
    }
   ],
   "source": [
    "t0"
   ]
  },
  {
   "cell_type": "code",
   "execution_count": 47,
   "metadata": {
    "collapsed": false
   },
   "outputs": [
    {
     "data": {
      "text/plain": [
       "datetime.datetime(2015, 12, 22, 10, 24, 3, 420080)"
      ]
     },
     "execution_count": 47,
     "metadata": {},
     "output_type": "execute_result"
    }
   ],
   "source": [
    "t0 + datetime.timedelta(0,1)"
   ]
  },
  {
   "cell_type": "code",
   "execution_count": 72,
   "metadata": {
    "collapsed": false
   },
   "outputs": [
    {
     "data": {
      "text/plain": [
       "datetime.datetime(2015, 11, 11, 3, 24, 30)"
      ]
     },
     "execution_count": 72,
     "metadata": {},
     "output_type": "execute_result"
    }
   ],
   "source": [
    "datetime.datetime.fromtimestamp(1447241070)"
   ]
  },
  {
   "cell_type": "code",
   "execution_count": 41,
   "metadata": {
    "collapsed": true
   },
   "outputs": [],
   "source": [
    "n =1\n",
    "t1=datetime.datetime.now()\n",
    "delta_t=1\n",
    "with open('match_history_log_t.txt', mode='a') as check:\n",
    "    check.write(\"Current Request: {0}, Current time: {1}, Running time: {2}\\n\"\n",
    "                    .format(n, t1, delta_t))"
   ]
  },
  {
   "cell_type": "code",
   "execution_count": 73,
   "metadata": {
    "collapsed": true
   },
   "outputs": [],
   "source": [
    "last_match_date = datetime.datetime(2015, 11, 11, 3, 36, 31)\n",
    "initial_date = datetime.datetime(2015, 11, 11, 0)\n"
   ]
  },
  {
   "cell_type": "code",
   "execution_count": 74,
   "metadata": {
    "collapsed": false
   },
   "outputs": [
    {
     "data": {
      "text/plain": [
       "True"
      ]
     },
     "execution_count": 74,
     "metadata": {},
     "output_type": "execute_result"
    }
   ],
   "source": [
    "initial_date < last_match_date"
   ]
  },
  {
   "cell_type": "code",
   "execution_count": 80,
   "metadata": {
    "collapsed": false
   },
   "outputs": [],
   "source": [
    "t = initial_date + datetime.timedelta(1,0)"
   ]
  },
  {
   "cell_type": "code",
   "execution_count": 81,
   "metadata": {
    "collapsed": false
   },
   "outputs": [
    {
     "data": {
      "text/plain": [
       "False"
      ]
     },
     "execution_count": 81,
     "metadata": {},
     "output_type": "execute_result"
    }
   ],
   "source": [
    "t < last_match_date"
   ]
  },
  {
   "cell_type": "markdown",
   "metadata": {},
   "source": [
    "### Full Data Set\n",
    "- around 6.8 million matches were parsed, 3.8 million matches from 11/11/2015(majority) to 11/15/2015(small proportion), 1 million matches per day. Then 3 million matches from 11/15/2015 to 12/19/2015 with random selection 1/20 matches.\n",
    "- The data will be used in this project, first 64,000 requests(lines), which is the matches before 12/16/2015.\n",
    "- 80G data\n",
    "- Build a database on current data"
   ]
  },
  {
   "cell_type": "markdown",
   "metadata": {
    "collapsed": true
   },
   "source": [
    "### Collect the personal information"
   ]
  },
  {
   "cell_type": "code",
   "execution_count": 3,
   "metadata": {
    "collapsed": true
   },
   "outputs": [],
   "source": [
    "hao = 110435207"
   ]
  },
  {
   "cell_type": "code",
   "execution_count": 4,
   "metadata": {
    "collapsed": false
   },
   "outputs": [],
   "source": [
    "hao_match_history = api.get_match_history(account_id=hao, min_players=10,matches_requested=500)"
   ]
  },
  {
   "cell_type": "code",
   "execution_count": 5,
   "metadata": {
    "collapsed": false
   },
   "outputs": [
    {
     "data": {
      "text/plain": [
       "[u'status', u'total_results', u'matches', u'num_results', u'results_remaining']"
      ]
     },
     "execution_count": 5,
     "metadata": {},
     "output_type": "execute_result"
    }
   ],
   "source": [
    "hao_match_history.keys()"
   ]
  },
  {
   "cell_type": "code",
   "execution_count": 6,
   "metadata": {
    "collapsed": false
   },
   "outputs": [
    {
     "data": {
      "text/plain": [
       "1"
      ]
     },
     "execution_count": 6,
     "metadata": {},
     "output_type": "execute_result"
    }
   ],
   "source": [
    "hao_match_history['status']"
   ]
  },
  {
   "cell_type": "code",
   "execution_count": 7,
   "metadata": {
    "collapsed": false
   },
   "outputs": [
    {
     "data": {
      "text/plain": [
       "271"
      ]
     },
     "execution_count": 7,
     "metadata": {},
     "output_type": "execute_result"
    }
   ],
   "source": [
    "hao_match_history['total_results']"
   ]
  },
  {
   "cell_type": "code",
   "execution_count": 8,
   "metadata": {
    "collapsed": false
   },
   "outputs": [
    {
     "data": {
      "text/plain": [
       "100"
      ]
     },
     "execution_count": 8,
     "metadata": {},
     "output_type": "execute_result"
    }
   ],
   "source": [
    "hao_match_history['num_results']"
   ]
  },
  {
   "cell_type": "code",
   "execution_count": 9,
   "metadata": {
    "collapsed": false
   },
   "outputs": [
    {
     "data": {
      "text/plain": [
       "list"
      ]
     },
     "execution_count": 9,
     "metadata": {},
     "output_type": "execute_result"
    }
   ],
   "source": [
    "type(hao_match_history['matches'])"
   ]
  },
  {
   "cell_type": "code",
   "execution_count": 10,
   "metadata": {
    "collapsed": false
   },
   "outputs": [
    {
     "data": {
      "text/plain": [
       "100"
      ]
     },
     "execution_count": 10,
     "metadata": {},
     "output_type": "execute_result"
    }
   ],
   "source": [
    "len(hao_match_history['matches'])"
   ]
  },
  {
   "cell_type": "code",
   "execution_count": 11,
   "metadata": {
    "collapsed": false,
    "scrolled": true
   },
   "outputs": [
    {
     "data": {
      "text/plain": [
       "{u'dire_team_id': 0,\n",
       " u'lobby_type': 0,\n",
       " u'match_id': 1980394727,\n",
       " u'match_seq_num': 1747751775,\n",
       " u'players': [{u'account_id': 301152448, u'hero_id': 101, u'player_slot': 0},\n",
       "  {u'account_id': 110435207, u'hero_id': 30, u'player_slot': 1},\n",
       "  {u'account_id': 45431908, u'hero_id': 72, u'player_slot': 2},\n",
       "  {u'account_id': 4294967295, u'hero_id': 18, u'player_slot': 3},\n",
       "  {u'account_id': 4294967295, u'hero_id': 81, u'player_slot': 4},\n",
       "  {u'account_id': 283908220, u'hero_id': 77, u'player_slot': 128},\n",
       "  {u'account_id': 300815921, u'hero_id': 104, u'player_slot': 129},\n",
       "  {u'account_id': 4294967295, u'hero_id': 60, u'player_slot': 130},\n",
       "  {u'account_id': 4294967295, u'hero_id': 8, u'player_slot': 131},\n",
       "  {u'account_id': 193629672, u'hero_id': 73, u'player_slot': 132}],\n",
       " u'radiant_team_id': 0,\n",
       " u'start_time': 1449297417}"
      ]
     },
     "execution_count": 11,
     "metadata": {},
     "output_type": "execute_result"
    }
   ],
   "source": [
    "hao_match_history['matches'][0]"
   ]
  },
  {
   "cell_type": "code",
   "execution_count": 13,
   "metadata": {
    "collapsed": false
   },
   "outputs": [],
   "source": [
    "time_t = hao_match_history['matches'][0]['start_time']"
   ]
  },
  {
   "cell_type": "code",
   "execution_count": 16,
   "metadata": {
    "collapsed": false
   },
   "outputs": [
    {
     "data": {
      "text/plain": [
       "datetime.datetime(2015, 12, 5, 6, 36, 57)"
      ]
     },
     "execution_count": 16,
     "metadata": {},
     "output_type": "execute_result"
    }
   ],
   "source": [
    "datetime.datetime.fromtimestamp(time_t)"
   ]
  },
  {
   "cell_type": "markdown",
   "metadata": {},
   "source": [
    "* Use api.get_match_history to get a player's most recent 100 games\n",
    "* account_id 4294967295 is probably for all the user have privacy setting"
   ]
  },
  {
   "cell_type": "code",
   "execution_count": 18,
   "metadata": {
    "collapsed": false
   },
   "outputs": [
    {
     "data": {
      "text/plain": [
       "{u'barracks_status_dire': 48,\n",
       " u'barracks_status_radiant': 63,\n",
       " u'cluster': 122,\n",
       " u'cluster_name': u'US East',\n",
       " u'duration': 2427,\n",
       " u'engine': 1,\n",
       " u'first_blood_time': 110,\n",
       " u'game_mode': 5,\n",
       " u'game_mode_name': u'All Random',\n",
       " u'human_players': 10,\n",
       " u'leagueid': 0,\n",
       " u'lobby_name': u'Public matchmaking',\n",
       " u'lobby_type': 0,\n",
       " u'match_id': 1980311745,\n",
       " u'match_seq_num': 1747682422,\n",
       " u'negative_votes': 0,\n",
       " u'players': [{u'ability_upgrades': [{u'ability': 5190,\n",
       "     u'level': 1,\n",
       "     u'time': 197},\n",
       "    {u'ability': 5191, u'level': 2, u'time': 234},\n",
       "    {u'ability': 5190, u'level': 3, u'time': 289},\n",
       "    {u'ability': 5192, u'level': 4, u'time': 339},\n",
       "    {u'ability': 5190, u'level': 5, u'time': 430},\n",
       "    {u'ability': 5193, u'level': 6, u'time': 489},\n",
       "    {u'ability': 5190, u'level': 7, u'time': 554},\n",
       "    {u'ability': 5191, u'level': 8, u'time': 651},\n",
       "    {u'ability': 5191, u'level': 9, u'time': 882},\n",
       "    {u'ability': 5191, u'level': 10, u'time': 1024},\n",
       "    {u'ability': 5193, u'level': 11, u'time': 1057},\n",
       "    {u'ability': 5192, u'level': 12, u'time': 1239},\n",
       "    {u'ability': 5192, u'level': 13, u'time': 1297},\n",
       "    {u'ability': 5192, u'level': 14, u'time': 1460},\n",
       "    {u'ability': 5002, u'level': 15, u'time': 1528},\n",
       "    {u'ability': 5193, u'level': 16, u'time': 1649},\n",
       "    {u'ability': 5002, u'level': 17, u'time': 1854},\n",
       "    {u'ability': 5002, u'level': 18, u'time': 2092},\n",
       "    {u'ability': 5002, u'level': 19, u'time': 2232},\n",
       "    {u'ability': 5002, u'level': 20, u'time': 2345},\n",
       "    {u'ability': 5002, u'level': 21, u'time': 2399},\n",
       "    {u'ability': 5002, u'level': 22, u'time': 2523}],\n",
       "   u'account_id': 81090590,\n",
       "   u'assists': 17,\n",
       "   u'deaths': 5,\n",
       "   u'denies': 10,\n",
       "   u'gold': 2864,\n",
       "   u'gold_per_min': 509,\n",
       "   u'gold_spent': 18070,\n",
       "   u'hero_damage': 16171,\n",
       "   u'hero_healing': 0,\n",
       "   u'hero_id': 44,\n",
       "   u'hero_name': u'Phantom Assassin',\n",
       "   u'item_0': 143,\n",
       "   u'item_0_name': u'Skull Basher',\n",
       "   u'item_1': 116,\n",
       "   u'item_1_name': u'Black King Bar',\n",
       "   u'item_2': 117,\n",
       "   u'item_2_name': u'Aegis of the Immortal',\n",
       "   u'item_3': 63,\n",
       "   u'item_3_name': u'Power Treads',\n",
       "   u'item_4': 164,\n",
       "   u'item_4_name': u'Helm of the Dominator',\n",
       "   u'item_5': 160,\n",
       "   u'item_5_name': u'Eye of Skadi',\n",
       "   u'kills': 10,\n",
       "   u'last_hits': 172,\n",
       "   u'leaver_status': 0,\n",
       "   u'level': 22,\n",
       "   u'player_slot': 0,\n",
       "   u'tower_damage': 2533,\n",
       "   u'xp_per_min': 632},\n",
       "  {u'ability_upgrades': [{u'ability': 5145, u'level': 1, u'time': 113},\n",
       "    {u'ability': 5144, u'level': 2, u'time': 291},\n",
       "    {u'ability': 5144, u'level': 3, u'time': 318},\n",
       "    {u'ability': 5145, u'level': 4, u'time': 419},\n",
       "    {u'ability': 5145, u'level': 5, u'time': 530},\n",
       "    {u'ability': 5143, u'level': 6, u'time': 591},\n",
       "    {u'ability': 5142, u'level': 7, u'time': 781},\n",
       "    {u'ability': 5145, u'level': 8, u'time': 866},\n",
       "    {u'ability': 5144, u'level': 9, u'time': 1081},\n",
       "    {u'ability': 5144, u'level': 10, u'time': 1124},\n",
       "    {u'ability': 5143, u'level': 11, u'time': 1137},\n",
       "    {u'ability': 5142, u'level': 12, u'time': 1306},\n",
       "    {u'ability': 5142, u'level': 13, u'time': 1460},\n",
       "    {u'ability': 5142, u'level': 14, u'time': 1566},\n",
       "    {u'ability': 5002, u'level': 15, u'time': 1863},\n",
       "    {u'ability': 5143, u'level': 16, u'time': 1967},\n",
       "    {u'ability': 5002, u'level': 17, u'time': 2067},\n",
       "    {u'ability': 5002, u'level': 18, u'time': 2196},\n",
       "    {u'ability': 5002, u'level': 19, u'time': 2216},\n",
       "    {u'ability': 5002, u'level': 20, u'time': 2480}],\n",
       "   u'account_id': 171975845,\n",
       "   u'assists': 6,\n",
       "   u'deaths': 6,\n",
       "   u'denies': 2,\n",
       "   u'gold': 1176,\n",
       "   u'gold_per_min': 498,\n",
       "   u'gold_spent': 17805,\n",
       "   u'hero_damage': 17083,\n",
       "   u'hero_healing': 0,\n",
       "   u'hero_id': 32,\n",
       "   u'hero_name': u'Riki',\n",
       "   u'item_0': 0,\n",
       "   u'item_1': 143,\n",
       "   u'item_1_name': u'Skull Basher',\n",
       "   u'item_2': 36,\n",
       "   u'item_2_name': u'Magic Wand',\n",
       "   u'item_3': 48,\n",
       "   u'item_3_name': u'Boots of Travel',\n",
       "   u'item_4': 174,\n",
       "   u'item_4_name': u'Diffusal Blade',\n",
       "   u'item_5': 139,\n",
       "   u'item_5_name': u'Butterfly',\n",
       "   u'kills': 14,\n",
       "   u'last_hits': 140,\n",
       "   u'leaver_status': 0,\n",
       "   u'level': 20,\n",
       "   u'player_slot': 1,\n",
       "   u'tower_damage': 219,\n",
       "   u'xp_per_min': 545},\n",
       "  {u'ability_upgrades': [{u'ability': 5275, u'level': 1, u'time': 129},\n",
       "    {u'ability': 5277, u'level': 2, u'time': 224},\n",
       "    {u'ability': 5275, u'level': 3, u'time': 271},\n",
       "    {u'ability': 5277, u'level': 4, u'time': 335},\n",
       "    {u'ability': 5275, u'level': 5, u'time': 391},\n",
       "    {u'ability': 5277, u'level': 6, u'time': 530},\n",
       "    {u'ability': 5275, u'level': 7, u'time': 698},\n",
       "    {u'ability': 5278, u'level': 8, u'time': 793},\n",
       "    {u'ability': 5277, u'level': 9, u'time': 843},\n",
       "    {u'ability': 5276, u'level': 10, u'time': 1072},\n",
       "    {u'ability': 5276, u'level': 11, u'time': 1106},\n",
       "    {u'ability': 5278, u'level': 12, u'time': 1389},\n",
       "    {u'ability': 5276, u'level': 13, u'time': 1455},\n",
       "    {u'ability': 5276, u'level': 14, u'time': 1647},\n",
       "    {u'ability': 5002, u'level': 15, u'time': 1847},\n",
       "    {u'ability': 5278, u'level': 16, u'time': 2076},\n",
       "    {u'ability': 5002, u'level': 17, u'time': 2187},\n",
       "    {u'ability': 5002, u'level': 18, u'time': 2349},\n",
       "    {u'ability': 5002, u'level': 19, u'time': 2391},\n",
       "    {u'ability': 5002, u'level': 20, u'time': 2476}],\n",
       "   u'account_id': 4294967295,\n",
       "   u'assists': 14,\n",
       "   u'deaths': 2,\n",
       "   u'denies': 7,\n",
       "   u'gold': 2094,\n",
       "   u'gold_per_min': 488,\n",
       "   u'gold_spent': 18730,\n",
       "   u'hero_damage': 21122,\n",
       "   u'hero_healing': 301,\n",
       "   u'hero_id': 60,\n",
       "   u'hero_name': u'Night Stalker',\n",
       "   u'item_0': 108,\n",
       "   u'item_0_name': u\"Aghanim's Scepter\",\n",
       "   u'item_1': 50,\n",
       "   u'item_1_name': u'Phase Boots',\n",
       "   u'item_2': 210,\n",
       "   u'item_2_name': u\"Heaven's Halberd\",\n",
       "   u'item_3': 36,\n",
       "   u'item_3_name': u'Magic Wand',\n",
       "   u'item_4': 116,\n",
       "   u'item_4_name': u'Black King Bar',\n",
       "   u'item_5': 53,\n",
       "   u'item_5_name': u'Reaver',\n",
       "   u'kills': 17,\n",
       "   u'last_hits': 106,\n",
       "   u'leaver_status': 0,\n",
       "   u'level': 20,\n",
       "   u'player_slot': 2,\n",
       "   u'tower_damage': 3456,\n",
       "   u'xp_per_min': 547},\n",
       "  {u'ability_upgrades': [{u'ability': 5044, u'level': 1, u'time': 188},\n",
       "    {u'ability': 5045, u'level': 2, u'time': 324},\n",
       "    {u'ability': 5044, u'level': 3, u'time': 560},\n",
       "    {u'ability': 5046, u'level': 4, u'time': 623},\n",
       "    {u'ability': 5045, u'level': 5, u'time': 777},\n",
       "    {u'ability': 5047, u'level': 6, u'time': 853},\n",
       "    {u'ability': 5044, u'level': 7, u'time': 993},\n",
       "    {u'ability': 5046, u'level': 8, u'time': 1123},\n",
       "    {u'ability': 5045, u'level': 9, u'time': 1365},\n",
       "    {u'ability': 5046, u'level': 10, u'time': 1571},\n",
       "    {u'ability': 5047, u'level': 11, u'time': 1844},\n",
       "    {u'ability': 5044, u'level': 12, u'time': 2145},\n",
       "    {u'ability': 5045, u'level': 13, u'time': 2194},\n",
       "    {u'ability': 5046, u'level': 14, u'time': 2365}],\n",
       "   u'account_id': 100541003,\n",
       "   u'assists': 13,\n",
       "   u'deaths': 5,\n",
       "   u'denies': 0,\n",
       "   u'gold': 1068,\n",
       "   u'gold_per_min': 268,\n",
       "   u'gold_spent': 9840,\n",
       "   u'hero_damage': 4716,\n",
       "   u'hero_healing': 516,\n",
       "   u'hero_id': 26,\n",
       "   u'hero_name': u'Lion',\n",
       "   u'item_0': 1,\n",
       "   u'item_0_name': u'Blink Dagger',\n",
       "   u'item_1': 73,\n",
       "   u'item_1_name': u'Bracer',\n",
       "   u'item_2': 214,\n",
       "   u'item_2_name': u'Tranquil Boots',\n",
       "   u'item_3': 37,\n",
       "   u'item_3_name': u'Ghost Scepter',\n",
       "   u'item_4': 79,\n",
       "   u'item_4_name': u'Mekansm',\n",
       "   u'item_5': 36,\n",
       "   u'item_5_name': u'Magic Wand',\n",
       "   u'kills': 0,\n",
       "   u'last_hits': 33,\n",
       "   u'leaver_status': 0,\n",
       "   u'level': 14,\n",
       "   u'player_slot': 3,\n",
       "   u'tower_damage': 347,\n",
       "   u'xp_per_min': 277},\n",
       "  {u'ability_upgrades': [{u'ability': 5339, u'level': 1, u'time': 125},\n",
       "    {u'ability': 5340, u'level': 2, u'time': 220},\n",
       "    {u'ability': 5339, u'level': 3, u'time': 344},\n",
       "    {u'ability': 5340, u'level': 4, u'time': 459},\n",
       "    {u'ability': 5339, u'level': 5, u'time': 606},\n",
       "    {u'ability': 5342, u'level': 6, u'time': 722},\n",
       "    {u'ability': 5339, u'level': 7, u'time': 835},\n",
       "    {u'ability': 5340, u'level': 8, u'time': 959},\n",
       "    {u'ability': 5340, u'level': 9, u'time': 1088},\n",
       "    {u'ability': 5341, u'level': 10, u'time': 1278},\n",
       "    {u'ability': 5342, u'level': 11, u'time': 1320},\n",
       "    {u'ability': 5341, u'level': 12, u'time': 1652},\n",
       "    {u'ability': 5341, u'level': 13, u'time': 1672},\n",
       "    {u'ability': 5341, u'level': 14, u'time': 1801},\n",
       "    {u'ability': 5002, u'level': 15, u'time': 1923},\n",
       "    {u'ability': 5342, u'level': 16, u'time': 2134},\n",
       "    {u'ability': 5002, u'level': 17, u'time': 2135},\n",
       "    {u'ability': 5002, u'level': 18, u'time': 2332},\n",
       "    {u'ability': 5002, u'level': 19, u'time': 2386},\n",
       "    {u'ability': 5002, u'level': 20, u'time': 2578}],\n",
       "   u'account_id': 133012516,\n",
       "   u'assists': 13,\n",
       "   u'deaths': 4,\n",
       "   u'denies': 0,\n",
       "   u'gold': 1706,\n",
       "   u'gold_per_min': 567,\n",
       "   u'gold_spent': 21975,\n",
       "   u'hero_damage': 4954,\n",
       "   u'hero_healing': 0,\n",
       "   u'hero_id': 69,\n",
       "   u'hero_name': u'Doom',\n",
       "   u'item_0': 1,\n",
       "   u'item_0_name': u'Blink Dagger',\n",
       "   u'item_1': 110,\n",
       "   u'item_1_name': u'Refresher Orb',\n",
       "   u'item_2': 65,\n",
       "   u'item_2_name': u'Hand of Midas',\n",
       "   u'item_3': 112,\n",
       "   u'item_3_name': u'Assault Cuirass',\n",
       "   u'item_4': 48,\n",
       "   u'item_4_name': u'Boots of Travel',\n",
       "   u'item_5': 53,\n",
       "   u'item_5_name': u'Reaver',\n",
       "   u'kills': 5,\n",
       "   u'last_hits': 202,\n",
       "   u'leaver_status': 0,\n",
       "   u'level': 20,\n",
       "   u'player_slot': 4,\n",
       "   u'tower_damage': 965,\n",
       "   u'xp_per_min': 523},\n",
       "  {u'ability_upgrades': [{u'ability': 5250, u'level': 1, u'time': 207},\n",
       "    {u'ability': 5249, u'level': 2, u'time': 216},\n",
       "    {u'ability': 5251, u'level': 3, u'time': 258},\n",
       "    {u'ability': 5251, u'level': 4, u'time': 356},\n",
       "    {u'ability': 5251, u'level': 5, u'time': 594},\n",
       "    {u'ability': 5252, u'level': 6, u'time': 723},\n",
       "    {u'ability': 5251, u'level': 7, u'time': 838},\n",
       "    {u'ability': 5249, u'level': 8, u'time': 949},\n",
       "    {u'ability': 5249, u'level': 9, u'time': 1279},\n",
       "    {u'ability': 5249, u'level': 10, u'time': 1326},\n",
       "    {u'ability': 5252, u'level': 11, u'time': 1391},\n",
       "    {u'ability': 5250, u'level': 12, u'time': 1531},\n",
       "    {u'ability': 5250, u'level': 13, u'time': 1718},\n",
       "    {u'ability': 5250, u'level': 14, u'time': 1718},\n",
       "    {u'ability': 5002, u'level': 15, u'time': 1872},\n",
       "    {u'ability': 5252, u'level': 16, u'time': 2360},\n",
       "    {u'ability': 5002, u'level': 17, u'time': 2496},\n",
       "    {u'ability': 5002, u'level': 18, u'time': 2496}],\n",
       "   u'account_id': 45727778,\n",
       "   u'assists': 10,\n",
       "   u'deaths': 8,\n",
       "   u'denies': 5,\n",
       "   u'gold': 1204,\n",
       "   u'gold_per_min': 376,\n",
       "   u'gold_spent': 13495,\n",
       "   u'hero_damage': 13182,\n",
       "   u'hero_healing': 423,\n",
       "   u'hero_id': 54,\n",
       "   u'hero_name': u'Lifestealer',\n",
       "   u'item_0': 249,\n",
       "   u'item_0_name': u'Silver Edge',\n",
       "   u'item_1': 151,\n",
       "   u'item_1_name': u'Armlet of Mordiggian',\n",
       "   u'item_2': 92,\n",
       "   u'item_2_name': u'Urn of Shadows',\n",
       "   u'item_3': 50,\n",
       "   u'item_3_name': u'Phase Boots',\n",
       "   u'item_4': 181,\n",
       "   u'item_4_name': u'Orb of Venom',\n",
       "   u'item_5': 21,\n",
       "   u'item_5_name': u'Ogre Club',\n",
       "   u'kills': 6,\n",
       "   u'last_hits': 83,\n",
       "   u'leaver_status': 0,\n",
       "   u'level': 18,\n",
       "   u'player_slot': 128,\n",
       "   u'tower_damage': 0,\n",
       "   u'xp_per_min': 459},\n",
       "  {u'ability_upgrades': [{u'ability': 5032, u'level': 1, u'time': 95},\n",
       "    {u'ability': 5031, u'level': 2, u'time': 221},\n",
       "    {u'ability': 5032, u'level': 3, u'time': 274},\n",
       "    {u'ability': 5031, u'level': 4, u'time': 425},\n",
       "    {u'ability': 5032, u'level': 5, u'time': 523},\n",
       "    {u'ability': 5035, u'level': 6, u'time': 670},\n",
       "    {u'ability': 5032, u'level': 7, u'time': 835},\n",
       "    {u'ability': 5031, u'level': 8, u'time': 892},\n",
       "    {u'ability': 5033, u'level': 9, u'time': 1195},\n",
       "    {u'ability': 5031, u'level': 10, u'time': 1336},\n",
       "    {u'ability': 5035, u'level': 11, u'time': 1471},\n",
       "    {u'ability': 5033, u'level': 12, u'time': 1632},\n",
       "    {u'ability': 5002, u'level': 13, u'time': 1746},\n",
       "    {u'ability': 5002, u'level': 14, u'time': 1998}],\n",
       "   u'account_id': 4294967295,\n",
       "   u'assists': 7,\n",
       "   u'deaths': 7,\n",
       "   u'denies': 3,\n",
       "   u'gold': 611,\n",
       "   u'gold_per_min': 264,\n",
       "   u'gold_spent': 12550,\n",
       "   u'hero_damage': 6378,\n",
       "   u'hero_healing': 0,\n",
       "   u'hero_id': 23,\n",
       "   u'hero_name': u'Kunkka',\n",
       "   u'item_0': 0,\n",
       "   u'item_1': 50,\n",
       "   u'item_1_name': u'Phase Boots',\n",
       "   u'item_2': 152,\n",
       "   u'item_2_name': u'Shadow Blade',\n",
       "   u'item_3': 0,\n",
       "   u'item_4': 0,\n",
       "   u'item_5': 0,\n",
       "   u'kills': 1,\n",
       "   u'last_hits': 107,\n",
       "   u'leaver_status': 0,\n",
       "   u'level': 14,\n",
       "   u'player_slot': 129,\n",
       "   u'tower_damage': 32,\n",
       "   u'xp_per_min': 293},\n",
       "  {u'ability_upgrades': [{u'ability': 5131, u'level': 1, u'time': 141},\n",
       "    {u'ability': 5130, u'level': 2, u'time': 259},\n",
       "    {u'ability': 5131, u'level': 3, u'time': 305},\n",
       "    {u'ability': 5132, u'level': 4, u'time': 374},\n",
       "    {u'ability': 5131, u'level': 5, u'time': 424},\n",
       "    {u'ability': 5132, u'level': 6, u'time': 579},\n",
       "    {u'ability': 5131, u'level': 7, u'time': 651},\n",
       "    {u'ability': 5130, u'level': 8, u'time': 748},\n",
       "    {u'ability': 5133, u'level': 9, u'time': 1020},\n",
       "    {u'ability': 5133, u'level': 10, u'time': 1315},\n",
       "    {u'ability': 5130, u'level': 11, u'time': 1317},\n",
       "    {u'ability': 5130, u'level': 12, u'time': 1736},\n",
       "    {u'ability': 5132, u'level': 13, u'time': 1768},\n",
       "    {u'ability': 5132, u'level': 14, u'time': 1919},\n",
       "    {u'ability': 5002, u'level': 15, u'time': 2218},\n",
       "    {u'ability': 5133, u'level': 16, u'time': 2462}],\n",
       "   u'account_id': 110435207,\n",
       "   u'assists': 5,\n",
       "   u'deaths': 12,\n",
       "   u'denies': 8,\n",
       "   u'gold': 1484,\n",
       "   u'gold_per_min': 296,\n",
       "   u'gold_spent': 7830,\n",
       "   u'hero_damage': 7335,\n",
       "   u'hero_healing': 0,\n",
       "   u'hero_id': 21,\n",
       "   u'hero_name': u'Windranger',\n",
       "   u'item_0': 50,\n",
       "   u'item_0_name': u'Phase Boots',\n",
       "   u'item_1': 30,\n",
       "   u'item_1_name': u'Gem of True Sight',\n",
       "   u'item_2': 41,\n",
       "   u'item_2_name': u'Bottle',\n",
       "   u'item_3': 100,\n",
       "   u'item_3_name': u\"Eul's Scepter of Divinity\",\n",
       "   u'item_4': 46,\n",
       "   u'item_4_name': u'Town Portal Scroll',\n",
       "   u'item_5': 60,\n",
       "   u'item_5_name': u'Point Booster',\n",
       "   u'kills': 3,\n",
       "   u'last_hits': 82,\n",
       "   u'leaver_status': 0,\n",
       "   u'level': 16,\n",
       "   u'player_slot': 130,\n",
       "   u'tower_damage': 522,\n",
       "   u'xp_per_min': 362},\n",
       "  {u'ability_upgrades': [{u'ability': 5587, u'level': 1, u'time': 227},\n",
       "    {u'ability': 5586, u'level': 2, u'time': 237},\n",
       "    {u'ability': 5586, u'level': 3, u'time': 302},\n",
       "    {u'ability': 5587, u'level': 4, u'time': 461},\n",
       "    {u'ability': 5586, u'level': 5, u'time': 491},\n",
       "    {u'ability': 5588, u'level': 6, u'time': 631},\n",
       "    {u'ability': 5586, u'level': 7, u'time': 767},\n",
       "    {u'ability': 5585, u'level': 8, u'time': 806},\n",
       "    {u'ability': 5585, u'level': 9, u'time': 1103},\n",
       "    {u'ability': 5585, u'level': 10, u'time': 1296},\n",
       "    {u'ability': 5585, u'level': 11, u'time': 1466},\n",
       "    {u'ability': 5588, u'level': 12, u'time': 1647},\n",
       "    {u'ability': 5587, u'level': 13, u'time': 1732},\n",
       "    {u'ability': 5587, u'level': 14, u'time': 1902},\n",
       "    {u'ability': 5002, u'level': 15, u'time': 2121},\n",
       "    {u'ability': 5588, u'level': 16, u'time': 2331},\n",
       "    {u'ability': 5002, u'level': 17, u'time': 2393}],\n",
       "   u'account_id': 4294967295,\n",
       "   u'assists': 11,\n",
       "   u'deaths': 5,\n",
       "   u'denies': 3,\n",
       "   u'gold': 1457,\n",
       "   u'gold_per_min': 351,\n",
       "   u'gold_spent': 12180,\n",
       "   u'hero_damage': 11564,\n",
       "   u'hero_healing': 802,\n",
       "   u'hero_id': 102,\n",
       "   u'hero_name': u'Abaddon',\n",
       "   u'item_0': 50,\n",
       "   u'item_0_name': u'Phase Boots',\n",
       "   u'item_1': 42,\n",
       "   u'item_1_name': u'Observer Ward',\n",
       "   u'item_2': 81,\n",
       "   u'item_2_name': u\"Vladmir's Offering\",\n",
       "   u'item_3': 112,\n",
       "   u'item_3_name': u'Assault Cuirass',\n",
       "   u'item_4': 31,\n",
       "   u'item_4_name': u'Cloak',\n",
       "   u'item_5': 46,\n",
       "   u'item_5_name': u'Town Portal Scroll',\n",
       "   u'kills': 7,\n",
       "   u'last_hits': 79,\n",
       "   u'leaver_status': 0,\n",
       "   u'level': 17,\n",
       "   u'player_slot': 131,\n",
       "   u'tower_damage': 0,\n",
       "   u'xp_per_min': 408},\n",
       "  {u'ability_upgrades': [{u'ability': 5023, u'level': 1, u'time': 132},\n",
       "    {u'ability': 5024, u'level': 2, u'time': 277},\n",
       "    {u'ability': 5025, u'level': 3, u'time': 358},\n",
       "    {u'ability': 5024, u'level': 4, u'time': 580},\n",
       "    {u'ability': 5024, u'level': 5, u'time': 591},\n",
       "    {u'ability': 5026, u'level': 6, u'time': 689},\n",
       "    {u'ability': 5024, u'level': 7, u'time': 846},\n",
       "    {u'ability': 5023, u'level': 8, u'time': 958},\n",
       "    {u'ability': 5025, u'level': 9, u'time': 1413},\n",
       "    {u'ability': 5025, u'level': 10, u'time': 1725},\n",
       "    {u'ability': 5026, u'level': 11, u'time': 1860},\n",
       "    {u'ability': 5025, u'level': 12, u'time': 2488}],\n",
       "   u'account_id': 112524916,\n",
       "   u'assists': 7,\n",
       "   u'deaths': 16,\n",
       "   u'denies': 5,\n",
       "   u'gold': 1098,\n",
       "   u'gold_per_min': 250,\n",
       "   u'gold_spent': 6375,\n",
       "   u'hero_damage': 8674,\n",
       "   u'hero_healing': 0,\n",
       "   u'hero_id': 7,\n",
       "   u'hero_name': u'Earthshaker',\n",
       "   u'item_0': 42,\n",
       "   u'item_0_name': u'Observer Ward',\n",
       "   u'item_1': 216,\n",
       "   u'item_1_name': u'Enchanted Mango',\n",
       "   u'item_2': 1,\n",
       "   u'item_2_name': u'Blink Dagger',\n",
       "   u'item_3': 36,\n",
       "   u'item_3_name': u'Magic Wand',\n",
       "   u'item_4': 180,\n",
       "   u'item_4_name': u'Arcane Boots',\n",
       "   u'item_5': 0,\n",
       "   u'kills': 5,\n",
       "   u'last_hits': 81,\n",
       "   u'leaver_status': 0,\n",
       "   u'level': 13,\n",
       "   u'player_slot': 132,\n",
       "   u'tower_damage': 0,\n",
       "   u'xp_per_min': 228}],\n",
       " u'positive_votes': 0,\n",
       " u'radiant_win': True,\n",
       " u'start_time': 1449294657,\n",
       " u'tower_status_dire': 256,\n",
       " u'tower_status_radiant': 1974}"
      ]
     },
     "execution_count": 18,
     "metadata": {},
     "output_type": "execute_result"
    }
   ],
   "source": [
    "api.get_match_details(match_id=hao_match_history['matches'][1]['match_id'])"
   ]
  },
  {
   "cell_type": "code",
   "execution_count": null,
   "metadata": {
    "collapsed": true
   },
   "outputs": [],
   "source": []
  }
 ],
 "metadata": {
  "kernelspec": {
   "display_name": "Python 2",
   "language": "python",
   "name": "python2"
  },
  "language_info": {
   "codemirror_mode": {
    "name": "ipython",
    "version": 2
   },
   "file_extension": ".py",
   "mimetype": "text/x-python",
   "name": "python",
   "nbconvert_exporter": "python",
   "pygments_lexer": "ipython2",
   "version": "2.7.11"
  }
 },
 "nbformat": 4,
 "nbformat_minor": 0
}

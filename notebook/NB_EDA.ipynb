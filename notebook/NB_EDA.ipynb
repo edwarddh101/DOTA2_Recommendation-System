{
 "cells": [
  {
   "cell_type": "markdown",
   "metadata": {
    "collapsed": true
   },
   "source": [
    "### Parse the Heroes' Attribute from the website (http://dota2.gamepedia.com/Table_of_hero_attributes)"
   ]
  },
  {
   "cell_type": "code",
   "execution_count": 1,
   "metadata": {
    "collapsed": true
   },
   "outputs": [],
   "source": [
    "import requests\n",
    "import pandas as pd\n",
    "from bs4 import BeautifulSoup\n",
    "import numpy as np\n",
    "import json\n",
    "from sklearn import cross_validation, linear_model\n",
    "import dota2api as d2\n",
    "import matplotlib.pyplot as plt\n",
    "from sklearn.ensemble import RandomForestClassifier\n",
    "\n",
    "\n",
    "%matplotlib inline"
   ]
  },
  {
   "cell_type": "markdown",
   "metadata": {},
   "source": [
    "### Get Heroes Features table"
   ]
  },
  {
   "cell_type": "code",
   "execution_count": 2,
   "metadata": {
    "collapsed": false
   },
   "outputs": [],
   "source": [
    "url = 'http://dota2.gamepedia.com/Table_of_hero_attributes'\n",
    "d2 = requests.get(url)"
   ]
  },
  {
   "cell_type": "code",
   "execution_count": 3,
   "metadata": {
    "collapsed": false
   },
   "outputs": [],
   "source": [
    "soup = BeautifulSoup(d2.content)"
   ]
  },
  {
   "cell_type": "code",
   "execution_count": 4,
   "metadata": {
    "collapsed": true
   },
   "outputs": [],
   "source": [
    "table = soup.find('table', attrs={'class':'wikitable'})"
   ]
  },
  {
   "cell_type": "code",
   "execution_count": 98,
   "metadata": {
    "collapsed": false
   },
   "outputs": [],
   "source": [
    "headings = [th.get_text().strip() for th in table.find(\"tr\").find_all(\"th\")]"
   ]
  },
  {
   "cell_type": "code",
   "execution_count": 126,
   "metadata": {
    "collapsed": false
   },
   "outputs": [],
   "source": [
    "datasets=[]\n",
    "att =[]\n",
    "\n",
    "for row in table.find_all(\"tr\")[1:]:\n",
    "    datasets.append([td.get_text().strip() for td in row.find_all(\"td\")])\n",
    "\n",
    "    for td in row.find_all('td')[1:2]:\n",
    "        for a in td.find_all('a'):\n",
    "            att.append(a['title'])"
   ]
  },
  {
   "cell_type": "code",
   "execution_count": 128,
   "metadata": {
    "collapsed": false
   },
   "outputs": [],
   "source": [
    "datasets_np = np.array(datasets)"
   ]
  },
  {
   "cell_type": "code",
   "execution_count": 129,
   "metadata": {
    "collapsed": false
   },
   "outputs": [],
   "source": [
    "datasets_np[:,1] = att"
   ]
  },
  {
   "cell_type": "code",
   "execution_count": 130,
   "metadata": {
    "collapsed": false
   },
   "outputs": [],
   "source": [
    "df = pd.DataFrame(datasets_np, columns=headings)"
   ]
  },
  {
   "cell_type": "code",
   "execution_count": 131,
   "metadata": {
    "collapsed": false,
    "scrolled": true
   },
   "outputs": [
    {
     "data": {
      "text/plain": [
       "u'Arc Warden'"
      ]
     },
     "execution_count": 131,
     "metadata": {},
     "output_type": "execute_result"
    }
   ],
   "source": [
    "df['HERO'][4]"
   ]
  },
  {
   "cell_type": "code",
   "execution_count": 146,
   "metadata": {
    "collapsed": false
   },
   "outputs": [],
   "source": [
    "df = df[df['HERO'] != 'Arc Warden']"
   ]
  },
  {
   "cell_type": "code",
   "execution_count": 151,
   "metadata": {
    "collapsed": true
   },
   "outputs": [],
   "source": [
    "df.to_csv('file/hero_attributes', sep='t')    "
   ]
  },
  {
   "cell_type": "markdown",
   "metadata": {},
   "source": [
    "### EDA\n",
    "1. Missing Data:\n",
    "- Only consider 10 human player match. The other type might have missing data\n",
    "- There were extra features in captain mode, it won't be consider here.\n"
   ]
  },
  {
   "cell_type": "code",
   "execution_count": 2,
   "metadata": {
    "collapsed": false
   },
   "outputs": [
    {
     "data": {
      "text/plain": [
       "u'/home/ubuntu/repo/dsi/DOTA2_Recommendation-System/notebook'"
      ]
     },
     "execution_count": 2,
     "metadata": {},
     "output_type": "execute_result"
    }
   ],
   "source": [
    "pwd"
   ]
  },
  {
   "cell_type": "code",
   "execution_count": 3,
   "metadata": {
    "collapsed": false
   },
   "outputs": [
    {
     "name": "stdout",
     "output_type": "stream",
     "text": [
      "/home/ubuntu/repo/dsi/DOTA2_Recommendation-System\n"
     ]
    }
   ],
   "source": [
    "cd .."
   ]
  },
  {
   "cell_type": "code",
   "execution_count": 4,
   "metadata": {
    "collapsed": false
   },
   "outputs": [],
   "source": [
    "import data_pipeline.data_clean as d_clean"
   ]
  },
  {
   "cell_type": "code",
   "execution_count": 5,
   "metadata": {
    "collapsed": false
   },
   "outputs": [],
   "source": [
    "df = d_clean.json_to_df(sample=100)"
   ]
  },
  {
   "cell_type": "code",
   "execution_count": 6,
   "metadata": {
    "collapsed": true
   },
   "outputs": [],
   "source": [
    "df = d_clean.qualify_matches(df)"
   ]
  },
  {
   "cell_type": "code",
   "execution_count": 7,
   "metadata": {
    "collapsed": false
   },
   "outputs": [
    {
     "name": "stdout",
     "output_type": "stream",
     "text": [
      "<class 'pandas.core.frame.DataFrame'>\n",
      "Int64Index: 9715 entries, 0 to 9999\n",
      "Data columns (total 36 columns):\n",
      "barracks_status_dire       9715 non-null int64\n",
      "barracks_status_radiant    9715 non-null int64\n",
      "cluster                    9715 non-null int64\n",
      "dire_captain               100 non-null float64\n",
      "dire_guild_id              1 non-null float64\n",
      "dire_guild_logo            1 non-null float64\n",
      "dire_guild_name            1 non-null object\n",
      "dire_logo                  8 non-null float64\n",
      "dire_name                  8 non-null object\n",
      "dire_team_complete         8 non-null float64\n",
      "dire_team_id               8 non-null float64\n",
      "duration                   9715 non-null int64\n",
      "engine                     9715 non-null int64\n",
      "first_blood_time           9715 non-null int64\n",
      "game_mode                  9715 non-null int64\n",
      "human_players              9715 non-null int64\n",
      "leagueid                   9715 non-null int64\n",
      "lobby_type                 9715 non-null int64\n",
      "match_id                   9715 non-null int64\n",
      "match_seq_num              9715 non-null int64\n",
      "negative_votes             9715 non-null int64\n",
      "picks_bans                 100 non-null object\n",
      "players                    9715 non-null object\n",
      "positive_votes             9715 non-null int64\n",
      "radiant_captain            100 non-null float64\n",
      "radiant_guild_id           1 non-null float64\n",
      "radiant_guild_logo         1 non-null float64\n",
      "radiant_guild_name         1 non-null object\n",
      "radiant_logo               9 non-null float64\n",
      "radiant_name               9 non-null object\n",
      "radiant_team_complete      9 non-null float64\n",
      "radiant_team_id            9 non-null float64\n",
      "radiant_win                9715 non-null bool\n",
      "start_time                 9715 non-null int64\n",
      "tower_status_dire          9715 non-null int64\n",
      "tower_status_radiant       9715 non-null int64\n",
      "dtypes: bool(1), float64(12), int64(17), object(6)\n",
      "memory usage: 2.7+ MB\n"
     ]
    }
   ],
   "source": [
    "df.info()"
   ]
  },
  {
   "cell_type": "code",
   "execution_count": 8,
   "metadata": {
    "collapsed": false
   },
   "outputs": [],
   "source": [
    "X, y = d_clean.matches_features(df)"
   ]
  },
  {
   "cell_type": "code",
   "execution_count": 9,
   "metadata": {
    "collapsed": false
   },
   "outputs": [
    {
     "name": "stdout",
     "output_type": "stream",
     "text": [
      "<class 'pandas.core.frame.DataFrame'>\n",
      "Int64Index: 9715 entries, 0 to 9714\n",
      "Columns: 224 entries, 0 to 223\n",
      "dtypes: int64(224)\n",
      "memory usage: 16.7 MB\n"
     ]
    }
   ],
   "source": [
    "X.info()"
   ]
  },
  {
   "cell_type": "code",
   "execution_count": 10,
   "metadata": {
    "collapsed": false
   },
   "outputs": [
    {
     "data": {
      "text/html": [
       "<div>\n",
       "<table border=\"1\" class=\"dataframe\">\n",
       "  <thead>\n",
       "    <tr style=\"text-align: right;\">\n",
       "      <th></th>\n",
       "      <th>0</th>\n",
       "      <th>1</th>\n",
       "      <th>2</th>\n",
       "      <th>3</th>\n",
       "      <th>4</th>\n",
       "      <th>5</th>\n",
       "      <th>6</th>\n",
       "      <th>7</th>\n",
       "      <th>8</th>\n",
       "      <th>9</th>\n",
       "      <th>...</th>\n",
       "      <th>214</th>\n",
       "      <th>215</th>\n",
       "      <th>216</th>\n",
       "      <th>217</th>\n",
       "      <th>218</th>\n",
       "      <th>219</th>\n",
       "      <th>220</th>\n",
       "      <th>221</th>\n",
       "      <th>222</th>\n",
       "      <th>223</th>\n",
       "    </tr>\n",
       "  </thead>\n",
       "  <tbody>\n",
       "    <tr>\n",
       "      <th>0</th>\n",
       "      <td>0</td>\n",
       "      <td>0</td>\n",
       "      <td>0</td>\n",
       "      <td>0</td>\n",
       "      <td>0</td>\n",
       "      <td>0</td>\n",
       "      <td>0</td>\n",
       "      <td>0</td>\n",
       "      <td>0</td>\n",
       "      <td>0</td>\n",
       "      <td>...</td>\n",
       "      <td>0</td>\n",
       "      <td>0</td>\n",
       "      <td>0</td>\n",
       "      <td>0</td>\n",
       "      <td>0</td>\n",
       "      <td>0</td>\n",
       "      <td>0</td>\n",
       "      <td>0</td>\n",
       "      <td>0</td>\n",
       "      <td>1</td>\n",
       "    </tr>\n",
       "  </tbody>\n",
       "</table>\n",
       "<p>1 rows × 224 columns</p>\n",
       "</div>"
      ],
      "text/plain": [
       "   0    1    2    3    4    5    6    7    8    9   ...   214  215  216  217  \\\n",
       "0    0    0    0    0    0    0    0    0    0    0 ...     0    0    0    0   \n",
       "\n",
       "   218  219  220  221  222  223  \n",
       "0    0    0    0    0    0    1  \n",
       "\n",
       "[1 rows x 224 columns]"
      ]
     },
     "execution_count": 10,
     "metadata": {},
     "output_type": "execute_result"
    }
   ],
   "source": [
    "X.head(1)"
   ]
  },
  {
   "cell_type": "code",
   "execution_count": 11,
   "metadata": {
    "collapsed": false
   },
   "outputs": [],
   "source": [
    "X.columns =X.columns+1"
   ]
  },
  {
   "cell_type": "code",
   "execution_count": 12,
   "metadata": {
    "collapsed": false
   },
   "outputs": [
    {
     "data": {
      "text/plain": [
       "Int64Index([  1,   2,   3,   4,   5,   6,   7,   8,   9,  10,\n",
       "            ...\n",
       "            215, 216, 217, 218, 219, 220, 221, 222, 223, 224],\n",
       "           dtype='int64', length=224)"
      ]
     },
     "execution_count": 12,
     "metadata": {},
     "output_type": "execute_result"
    }
   ],
   "source": [
    "X.columns"
   ]
  },
  {
   "cell_type": "code",
   "execution_count": 13,
   "metadata": {
    "collapsed": false
   },
   "outputs": [],
   "source": [
    "X_sum = X.apply(sum)"
   ]
  },
  {
   "cell_type": "code",
   "execution_count": 14,
   "metadata": {
    "collapsed": false
   },
   "outputs": [],
   "source": [
    "X_delete = X_sum[X_sum==0]"
   ]
  },
  {
   "cell_type": "code",
   "execution_count": 15,
   "metadata": {
    "collapsed": false
   },
   "outputs": [
    {
     "data": {
      "text/plain": [
       "Int64Index([24, 108, 136, 220], dtype='int64')"
      ]
     },
     "execution_count": 15,
     "metadata": {},
     "output_type": "execute_result"
    }
   ],
   "source": [
    "X_delete.index"
   ]
  },
  {
   "cell_type": "code",
   "execution_count": 16,
   "metadata": {
    "collapsed": false
   },
   "outputs": [],
   "source": [
    "X_temp = X.drop(X.columns[[23, 107, 135, 219]], axis=1)"
   ]
  },
  {
   "cell_type": "code",
   "execution_count": 17,
   "metadata": {
    "collapsed": false
   },
   "outputs": [
    {
     "data": {
      "text/plain": [
       "Int64Index([  1,   2,   3,   4,   5,   6,   7,   8,   9,  10,\n",
       "            ...\n",
       "            214, 215, 216, 217, 218, 219, 221, 222, 223, 224],\n",
       "           dtype='int64', length=220)"
      ]
     },
     "execution_count": 17,
     "metadata": {},
     "output_type": "execute_result"
    }
   ],
   "source": [
    "X_temp.columns"
   ]
  },
  {
   "cell_type": "code",
   "execution_count": 18,
   "metadata": {
    "collapsed": false
   },
   "outputs": [
    {
     "data": {
      "text/plain": [
       "58"
      ]
     },
     "execution_count": 18,
     "metadata": {},
     "output_type": "execute_result"
    }
   ],
   "source": [
    "X_temp.apply(sum).min()"
   ]
  },
  {
   "cell_type": "code",
   "execution_count": 19,
   "metadata": {
    "collapsed": false
   },
   "outputs": [],
   "source": [
    "X = X_temp"
   ]
  },
  {
   "cell_type": "code",
   "execution_count": 20,
   "metadata": {
    "collapsed": false
   },
   "outputs": [
    {
     "name": "stdout",
     "output_type": "stream",
     "text": [
      "<class 'pandas.core.frame.DataFrame'>\n",
      "Int64Index: 9715 entries, 0 to 9714\n",
      "Columns: 220 entries, 1 to 224\n",
      "dtypes: int64(220)\n",
      "memory usage: 16.4 MB\n"
     ]
    }
   ],
   "source": [
    "X.info()"
   ]
  },
  {
   "cell_type": "code",
   "execution_count": 21,
   "metadata": {
    "collapsed": true
   },
   "outputs": [],
   "source": [
    "X_sum = X.apply(sum)"
   ]
  },
  {
   "cell_type": "code",
   "execution_count": 22,
   "metadata": {
    "collapsed": false
   },
   "outputs": [
    {
     "name": "stderr",
     "output_type": "stream",
     "text": [
      "/home/ubuntu/anaconda2/lib/python2.7/site-packages/ipykernel/__main__.py:1: FutureWarning: sort is deprecated, use sort_values(inplace=True) for for INPLACE sorting\n",
      "  if __name__ == '__main__':\n"
     ]
    }
   ],
   "source": [
    "X_sum.sort(ascending=False)"
   ]
  },
  {
   "cell_type": "code",
   "execution_count": 23,
   "metadata": {
    "collapsed": false
   },
   "outputs": [
    {
     "data": {
      "text/plain": [
       "133    1749\n",
       "21     1659\n",
       "11     1540\n",
       "14     1409\n",
       "123    1398\n",
       "126    1360\n",
       "8      1182\n",
       "120    1168\n",
       "119    1149\n",
       "7      1146\n",
       "44     1045\n",
       "156    1039\n",
       "74      939\n",
       "104     916\n",
       "186     909\n",
       "185     909\n",
       "32      891\n",
       "216     880\n",
       "144     867\n",
       "73      867\n",
       "dtype: int64"
      ]
     },
     "execution_count": 23,
     "metadata": {},
     "output_type": "execute_result"
    }
   ],
   "source": [
    "X_sum[:20]"
   ]
  },
  {
   "cell_type": "code",
   "execution_count": 24,
   "metadata": {
    "collapsed": false
   },
   "outputs": [],
   "source": [
    "hero_pop_id = X_sum.index[:20]"
   ]
  },
  {
   "cell_type": "code",
   "execution_count": 35,
   "metadata": {
    "collapsed": true
   },
   "outputs": [],
   "source": [
    "hero_pop_name_rad = []\n",
    "hero_pop_name_dia = []\n",
    "for i in hero_pop_id:\n",
    "    if i <= 112:\n",
    "        hero_pop_name_rad.append(heroes_df[heroes_df['id']==i].localized_name)\n",
    "    else:\n",
    "        hero_pop_name_dia.append(heroes_df[heroes_df['id']==i-112].localized_name)"
   ]
  },
  {
   "cell_type": "code",
   "execution_count": 36,
   "metadata": {
    "collapsed": false
   },
   "outputs": [
    {
     "data": {
      "text/plain": [
       "[20    Windranger\n",
       " Name: localized_name, dtype: object, 9    Shadow Fiend\n",
       " Name: localized_name, dtype: object, 13    Pudge\n",
       " Name: localized_name, dtype: object, 7    Juggernaut\n",
       " Name: localized_name, dtype: object, 6    Earthshaker\n",
       " Name: localized_name, dtype: object, 42    Phantom Assassin\n",
       " Name: localized_name, dtype: object, 72    Invoker\n",
       " Name: localized_name, dtype: object, 102    Legion Commander\n",
       " Name: localized_name, dtype: object, 30    Riki\n",
       " Name: localized_name, dtype: object, 71    Alchemist\n",
       " Name: localized_name, dtype: object]"
      ]
     },
     "execution_count": 36,
     "metadata": {},
     "output_type": "execute_result"
    }
   ],
   "source": [
    "hero_pop_name_rad"
   ]
  },
  {
   "cell_type": "code",
   "execution_count": 37,
   "metadata": {
    "collapsed": false
   },
   "outputs": [
    {
     "data": {
      "text/plain": [
       "[20    Windranger\n",
       " Name: localized_name, dtype: object, 9    Shadow Fiend\n",
       " Name: localized_name, dtype: object, 13    Pudge\n",
       " Name: localized_name, dtype: object, 7    Juggernaut\n",
       " Name: localized_name, dtype: object, 6    Earthshaker\n",
       " Name: localized_name, dtype: object, 42    Phantom Assassin\n",
       " Name: localized_name, dtype: object, 72    Invoker\n",
       " Name: localized_name, dtype: object, 71    Alchemist\n",
       " Name: localized_name, dtype: object, 102    Legion Commander\n",
       " Name: localized_name, dtype: object, 30    Riki\n",
       " Name: localized_name, dtype: object]"
      ]
     },
     "execution_count": 37,
     "metadata": {},
     "output_type": "execute_result"
    }
   ],
   "source": [
    "hero_pop_name_dia"
   ]
  },
  {
   "cell_type": "markdown",
   "metadata": {},
   "source": [
    "#### Summary:\n",
    " - delete two heroes id doesn't exist, it could be done in data preprocessing\n",
    " - Use updated matrix in the prediction"
   ]
  },
  {
   "cell_type": "code",
   "execution_count": 38,
   "metadata": {
    "collapsed": false
   },
   "outputs": [
    {
     "data": {
      "text/plain": [
       "(9715, 220)"
      ]
     },
     "execution_count": 38,
     "metadata": {},
     "output_type": "execute_result"
    }
   ],
   "source": [
    "X.shape"
   ]
  },
  {
   "cell_type": "code",
   "execution_count": 39,
   "metadata": {
    "collapsed": false
   },
   "outputs": [
    {
     "data": {
      "text/plain": [
       "(9715,)"
      ]
     },
     "execution_count": 39,
     "metadata": {},
     "output_type": "execute_result"
    }
   ],
   "source": [
    "y.shape"
   ]
  },
  {
   "cell_type": "code",
   "execution_count": 40,
   "metadata": {
    "collapsed": false
   },
   "outputs": [],
   "source": [
    "X_train, X_test, y_train, y_test = cross_validation.train_test_split(X, y, test_size=0.9)"
   ]
  },
  {
   "cell_type": "code",
   "execution_count": 41,
   "metadata": {
    "collapsed": true
   },
   "outputs": [],
   "source": [
    "clf_lgit = linear_model.LogisticRegression()"
   ]
  },
  {
   "cell_type": "code",
   "execution_count": 42,
   "metadata": {
    "collapsed": false
   },
   "outputs": [
    {
     "data": {
      "text/plain": [
       "array([ 0.55384615,  0.56923077,  0.56701031,  0.50515464,  0.58549223])"
      ]
     },
     "execution_count": 42,
     "metadata": {},
     "output_type": "execute_result"
    }
   ],
   "source": [
    "cross_validation.cross_val_score(clf_lgit,X_train, y_train, cv=5)"
   ]
  },
  {
   "cell_type": "code",
   "execution_count": 43,
   "metadata": {
    "collapsed": false
   },
   "outputs": [
    {
     "data": {
      "text/plain": [
       "LogisticRegression(C=1.0, class_weight=None, dual=False, fit_intercept=True,\n",
       "          intercept_scaling=1, max_iter=100, multi_class='ovr', n_jobs=1,\n",
       "          penalty='l2', random_state=None, solver='liblinear', tol=0.0001,\n",
       "          verbose=0, warm_start=False)"
      ]
     },
     "execution_count": 43,
     "metadata": {},
     "output_type": "execute_result"
    }
   ],
   "source": [
    "clf_lgit.fit(X_train, y_train)"
   ]
  },
  {
   "cell_type": "code",
   "execution_count": 44,
   "metadata": {
    "collapsed": false
   },
   "outputs": [],
   "source": [
    "lgit_coef = clf_lgit.coef_"
   ]
  },
  {
   "cell_type": "code",
   "execution_count": 45,
   "metadata": {
    "collapsed": false
   },
   "outputs": [
    {
     "data": {
      "text/plain": [
       "(1, 220)"
      ]
     },
     "execution_count": 45,
     "metadata": {},
     "output_type": "execute_result"
    }
   ],
   "source": [
    "lgit_coef.shape"
   ]
  },
  {
   "cell_type": "code",
   "execution_count": 46,
   "metadata": {
    "collapsed": false
   },
   "outputs": [
    {
     "data": {
      "text/plain": [
       "108"
      ]
     },
     "execution_count": 46,
     "metadata": {},
     "output_type": "execute_result"
    }
   ],
   "source": [
    "np.argmax(lgit_coef[0])"
   ]
  },
  {
   "cell_type": "code",
   "execution_count": 50,
   "metadata": {
    "collapsed": false
   },
   "outputs": [
    {
     "data": {
      "text/plain": [
       "1.1282473751961479"
      ]
     },
     "execution_count": 50,
     "metadata": {},
     "output_type": "execute_result"
    }
   ],
   "source": [
    "lgit_coef[0][108]"
   ]
  },
  {
   "cell_type": "code",
   "execution_count": 52,
   "metadata": {
    "collapsed": false
   },
   "outputs": [
    {
     "data": {
      "text/plain": [
       "array([-0.52870201,  0.6163506 , -0.0587006 ,  0.2341668 ,  0.26000573,\n",
       "       -0.18579704,  0.27434046, -0.16223665,  0.45425061, -1.20583622,\n",
       "       -0.10166066, -0.2399234 ,  0.39816525,  0.07628064, -0.04610872,\n",
       "        0.28080203, -0.57040252, -0.03140006, -0.00253736,  0.086976  ,\n",
       "       -0.06894919,  0.34731554,  0.52515853, -0.19341738,  0.35382741,\n",
       "        0.17710438, -0.01434613,  0.75774921,  0.18943232,  0.46705415,\n",
       "        0.46870767, -0.43344516,  0.11842902, -0.30297552,  0.46276033,\n",
       "        0.26876514, -0.49211659, -0.66160476,  0.11736965, -0.17125105,\n",
       "        0.50090481,  0.24272329,  0.03041913, -0.53391669, -0.30204574,\n",
       "        0.12694257,  0.04730296,  0.55606683, -0.3255795 ,  0.23700577,\n",
       "       -0.18368891, -0.37411746, -0.27010607, -0.43598791, -0.16413498,\n",
       "       -0.01482596, -0.28590108, -0.16920838,  0.38176099, -0.94693283,\n",
       "        0.12276545,  0.11779374,  0.66879691, -0.44900306,  0.53244501,\n",
       "        0.71479837,  0.16474162,  0.05286256,  0.04745959,  0.22897454,\n",
       "       -0.01260272, -0.25981267, -0.06574939, -0.24910257, -0.91333013,\n",
       "       -0.36526126, -0.46573643,  0.06342247, -0.49508922,  0.86887181,\n",
       "       -0.02592789,  0.59224184, -0.22640731,  0.17294959,  0.34123196,\n",
       "       -0.44907466, -0.19345733, -0.56682219,  0.73905617, -0.38679345,\n",
       "        0.68467091, -0.02720152, -0.3505406 ,  0.23162272,  0.36697341,\n",
       "       -0.35584309, -0.91388193, -0.21435367,  0.22986434, -0.25823783,\n",
       "        0.24765626, -0.45238883,  0.37411128, -0.19140194, -0.37908644,\n",
       "       -0.23579257,  0.52762433,  0.03512643,  1.12824738, -0.0254363 ])"
      ]
     },
     "execution_count": 52,
     "metadata": {},
     "output_type": "execute_result"
    }
   ],
   "source": [
    "lgit_coef[0][:110]"
   ]
  },
  {
   "cell_type": "code",
   "execution_count": 53,
   "metadata": {
    "collapsed": false
   },
   "outputs": [
    {
     "data": {
      "text/plain": [
       "array([-0.24987788, -0.05284231, -0.14664745, -0.31226795,  0.05337615,\n",
       "        0.28046604,  0.10065281, -0.4125716 , -0.40013192,  0.03877261,\n",
       "       -0.02166151,  0.29953087,  0.30471751,  0.09833867,  0.07843367,\n",
       "        0.20040942,  0.34302121,  0.13782525,  0.10537193,  0.12823541,\n",
       "       -0.14997235, -0.48721794,  0.46750065,  0.37254214, -0.38244776,\n",
       "        0.02837457,  0.01895218,  0.03041116, -0.09578147, -0.54296718,\n",
       "        0.05638939, -0.20078123,  0.50293612,  0.10009229, -0.47760618,\n",
       "       -0.82010539, -0.6596078 ,  0.31725468, -0.01800856, -0.25343872,\n",
       "       -0.44931573, -0.03222735,  0.64425736,  0.28647165, -0.19877898,\n",
       "       -0.19232841, -0.13660101,  0.76389066,  0.00719104,  0.04434256,\n",
       "        0.12550807,  0.56693264,  0.25995263,  0.31825716,  0.10710971,\n",
       "       -0.90775254,  0.25509864,  0.5667826 ,  0.8897012 ,  0.52667424,\n",
       "       -0.14306892,  0.02366361, -0.42121501,  0.03059159, -0.08786413,\n",
       "       -0.47015632, -0.20516368, -0.46075762, -0.77957616, -0.57271935,\n",
       "       -0.16258575,  0.13894765, -0.00592328,  0.05010386,  0.03465293,\n",
       "       -0.84394298,  0.35693629, -0.35813542,  0.81453112, -0.19848309,\n",
       "       -0.11078714, -0.60214263, -0.5861919 , -0.83099263,  0.11093044,\n",
       "       -0.63006621, -0.04812044,  0.33987665,  0.69581967,  0.74520035,\n",
       "        0.02478144,  0.38276987, -0.17593451, -0.27170769, -0.45381723,\n",
       "        0.31927837,  0.57231795,  0.36344638, -0.16841258, -0.45156402,\n",
       "       -0.07836324, -0.86672298,  0.20450668,  0.54473475,  0.36858658,\n",
       "       -0.05811018,  0.75416508,  0.13181987,  0.89084981,  0.3741716 ])"
      ]
     },
     "execution_count": 53,
     "metadata": {},
     "output_type": "execute_result"
    }
   ],
   "source": [
    "lgit_coef[0][110:]"
   ]
  },
  {
   "cell_type": "code",
   "execution_count": 47,
   "metadata": {
    "collapsed": false
   },
   "outputs": [
    {
     "data": {
      "text/plain": [
       "array([ 0.5025641 ,  0.44615385,  0.46907216,  0.5       ,  0.50259067])"
      ]
     },
     "execution_count": 47,
     "metadata": {},
     "output_type": "execute_result"
    }
   ],
   "source": [
    "# Check random_forest\n",
    "clf_rf = RandomForestClassifier(n_estimators=5000, min_samples_leaf=50, oob_score=True, n_jobs=-1, random_state=50)\n",
    "cross_validation.cross_val_score(clf_rf, X_train, y_train, cv=5)"
   ]
  },
  {
   "cell_type": "markdown",
   "metadata": {
    "collapsed": true
   },
   "source": [
    "### Hero Recommendation based on the winning probablity"
   ]
  },
  {
   "cell_type": "code",
   "execution_count": null,
   "metadata": {
    "collapsed": true
   },
   "outputs": [],
   "source": [
    "# Providing a bunch of heroes, find the largest winning probability of Hero combination\n",
    "\n",
    "## Input\n",
    "chosen_heroes_rad = [1, 2]\n",
    "chosen_heroes_dia = [28, 99]\n",
    "\n",
    "## Output\n",
    "suggest_heroes_rad =[]\n",
    "suggest_heroes_dia=[]"
   ]
  },
  {
   "cell_type": "code",
   "execution_count": null,
   "metadata": {
    "collapsed": true
   },
   "outputs": [],
   "source": []
  },
  {
   "cell_type": "code",
   "execution_count": 25,
   "metadata": {
    "collapsed": true
   },
   "outputs": [],
   "source": [
    "api = d2.Initialise()"
   ]
  },
  {
   "cell_type": "code",
   "execution_count": 26,
   "metadata": {
    "collapsed": false
   },
   "outputs": [],
   "source": [
    "heroes = api.get_heroes()"
   ]
  },
  {
   "cell_type": "code",
   "execution_count": 27,
   "metadata": {
    "collapsed": false
   },
   "outputs": [
    {
     "data": {
      "text/plain": [
       "dota2api.src.response.Dota2Dict"
      ]
     },
     "execution_count": 27,
     "metadata": {},
     "output_type": "execute_result"
    }
   ],
   "source": [
    "type(heroes)"
   ]
  },
  {
   "cell_type": "code",
   "execution_count": 28,
   "metadata": {
    "collapsed": false
   },
   "outputs": [
    {
     "data": {
      "text/plain": [
       "[u'status', u'count', u'heroes']"
      ]
     },
     "execution_count": 28,
     "metadata": {},
     "output_type": "execute_result"
    }
   ],
   "source": [
    "heroes.keys()"
   ]
  },
  {
   "cell_type": "code",
   "execution_count": 29,
   "metadata": {
    "collapsed": false
   },
   "outputs": [],
   "source": [
    "heroes_df = pd.DataFrame(heroes['heroes'])"
   ]
  },
  {
   "cell_type": "code",
   "execution_count": 30,
   "metadata": {
    "collapsed": false
   },
   "outputs": [
    {
     "name": "stdout",
     "output_type": "stream",
     "text": [
      "<class 'pandas.core.frame.DataFrame'>\n",
      "Int64Index: 111 entries, 0 to 110\n",
      "Data columns (total 3 columns):\n",
      "id                111 non-null int64\n",
      "localized_name    111 non-null object\n",
      "name              111 non-null object\n",
      "dtypes: int64(1), object(2)\n",
      "memory usage: 3.5+ KB\n"
     ]
    }
   ],
   "source": [
    "heroes_df.info()"
   ]
  },
  {
   "cell_type": "code",
   "execution_count": 31,
   "metadata": {
    "collapsed": false
   },
   "outputs": [
    {
     "data": {
      "text/html": [
       "<div>\n",
       "<table border=\"1\" class=\"dataframe\">\n",
       "  <thead>\n",
       "    <tr style=\"text-align: right;\">\n",
       "      <th></th>\n",
       "      <th>id</th>\n",
       "      <th>localized_name</th>\n",
       "      <th>name</th>\n",
       "    </tr>\n",
       "  </thead>\n",
       "  <tbody>\n",
       "    <tr>\n",
       "      <th>0</th>\n",
       "      <td>1</td>\n",
       "      <td>Anti-Mage</td>\n",
       "      <td>npc_dota_hero_antimage</td>\n",
       "    </tr>\n",
       "  </tbody>\n",
       "</table>\n",
       "</div>"
      ],
      "text/plain": [
       "   id localized_name                    name\n",
       "0   1      Anti-Mage  npc_dota_hero_antimage"
      ]
     },
     "execution_count": 31,
     "metadata": {},
     "output_type": "execute_result"
    }
   ],
   "source": [
    "heroes_df.head(1)"
   ]
  },
  {
   "cell_type": "code",
   "execution_count": 32,
   "metadata": {
    "collapsed": false
   },
   "outputs": [
    {
     "name": "stdout",
     "output_type": "stream",
     "text": [
      "24\n",
      "108\n"
     ]
    }
   ],
   "source": [
    "for i in range(1,114):\n",
    "    if (heroes_df['id']==i).any():\n",
    "        pass\n",
    "    else:\n",
    "        print i"
   ]
  },
  {
   "cell_type": "code",
   "execution_count": 33,
   "metadata": {
    "collapsed": false
   },
   "outputs": [
    {
     "data": {
      "text/html": [
       "<div>\n",
       "<table border=\"1\" class=\"dataframe\">\n",
       "  <thead>\n",
       "    <tr style=\"text-align: right;\">\n",
       "      <th></th>\n",
       "      <th>id</th>\n",
       "      <th>localized_name</th>\n",
       "      <th>name</th>\n",
       "    </tr>\n",
       "  </thead>\n",
       "  <tbody>\n",
       "    <tr>\n",
       "      <th>100</th>\n",
       "      <td>102</td>\n",
       "      <td>Abaddon</td>\n",
       "      <td>npc_dota_hero_abaddon</td>\n",
       "    </tr>\n",
       "  </tbody>\n",
       "</table>\n",
       "</div>"
      ],
      "text/plain": [
       "      id localized_name                   name\n",
       "100  102        Abaddon  npc_dota_hero_abaddon"
      ]
     },
     "execution_count": 33,
     "metadata": {},
     "output_type": "execute_result"
    }
   ],
   "source": [
    "heroes_df[heroes_df['id']==101+1]"
   ]
  },
  {
   "cell_type": "code",
   "execution_count": 34,
   "metadata": {
    "collapsed": false
   },
   "outputs": [
    {
     "data": {
      "text/html": [
       "<div>\n",
       "<table border=\"1\" class=\"dataframe\">\n",
       "  <thead>\n",
       "    <tr style=\"text-align: right;\">\n",
       "      <th></th>\n",
       "      <th>id</th>\n",
       "      <th>localized_name</th>\n",
       "      <th>name</th>\n",
       "    </tr>\n",
       "  </thead>\n",
       "  <tbody>\n",
       "    <tr>\n",
       "      <th>20</th>\n",
       "      <td>21</td>\n",
       "      <td>Windranger</td>\n",
       "      <td>npc_dota_hero_windrunner</td>\n",
       "    </tr>\n",
       "  </tbody>\n",
       "</table>\n",
       "</div>"
      ],
      "text/plain": [
       "    id localized_name                      name\n",
       "20  21     Windranger  npc_dota_hero_windrunner"
      ]
     },
     "execution_count": 34,
     "metadata": {},
     "output_type": "execute_result"
    }
   ],
   "source": [
    "heroes_df[heroes_df['id']==21]"
   ]
  },
  {
   "cell_type": "code",
   "execution_count": 205,
   "metadata": {
    "collapsed": true
   },
   "outputs": [],
   "source": [
    "heroes_df.to_csv('file/hero_id_list.csv',sep=',')"
   ]
  },
  {
   "cell_type": "code",
   "execution_count": null,
   "metadata": {
    "collapsed": true
   },
   "outputs": [],
   "source": []
  }
 ],
 "metadata": {
  "kernelspec": {
   "display_name": "Python 2",
   "language": "python",
   "name": "python2"
  },
  "language_info": {
   "codemirror_mode": {
    "name": "ipython",
    "version": 2
   },
   "file_extension": ".py",
   "mimetype": "text/x-python",
   "name": "python",
   "nbconvert_exporter": "python",
   "pygments_lexer": "ipython2",
   "version": "2.7.11"
  }
 },
 "nbformat": 4,
 "nbformat_minor": 0
}
